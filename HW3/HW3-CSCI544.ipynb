{
 "cells": [
  {
   "cell_type": "code",
   "execution_count": 2,
   "id": "6864c786",
   "metadata": {},
   "outputs": [],
   "source": [
    "import numpy as np\n",
    "import pandas as pd"
   ]
  },
  {
   "cell_type": "code",
   "execution_count": 22,
   "id": "0ac88f65",
   "metadata": {},
   "outputs": [],
   "source": [
    "### Read in data:\n",
    "tr_headers = [\"index\", \"word\", \"pos_tag\"]\n",
    "train_df = pd.read_csv(\"./data/train\", sep=\"\\t\", header=None)\n",
    "train_df.columns = tr_headers\n",
    "\n",
    "dev_df = pd.read_csv(\"./data/dev\", sep=\"\\t\", header=None)\n",
    "dev_df.columns = tr_headers\n",
    "\n",
    "test_headers = [\"index\", \"word\"]\n",
    "test_df = pd.read_csv(\"./data/test\", sep=\"\\t\", header=None)\n",
    "test_df.columns = test_headers"
   ]
  },
  {
   "cell_type": "code",
   "execution_count": 29,
   "id": "1ec69c81",
   "metadata": {},
   "outputs": [
    {
     "data": {
      "text/plain": [
       "0          1\n",
       "1          2\n",
       "2          3\n",
       "3          4\n",
       "4          5\n",
       "          ..\n",
       "912090    22\n",
       "912091    23\n",
       "912092    24\n",
       "912093    25\n",
       "912094    26\n",
       "Name: index, Length: 912095, dtype: int64"
      ]
     },
     "execution_count": 29,
     "metadata": {},
     "output_type": "execute_result"
    }
   ],
   "source": []
  },
  {
   "cell_type": "markdown",
   "id": "d91000ef",
   "metadata": {},
   "source": [
    "### 1) Vocabulary Creation:"
   ]
  },
  {
   "cell_type": "code",
   "execution_count": 34,
   "id": "c2da6635",
   "metadata": {},
   "outputs": [
    {
     "name": "stdout",
     "output_type": "stream",
     "text": [
      "true\n"
     ]
    },
    {
     "data": {
      "text/plain": [
       "{('poo', 1): 1}"
      ]
     },
     "execution_count": 34,
     "metadata": {},
     "output_type": "execute_result"
    }
   ],
   "source": [
    "cnt_fake = {}\n",
    "cnt_fake[(\"poo\",1)] = 1\n",
    "if (\"poo\", 1) in cnt_fake:\n",
    "    print(\"true\")\n",
    "cnt_fake"
   ]
  },
  {
   "cell_type": "code",
   "execution_count": 41,
   "id": "b3b955d7",
   "metadata": {},
   "outputs": [
    {
     "data": {
      "text/html": [
       "<div>\n",
       "<style scoped>\n",
       "    .dataframe tbody tr th:only-of-type {\n",
       "        vertical-align: middle;\n",
       "    }\n",
       "\n",
       "    .dataframe tbody tr th {\n",
       "        vertical-align: top;\n",
       "    }\n",
       "\n",
       "    .dataframe thead th {\n",
       "        text-align: right;\n",
       "    }\n",
       "</style>\n",
       "<table border=\"1\" class=\"dataframe\">\n",
       "  <thead>\n",
       "    <tr style=\"text-align: right;\">\n",
       "      <th></th>\n",
       "      <th>index</th>\n",
       "      <th>word</th>\n",
       "      <th>pos_tag</th>\n",
       "    </tr>\n",
       "  </thead>\n",
       "  <tbody>\n",
       "    <tr>\n",
       "      <th>0</th>\n",
       "      <td>1</td>\n",
       "      <td>Pierre</td>\n",
       "      <td>NNP</td>\n",
       "    </tr>\n",
       "    <tr>\n",
       "      <th>1</th>\n",
       "      <td>2</td>\n",
       "      <td>Vinken</td>\n",
       "      <td>NNP</td>\n",
       "    </tr>\n",
       "    <tr>\n",
       "      <th>2</th>\n",
       "      <td>3</td>\n",
       "      <td>,</td>\n",
       "      <td>,</td>\n",
       "    </tr>\n",
       "    <tr>\n",
       "      <th>3</th>\n",
       "      <td>4</td>\n",
       "      <td>61</td>\n",
       "      <td>CD</td>\n",
       "    </tr>\n",
       "    <tr>\n",
       "      <th>4</th>\n",
       "      <td>5</td>\n",
       "      <td>years</td>\n",
       "      <td>NNS</td>\n",
       "    </tr>\n",
       "    <tr>\n",
       "      <th>...</th>\n",
       "      <td>...</td>\n",
       "      <td>...</td>\n",
       "      <td>...</td>\n",
       "    </tr>\n",
       "    <tr>\n",
       "      <th>912090</th>\n",
       "      <td>22</td>\n",
       "      <td>to</td>\n",
       "      <td>TO</td>\n",
       "    </tr>\n",
       "    <tr>\n",
       "      <th>912091</th>\n",
       "      <td>23</td>\n",
       "      <td>San</td>\n",
       "      <td>NNP</td>\n",
       "    </tr>\n",
       "    <tr>\n",
       "      <th>912092</th>\n",
       "      <td>24</td>\n",
       "      <td>Francisco</td>\n",
       "      <td>NNP</td>\n",
       "    </tr>\n",
       "    <tr>\n",
       "      <th>912093</th>\n",
       "      <td>25</td>\n",
       "      <td>instead</td>\n",
       "      <td>RB</td>\n",
       "    </tr>\n",
       "    <tr>\n",
       "      <th>912094</th>\n",
       "      <td>26</td>\n",
       "      <td>.</td>\n",
       "      <td>.</td>\n",
       "    </tr>\n",
       "  </tbody>\n",
       "</table>\n",
       "<p>912095 rows × 3 columns</p>\n",
       "</div>"
      ],
      "text/plain": [
       "        index       word pos_tag\n",
       "0           1     Pierre     NNP\n",
       "1           2     Vinken     NNP\n",
       "2           3          ,       ,\n",
       "3           4         61      CD\n",
       "4           5      years     NNS\n",
       "...       ...        ...     ...\n",
       "912090     22         to      TO\n",
       "912091     23        San     NNP\n",
       "912092     24  Francisco     NNP\n",
       "912093     25    instead      RB\n",
       "912094     26          .       .\n",
       "\n",
       "[912095 rows x 3 columns]"
      ]
     },
     "execution_count": 41,
     "metadata": {},
     "output_type": "execute_result"
    }
   ],
   "source": [
    "train_df"
   ]
  },
  {
   "cell_type": "code",
   "execution_count": 43,
   "id": "8b4ee203",
   "metadata": {},
   "outputs": [],
   "source": [
    "# Get the count of each word:\n",
    "cnt_d = {}\n",
    "for row in train_df.iterrows():\n",
    "    if (row[1][\"word\"], row[1][\"index\"]) in cnt_d:\n",
    "        cnt_d[(row[1][\"word\"], row[1][\"index\"])] += 1\n",
    "    else:\n",
    "        cnt_d[(row[1][\"word\"], row[1][\"index\"])] = 1"
   ]
  },
  {
   "cell_type": "code",
   "execution_count": 46,
   "id": "dfed3c26",
   "metadata": {},
   "outputs": [],
   "source": [
    "# Create unknown key:\n",
    "threshold = 3\n",
    "unknown_cnt = 0\n",
    "for k, v in cnt_d.items():\n",
    "    if v < threshold:\n",
    "        unknown_cnt += v\n",
    "    else:\n",
    "        continue\n",
    "cnt_d[\"< unk >\"] = unknown_cnt"
   ]
  },
  {
   "cell_type": "code",
   "execution_count": null,
   "id": "06df6c1c",
   "metadata": {},
   "outputs": [],
   "source": [
    "# Write to vocab text:\n"
   ]
  }
 ],
 "metadata": {
  "kernelspec": {
   "display_name": "Python 3",
   "language": "python",
   "name": "python3"
  },
  "language_info": {
   "codemirror_mode": {
    "name": "ipython",
    "version": 3
   },
   "file_extension": ".py",
   "mimetype": "text/x-python",
   "name": "python",
   "nbconvert_exporter": "python",
   "pygments_lexer": "ipython3",
   "version": "3.9.5"
  }
 },
 "nbformat": 4,
 "nbformat_minor": 5
}
