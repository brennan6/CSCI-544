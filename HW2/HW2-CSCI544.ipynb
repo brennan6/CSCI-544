{
 "cells": [
  {
   "cell_type": "code",
   "execution_count": 2,
   "id": "f672d342",
   "metadata": {},
   "outputs": [
    {
     "name": "stdout",
     "output_type": "stream",
     "text": [
      "3.9.5\n"
     ]
    }
   ],
   "source": [
    "import numpy as np\n",
    "import pandas as pd\n",
    "import re\n",
    "import nltk\n",
    "import sklearn\n",
    "import warnings\n",
    "from platform import python_version\n",
    "from sklearn.model_selection import train_test_split\n",
    "from nltk.corpus import stopwords\n",
    "from nltk.tokenize import word_tokenize\n",
    "from sklearn.linear_model import Perceptron\n",
    "from sklearn.svm import LinearSVC\n",
    "print(python_version())"
   ]
  },
  {
   "cell_type": "markdown",
   "id": "d9636fb1",
   "metadata": {},
   "source": [
    "### Read Data:"
   ]
  },
  {
   "cell_type": "code",
   "execution_count": 3,
   "id": "5856e286",
   "metadata": {},
   "outputs": [],
   "source": [
    "# Could not load it directly from the url:\n",
    "ratings_df = pd.read_csv(\"./amazon_reviews_us_Kitchen_v1_00.tsv\", sep=\"\\t\",\n",
    "                         error_bad_lines=False, warn_bad_lines=False)"
   ]
  },
  {
   "cell_type": "code",
   "execution_count": 4,
   "id": "d9ab946e",
   "metadata": {},
   "outputs": [
    {
     "data": {
      "text/html": [
       "<div>\n",
       "<style scoped>\n",
       "    .dataframe tbody tr th:only-of-type {\n",
       "        vertical-align: middle;\n",
       "    }\n",
       "\n",
       "    .dataframe tbody tr th {\n",
       "        vertical-align: top;\n",
       "    }\n",
       "\n",
       "    .dataframe thead th {\n",
       "        text-align: right;\n",
       "    }\n",
       "</style>\n",
       "<table border=\"1\" class=\"dataframe\">\n",
       "  <thead>\n",
       "    <tr style=\"text-align: right;\">\n",
       "      <th></th>\n",
       "      <th>marketplace</th>\n",
       "      <th>customer_id</th>\n",
       "      <th>review_id</th>\n",
       "      <th>product_id</th>\n",
       "      <th>product_parent</th>\n",
       "      <th>product_title</th>\n",
       "      <th>product_category</th>\n",
       "      <th>star_rating</th>\n",
       "      <th>helpful_votes</th>\n",
       "      <th>total_votes</th>\n",
       "      <th>vine</th>\n",
       "      <th>verified_purchase</th>\n",
       "      <th>review_headline</th>\n",
       "      <th>review_body</th>\n",
       "      <th>review_date</th>\n",
       "    </tr>\n",
       "  </thead>\n",
       "  <tbody>\n",
       "    <tr>\n",
       "      <th>0</th>\n",
       "      <td>US</td>\n",
       "      <td>37000337</td>\n",
       "      <td>R3DT59XH7HXR9K</td>\n",
       "      <td>B00303FI0G</td>\n",
       "      <td>529320574</td>\n",
       "      <td>Arthur Court Paper Towel Holder</td>\n",
       "      <td>Kitchen</td>\n",
       "      <td>5.0</td>\n",
       "      <td>0.0</td>\n",
       "      <td>0.0</td>\n",
       "      <td>N</td>\n",
       "      <td>Y</td>\n",
       "      <td>Beautiful. Looks great on counter</td>\n",
       "      <td>Beautiful.  Looks great on counter.</td>\n",
       "      <td>2015-08-31</td>\n",
       "    </tr>\n",
       "    <tr>\n",
       "      <th>1</th>\n",
       "      <td>US</td>\n",
       "      <td>15272914</td>\n",
       "      <td>R1LFS11BNASSU8</td>\n",
       "      <td>B00JCZKZN6</td>\n",
       "      <td>274237558</td>\n",
       "      <td>Olde Thompson Bavaria Glass Salt and Pepper Mi...</td>\n",
       "      <td>Kitchen</td>\n",
       "      <td>5.0</td>\n",
       "      <td>0.0</td>\n",
       "      <td>1.0</td>\n",
       "      <td>N</td>\n",
       "      <td>Y</td>\n",
       "      <td>Awesome &amp; Self-ness</td>\n",
       "      <td>I personally have 5 days sets and have also bo...</td>\n",
       "      <td>2015-08-31</td>\n",
       "    </tr>\n",
       "    <tr>\n",
       "      <th>2</th>\n",
       "      <td>US</td>\n",
       "      <td>36137863</td>\n",
       "      <td>R296RT05AG0AF6</td>\n",
       "      <td>B00JLIKA5C</td>\n",
       "      <td>544675303</td>\n",
       "      <td>Progressive International PL8 Professional Man...</td>\n",
       "      <td>Kitchen</td>\n",
       "      <td>5.0</td>\n",
       "      <td>0.0</td>\n",
       "      <td>0.0</td>\n",
       "      <td>N</td>\n",
       "      <td>Y</td>\n",
       "      <td>Fabulous and worth every penny</td>\n",
       "      <td>Fabulous and worth every penny. Used for clean...</td>\n",
       "      <td>2015-08-31</td>\n",
       "    </tr>\n",
       "    <tr>\n",
       "      <th>3</th>\n",
       "      <td>US</td>\n",
       "      <td>43311049</td>\n",
       "      <td>R3V37XDZ7ZCI3L</td>\n",
       "      <td>B000GBNB8G</td>\n",
       "      <td>491599489</td>\n",
       "      <td>Zyliss Jumbo Garlic Press</td>\n",
       "      <td>Kitchen</td>\n",
       "      <td>5.0</td>\n",
       "      <td>0.0</td>\n",
       "      <td>1.0</td>\n",
       "      <td>N</td>\n",
       "      <td>Y</td>\n",
       "      <td>Five Stars</td>\n",
       "      <td>A must if you love garlic on tomato marinara s...</td>\n",
       "      <td>2015-08-31</td>\n",
       "    </tr>\n",
       "    <tr>\n",
       "      <th>4</th>\n",
       "      <td>US</td>\n",
       "      <td>13763148</td>\n",
       "      <td>R14GU232NQFYX2</td>\n",
       "      <td>B00VJ5KX9S</td>\n",
       "      <td>353790155</td>\n",
       "      <td>1 X Premier Pizza Cutter - Stainless Steel 14\"...</td>\n",
       "      <td>Kitchen</td>\n",
       "      <td>5.0</td>\n",
       "      <td>0.0</td>\n",
       "      <td>0.0</td>\n",
       "      <td>N</td>\n",
       "      <td>Y</td>\n",
       "      <td>Better than sex</td>\n",
       "      <td>Worth every penny! Buy one now and be a pizza ...</td>\n",
       "      <td>2015-08-31</td>\n",
       "    </tr>\n",
       "  </tbody>\n",
       "</table>\n",
       "</div>"
      ],
      "text/plain": [
       "  marketplace  customer_id       review_id  product_id  product_parent  \\\n",
       "0          US     37000337  R3DT59XH7HXR9K  B00303FI0G       529320574   \n",
       "1          US     15272914  R1LFS11BNASSU8  B00JCZKZN6       274237558   \n",
       "2          US     36137863  R296RT05AG0AF6  B00JLIKA5C       544675303   \n",
       "3          US     43311049  R3V37XDZ7ZCI3L  B000GBNB8G       491599489   \n",
       "4          US     13763148  R14GU232NQFYX2  B00VJ5KX9S       353790155   \n",
       "\n",
       "                                       product_title product_category  \\\n",
       "0                    Arthur Court Paper Towel Holder          Kitchen   \n",
       "1  Olde Thompson Bavaria Glass Salt and Pepper Mi...          Kitchen   \n",
       "2  Progressive International PL8 Professional Man...          Kitchen   \n",
       "3                          Zyliss Jumbo Garlic Press          Kitchen   \n",
       "4  1 X Premier Pizza Cutter - Stainless Steel 14\"...          Kitchen   \n",
       "\n",
       "   star_rating  helpful_votes  total_votes vine verified_purchase  \\\n",
       "0          5.0            0.0          0.0    N                 Y   \n",
       "1          5.0            0.0          1.0    N                 Y   \n",
       "2          5.0            0.0          0.0    N                 Y   \n",
       "3          5.0            0.0          1.0    N                 Y   \n",
       "4          5.0            0.0          0.0    N                 Y   \n",
       "\n",
       "                     review_headline  \\\n",
       "0  Beautiful. Looks great on counter   \n",
       "1                Awesome & Self-ness   \n",
       "2     Fabulous and worth every penny   \n",
       "3                         Five Stars   \n",
       "4                    Better than sex   \n",
       "\n",
       "                                         review_body review_date  \n",
       "0                Beautiful.  Looks great on counter.  2015-08-31  \n",
       "1  I personally have 5 days sets and have also bo...  2015-08-31  \n",
       "2  Fabulous and worth every penny. Used for clean...  2015-08-31  \n",
       "3  A must if you love garlic on tomato marinara s...  2015-08-31  \n",
       "4  Worth every penny! Buy one now and be a pizza ...  2015-08-31  "
      ]
     },
     "execution_count": 4,
     "metadata": {},
     "output_type": "execute_result"
    }
   ],
   "source": [
    "ratings_df.head()"
   ]
  },
  {
   "cell_type": "code",
   "execution_count": 5,
   "id": "2b1a30f0",
   "metadata": {},
   "outputs": [
    {
     "data": {
      "text/html": [
       "<div>\n",
       "<style scoped>\n",
       "    .dataframe tbody tr th:only-of-type {\n",
       "        vertical-align: middle;\n",
       "    }\n",
       "\n",
       "    .dataframe tbody tr th {\n",
       "        vertical-align: top;\n",
       "    }\n",
       "\n",
       "    .dataframe thead th {\n",
       "        text-align: right;\n",
       "    }\n",
       "</style>\n",
       "<table border=\"1\" class=\"dataframe\">\n",
       "  <thead>\n",
       "    <tr style=\"text-align: right;\">\n",
       "      <th></th>\n",
       "      <th>review_body</th>\n",
       "      <th>star_rating</th>\n",
       "    </tr>\n",
       "  </thead>\n",
       "  <tbody>\n",
       "    <tr>\n",
       "      <th>0</th>\n",
       "      <td>Beautiful.  Looks great on counter.</td>\n",
       "      <td>5.0</td>\n",
       "    </tr>\n",
       "    <tr>\n",
       "      <th>1</th>\n",
       "      <td>I personally have 5 days sets and have also bo...</td>\n",
       "      <td>5.0</td>\n",
       "    </tr>\n",
       "    <tr>\n",
       "      <th>2</th>\n",
       "      <td>Fabulous and worth every penny. Used for clean...</td>\n",
       "      <td>5.0</td>\n",
       "    </tr>\n",
       "    <tr>\n",
       "      <th>3</th>\n",
       "      <td>A must if you love garlic on tomato marinara s...</td>\n",
       "      <td>5.0</td>\n",
       "    </tr>\n",
       "    <tr>\n",
       "      <th>4</th>\n",
       "      <td>Worth every penny! Buy one now and be a pizza ...</td>\n",
       "      <td>5.0</td>\n",
       "    </tr>\n",
       "  </tbody>\n",
       "</table>\n",
       "</div>"
      ],
      "text/plain": [
       "                                         review_body  star_rating\n",
       "0                Beautiful.  Looks great on counter.          5.0\n",
       "1  I personally have 5 days sets and have also bo...          5.0\n",
       "2  Fabulous and worth every penny. Used for clean...          5.0\n",
       "3  A must if you love garlic on tomato marinara s...          5.0\n",
       "4  Worth every penny! Buy one now and be a pizza ...          5.0"
      ]
     },
     "execution_count": 5,
     "metadata": {},
     "output_type": "execute_result"
    }
   ],
   "source": [
    "# Simplify Dataset: Ensure all have reviews\n",
    "ratings_df = ratings_df.loc[:, [\"review_body\", \"star_rating\"]]\n",
    "ratings_df = ratings_df[ratings_df[\"review_body\"].notnull()]\n",
    "ratings_df.head()"
   ]
  },
  {
   "cell_type": "code",
   "execution_count": 6,
   "id": "1482aa01",
   "metadata": {},
   "outputs": [
    {
     "data": {
      "text/html": [
       "<div>\n",
       "<style scoped>\n",
       "    .dataframe tbody tr th:only-of-type {\n",
       "        vertical-align: middle;\n",
       "    }\n",
       "\n",
       "    .dataframe tbody tr th {\n",
       "        vertical-align: top;\n",
       "    }\n",
       "\n",
       "    .dataframe thead th {\n",
       "        text-align: right;\n",
       "    }\n",
       "</style>\n",
       "<table border=\"1\" class=\"dataframe\">\n",
       "  <thead>\n",
       "    <tr style=\"text-align: right;\">\n",
       "      <th></th>\n",
       "      <th>review_body</th>\n",
       "      <th>star_rating</th>\n",
       "    </tr>\n",
       "  </thead>\n",
       "  <tbody>\n",
       "    <tr>\n",
       "      <th>0</th>\n",
       "      <td>BUYER BEWARE! Absolute waste of money. Might a...</td>\n",
       "      <td>1.0</td>\n",
       "    </tr>\n",
       "    <tr>\n",
       "      <th>1</th>\n",
       "      <td>Woks great This is our first dehydrator and ev...</td>\n",
       "      <td>4.0</td>\n",
       "    </tr>\n",
       "    <tr>\n",
       "      <th>2</th>\n",
       "      <td>do not like this maker at all, hard to use , m...</td>\n",
       "      <td>1.0</td>\n",
       "    </tr>\n",
       "    <tr>\n",
       "      <th>3</th>\n",
       "      <td>this list of qualities on the main product pag...</td>\n",
       "      <td>1.0</td>\n",
       "    </tr>\n",
       "    <tr>\n",
       "      <th>4</th>\n",
       "      <td>Very nice kitchen tool, Seems to me made of Ba...</td>\n",
       "      <td>4.0</td>\n",
       "    </tr>\n",
       "  </tbody>\n",
       "</table>\n",
       "</div>"
      ],
      "text/plain": [
       "                                         review_body  star_rating\n",
       "0  BUYER BEWARE! Absolute waste of money. Might a...          1.0\n",
       "1  Woks great This is our first dehydrator and ev...          4.0\n",
       "2  do not like this maker at all, hard to use , m...          1.0\n",
       "3  this list of qualities on the main product pag...          1.0\n",
       "4  Very nice kitchen tool, Seems to me made of Ba...          4.0"
      ]
     },
     "execution_count": 6,
     "metadata": {},
     "output_type": "execute_result"
    }
   ],
   "source": [
    "# Gather 50k of each rating through random selection:\n",
    "rating_1 = ratings_df[ratings_df[\"star_rating\"] == 1].sample(50000)\n",
    "rating_2 = ratings_df[ratings_df[\"star_rating\"] == 2].sample(50000)\n",
    "rating_3 = ratings_df[ratings_df[\"star_rating\"] == 3].sample(50000)\n",
    "rating_4 = ratings_df[ratings_df[\"star_rating\"] == 4].sample(50000)\n",
    "rating_5 = ratings_df[ratings_df[\"star_rating\"] == 5].sample(50000)\n",
    "\n",
    "ratings_sampled_df = pd.concat([rating_1, rating_2, rating_3, rating_4, rating_5])\n",
    "ratings_sampled_df = ratings_sampled_df.sample(frac=1)\n",
    "ratings_sampled_df.reset_index(drop=True, inplace=True)\n",
    "ratings_sampled_df.head()"
   ]
  },
  {
   "cell_type": "code",
   "execution_count": 7,
   "id": "05399e4d",
   "metadata": {},
   "outputs": [
    {
     "data": {
      "text/html": [
       "<div>\n",
       "<style scoped>\n",
       "    .dataframe tbody tr th:only-of-type {\n",
       "        vertical-align: middle;\n",
       "    }\n",
       "\n",
       "    .dataframe tbody tr th {\n",
       "        vertical-align: top;\n",
       "    }\n",
       "\n",
       "    .dataframe thead th {\n",
       "        text-align: right;\n",
       "    }\n",
       "</style>\n",
       "<table border=\"1\" class=\"dataframe\">\n",
       "  <thead>\n",
       "    <tr style=\"text-align: right;\">\n",
       "      <th></th>\n",
       "      <th>review_body</th>\n",
       "      <th>star_rating</th>\n",
       "      <th>sentiment</th>\n",
       "    </tr>\n",
       "  </thead>\n",
       "  <tbody>\n",
       "    <tr>\n",
       "      <th>0</th>\n",
       "      <td>BUYER BEWARE! Absolute waste of money. Might a...</td>\n",
       "      <td>1.0</td>\n",
       "      <td>0</td>\n",
       "    </tr>\n",
       "    <tr>\n",
       "      <th>1</th>\n",
       "      <td>Woks great This is our first dehydrator and ev...</td>\n",
       "      <td>4.0</td>\n",
       "      <td>1</td>\n",
       "    </tr>\n",
       "    <tr>\n",
       "      <th>2</th>\n",
       "      <td>do not like this maker at all, hard to use , m...</td>\n",
       "      <td>1.0</td>\n",
       "      <td>0</td>\n",
       "    </tr>\n",
       "    <tr>\n",
       "      <th>3</th>\n",
       "      <td>this list of qualities on the main product pag...</td>\n",
       "      <td>1.0</td>\n",
       "      <td>0</td>\n",
       "    </tr>\n",
       "    <tr>\n",
       "      <th>4</th>\n",
       "      <td>Very nice kitchen tool, Seems to me made of Ba...</td>\n",
       "      <td>4.0</td>\n",
       "      <td>1</td>\n",
       "    </tr>\n",
       "  </tbody>\n",
       "</table>\n",
       "</div>"
      ],
      "text/plain": [
       "                                         review_body  star_rating  sentiment\n",
       "0  BUYER BEWARE! Absolute waste of money. Might a...          1.0          0\n",
       "1  Woks great This is our first dehydrator and ev...          4.0          1\n",
       "2  do not like this maker at all, hard to use , m...          1.0          0\n",
       "3  this list of qualities on the main product pag...          1.0          0\n",
       "4  Very nice kitchen tool, Seems to me made of Ba...          4.0          1"
      ]
     },
     "execution_count": 7,
     "metadata": {},
     "output_type": "execute_result"
    }
   ],
   "source": [
    "# Map star rating to sentiment rating: We will assign -1 as neutral\n",
    "d_ = {4:1, 5:1, 1:0, 2:0, 3:2}\n",
    "ratings_sampled_df[\"sentiment\"] = ratings_sampled_df[\"star_rating\"].map(d_)\n",
    "ratings_sampled_df.head()"
   ]
  },
  {
   "cell_type": "code",
   "execution_count": 8,
   "id": "e70651fa",
   "metadata": {},
   "outputs": [],
   "source": [
    "# Train-test Split\n",
    "train, test = train_test_split(ratings_sampled_df, test_size=0.2)\n",
    "train.reset_index(drop=True, inplace=True)\n",
    "test.reset_index(drop=True, inplace=True)"
   ]
  },
  {
   "cell_type": "markdown",
   "id": "99001e1c",
   "metadata": {},
   "source": [
    "### Word Embedding:"
   ]
  },
  {
   "cell_type": "code",
   "execution_count": 9,
   "id": "6d527167",
   "metadata": {},
   "outputs": [],
   "source": [
    "# Load in the word2vec:\n",
    "import gensim\n",
    "word2vec = gensim.models.KeyedVectors.load_word2vec_format('./GoogleNews-vectors-negative300.bin', binary=True)"
   ]
  },
  {
   "cell_type": "code",
   "execution_count": 10,
   "id": "1a9b6c14",
   "metadata": {},
   "outputs": [
    {
     "data": {
      "text/plain": [
       "[('king', 0.844939112663269),\n",
       " ('queen', 0.7300516366958618),\n",
       " ('monarch', 0.6454660296440125)]"
      ]
     },
     "execution_count": 10,
     "metadata": {},
     "output_type": "execute_result"
    }
   ],
   "source": [
    "#Check Smeantic Similarities: (close enough!)\n",
    "result_vec = word2vec[\"king\"] - word2vec[\"man\"] + word2vec[\"woman\"]\n",
    "word2vec.most_similar(positive=result_vec, topn=3)"
   ]
  },
  {
   "cell_type": "code",
   "execution_count": 11,
   "id": "6fe213cf",
   "metadata": {},
   "outputs": [
    {
     "data": {
      "text/plain": [
       "[('terrific', 0.7409728765487671),\n",
       " ('superb', 0.7062715888023376),\n",
       " ('exceptional', 0.681470513343811)]"
      ]
     },
     "execution_count": 11,
     "metadata": {},
     "output_type": "execute_result"
    }
   ],
   "source": [
    "word2vec.most_similar(positive=\"excellent\", topn=3)"
   ]
  },
  {
   "cell_type": "code",
   "execution_count": 12,
   "id": "74e280c4",
   "metadata": {},
   "outputs": [
    {
     "name": "stderr",
     "output_type": "stream",
     "text": [
      "<ipython-input-12-2b2b707881ec>:3: SettingWithCopyWarning: \n",
      "A value is trying to be set on a copy of a slice from a DataFrame.\n",
      "Try using .loc[row_indexer,col_indexer] = value instead\n",
      "\n",
      "See the caveats in the documentation: https://pandas.pydata.org/pandas-docs/stable/user_guide/indexing.html#returning-a-view-versus-a-copy\n",
      "  train[\"review_body\"] = train[\"review_body\"].str.lower()\n",
      "<ipython-input-12-2b2b707881ec>:4: SettingWithCopyWarning: \n",
      "A value is trying to be set on a copy of a slice from a DataFrame.\n",
      "Try using .loc[row_indexer,col_indexer] = value instead\n",
      "\n",
      "See the caveats in the documentation: https://pandas.pydata.org/pandas-docs/stable/user_guide/indexing.html#returning-a-view-versus-a-copy\n",
      "  test[\"review_body\"] = test[\"review_body\"].str.lower()\n",
      "<ipython-input-12-2b2b707881ec>:6: SettingWithCopyWarning: \n",
      "A value is trying to be set on a copy of a slice from a DataFrame.\n",
      "Try using .loc[row_indexer,col_indexer] = value instead\n",
      "\n",
      "See the caveats in the documentation: https://pandas.pydata.org/pandas-docs/stable/user_guide/indexing.html#returning-a-view-versus-a-copy\n",
      "  train[\"review_body\"] = train[\"review_body\"].replace(r'http\\S+|www.\\S+', '', regex=True)\n",
      "<ipython-input-12-2b2b707881ec>:7: SettingWithCopyWarning: \n",
      "A value is trying to be set on a copy of a slice from a DataFrame.\n",
      "Try using .loc[row_indexer,col_indexer] = value instead\n",
      "\n",
      "See the caveats in the documentation: https://pandas.pydata.org/pandas-docs/stable/user_guide/indexing.html#returning-a-view-versus-a-copy\n",
      "  test[\"review_body\"] = test[\"review_body\"].replace(r'http\\S+|www.\\S+', '', regex=True)\n",
      "<ipython-input-12-2b2b707881ec>:10: SettingWithCopyWarning: \n",
      "A value is trying to be set on a copy of a slice from a DataFrame.\n",
      "Try using .loc[row_indexer,col_indexer] = value instead\n",
      "\n",
      "See the caveats in the documentation: https://pandas.pydata.org/pandas-docs/stable/user_guide/indexing.html#returning-a-view-versus-a-copy\n",
      "  train[\"review_body\"] = train[\"review_body\"].replace(r'[^a-z|\\s]', '', regex=True)\n",
      "<ipython-input-12-2b2b707881ec>:11: SettingWithCopyWarning: \n",
      "A value is trying to be set on a copy of a slice from a DataFrame.\n",
      "Try using .loc[row_indexer,col_indexer] = value instead\n",
      "\n",
      "See the caveats in the documentation: https://pandas.pydata.org/pandas-docs/stable/user_guide/indexing.html#returning-a-view-versus-a-copy\n",
      "  test[\"review_body\"] = test[\"review_body\"].replace(r'[^a-z|\\s]', '', regex=True)\n",
      "<ipython-input-12-2b2b707881ec>:13: SettingWithCopyWarning: \n",
      "A value is trying to be set on a copy of a slice from a DataFrame.\n",
      "Try using .loc[row_indexer,col_indexer] = value instead\n",
      "\n",
      "See the caveats in the documentation: https://pandas.pydata.org/pandas-docs/stable/user_guide/indexing.html#returning-a-view-versus-a-copy\n",
      "  train[\"review_body\"] = train[\"review_body\"].replace(r'\\s\\s+', ' ', regex=True)\n",
      "<ipython-input-12-2b2b707881ec>:14: SettingWithCopyWarning: \n",
      "A value is trying to be set on a copy of a slice from a DataFrame.\n",
      "Try using .loc[row_indexer,col_indexer] = value instead\n",
      "\n",
      "See the caveats in the documentation: https://pandas.pydata.org/pandas-docs/stable/user_guide/indexing.html#returning-a-view-versus-a-copy\n",
      "  test[\"review_body\"] = test[\"review_body\"].replace(r'\\s\\s+', ' ', regex=True)\n"
     ]
    }
   ],
   "source": [
    "# Train a Word2Vec model using own dataset: embedding_size=300, window_size=11, min_word_cnt=10\n",
    "# Clean data:\n",
    "train[\"review_body\"] = train[\"review_body\"].str.lower()\n",
    "test[\"review_body\"] = test[\"review_body\"].str.lower()\n",
    "\n",
    "train[\"review_body\"] = train[\"review_body\"].replace(r'http\\S+|www.\\S+', '', regex=True)\n",
    "test[\"review_body\"] = test[\"review_body\"].replace(r'http\\S+|www.\\S+', '', regex=True)\n",
    "\n",
    "\n",
    "train[\"review_body\"] = train[\"review_body\"].replace(r'[^a-z|\\s]', '', regex=True)\n",
    "test[\"review_body\"] = test[\"review_body\"].replace(r'[^a-z|\\s]', '', regex=True)\n",
    "\n",
    "train[\"review_body\"] = train[\"review_body\"].replace(r'\\s\\s+', ' ', regex=True)\n",
    "test[\"review_body\"] = test[\"review_body\"].replace(r'\\s\\s+', ' ', regex=True)"
   ]
  },
  {
   "cell_type": "code",
   "execution_count": 13,
   "id": "6077696c",
   "metadata": {},
   "outputs": [
    {
     "name": "stderr",
     "output_type": "stream",
     "text": [
      "<ipython-input-13-7e488c7e9935>:8: SettingWithCopyWarning: \n",
      "A value is trying to be set on a copy of a slice from a DataFrame.\n",
      "Try using .loc[row_indexer,col_indexer] = value instead\n",
      "\n",
      "See the caveats in the documentation: https://pandas.pydata.org/pandas-docs/stable/user_guide/indexing.html#returning-a-view-versus-a-copy\n",
      "  train[\"review_body\"] = train[\"review_body\"].apply(remove_stopwords)\n",
      "<ipython-input-13-7e488c7e9935>:9: SettingWithCopyWarning: \n",
      "A value is trying to be set on a copy of a slice from a DataFrame.\n",
      "Try using .loc[row_indexer,col_indexer] = value instead\n",
      "\n",
      "See the caveats in the documentation: https://pandas.pydata.org/pandas-docs/stable/user_guide/indexing.html#returning-a-view-versus-a-copy\n",
      "  test[\"review_body\"] = test[\"review_body\"].apply(remove_stopwords)\n"
     ]
    }
   ],
   "source": [
    "stop_words = set(stopwords.words('english'))\n",
    "\n",
    "def remove_stopwords(s):\n",
    "    tokens = word_tokenize(s)\n",
    "    filtered_tokens = [word for word in tokens if word not in stop_words]\n",
    "    return filtered_tokens\n",
    "\n",
    "train[\"review_body\"] = train[\"review_body\"].apply(remove_stopwords)\n",
    "test[\"review_body\"] = test[\"review_body\"].apply(remove_stopwords)"
   ]
  },
  {
   "cell_type": "code",
   "execution_count": 14,
   "id": "fef3bf18",
   "metadata": {},
   "outputs": [],
   "source": [
    "train_sentences = np.array(train[\"review_body\"])\n",
    "test_sentences = np.array(test[\"review_body\"])"
   ]
  },
  {
   "cell_type": "code",
   "execution_count": 15,
   "id": "760c4cca",
   "metadata": {},
   "outputs": [],
   "source": [
    "model = gensim.models.Word2Vec(train_sentences, min_count=10, vector_size=200, window=11)"
   ]
  },
  {
   "cell_type": "code",
   "execution_count": 16,
   "id": "c56967d5",
   "metadata": {},
   "outputs": [
    {
     "data": {
      "text/plain": [
       "[('king', 0.6640127301216125),\n",
       " ('norpro', 0.49288639426231384),\n",
       " ('whereas', 0.4772895276546478),\n",
       " ('stainlesssteel', 0.4654127359390259),\n",
       " ('triply', 0.44628649950027466),\n",
       " ('kirkland', 0.4440610110759735),\n",
       " ('frypan', 0.4382425546646118),\n",
       " ('rimmed', 0.42901623249053955),\n",
       " ('winco', 0.42809468507766724),\n",
       " ('qt', 0.42460620403289795)]"
      ]
     },
     "execution_count": 16,
     "metadata": {},
     "output_type": "execute_result"
    }
   ],
   "source": [
    "# Test semantic similarities:\n",
    "result_vec = model.wv[\"king\"] - model.wv[\"man\"] + model.wv[\"woman\"]\n",
    "model.wv.similar_by_vector(result_vec)"
   ]
  },
  {
   "cell_type": "code",
   "execution_count": 17,
   "id": "2812f5aa",
   "metadata": {},
   "outputs": [
    {
     "data": {
      "text/plain": [
       "[('outstanding', 0.7735501527786255),\n",
       " ('fantastic', 0.7434232831001282),\n",
       " ('exceptional', 0.7344864010810852),\n",
       " ('wonderful', 0.6633721590042114),\n",
       " ('terrific', 0.6460570693016052),\n",
       " ('superb', 0.643336832523346),\n",
       " ('great', 0.6258797645568848),\n",
       " ('pleased', 0.5849264860153198),\n",
       " ('amazing', 0.569335401058197),\n",
       " ('satisfactory', 0.5572806596755981)]"
      ]
     },
     "execution_count": 17,
     "metadata": {},
     "output_type": "execute_result"
    }
   ],
   "source": [
    "model.wv.similar_by_word(\"excellent\")"
   ]
  },
  {
   "cell_type": "markdown",
   "id": "69690fc1",
   "metadata": {},
   "source": [
    "From the Semantic Similarities above we can see that our model actually performs relatively well given the results of the top 10 closest words to Excellent. However we can see the problem emerges that the reviews do not necessarily contain all the words we might want such as \"Queen\", which may or may not be in the data based on the randomness involved in selecting reviews. One would prefer to utilize the all encompassing Google word2vec to help with unorthodox words, and we can trust that the performance is better. Yet, the create w2v does produce results faster."
   ]
  },
  {
   "cell_type": "markdown",
   "id": "2e65f325",
   "metadata": {},
   "source": [
    "### Simple Models:"
   ]
  },
  {
   "cell_type": "markdown",
   "id": "bef32606",
   "metadata": {},
   "source": [
    "#### Personally Trained Word2Vec"
   ]
  },
  {
   "cell_type": "code",
   "execution_count": 18,
   "id": "9d4a9080",
   "metadata": {},
   "outputs": [],
   "source": [
    "# Need to make binary model at this point:\n",
    "train_binary = train[~(train[\"sentiment\"] == 2)]\n",
    "test_binary = test[~(test[\"sentiment\"] == 2)]"
   ]
  },
  {
   "cell_type": "code",
   "execution_count": 19,
   "id": "1f7dfd80",
   "metadata": {},
   "outputs": [],
   "source": [
    "X_train = train_binary[\"review_body\"]\n",
    "Y_train = train_binary[\"sentiment\"].values\n",
    "\n",
    "X_test = test_binary[\"review_body\"]\n",
    "Y_test = test_binary[\"sentiment\"].values"
   ]
  },
  {
   "cell_type": "code",
   "execution_count": 65,
   "id": "cbfd26ca",
   "metadata": {},
   "outputs": [],
   "source": [
    "def avg_vector_mine(review):\n",
    "    tot_ = 0\n",
    "    for word_ in review:\n",
    "        if word_ in model.wv:\n",
    "            tot_ += model.wv[word_]\n",
    "        else:\n",
    "            continue\n",
    "    if len(review) == 0:\n",
    "        return 0\n",
    "    return tot_/len(review)"
   ]
  },
  {
   "cell_type": "code",
   "execution_count": 66,
   "id": "d91c27b6",
   "metadata": {},
   "outputs": [],
   "source": [
    "# Vectorize X_train:\n",
    "X_train_avg = X_train.apply(avg_vector_mine)\n",
    "X_train_df = pd.DataFrame.from_dict(dict(zip(X_train_avg.index, X_train_avg.values))).T\n",
    "X_train_vectorized_mine = X_train_df.values"
   ]
  },
  {
   "cell_type": "code",
   "execution_count": 67,
   "id": "1b4b6247",
   "metadata": {},
   "outputs": [],
   "source": [
    "# Vectorize X_test:\n",
    "X_test_avg = X_test.apply(avg_vector_mine)\n",
    "X_test_df = pd.DataFrame.from_dict(dict(zip(X_test_avg.index, X_test_avg.values))).T\n",
    "X_test_vectorized_mine = X_test_df.values"
   ]
  },
  {
   "cell_type": "code",
   "execution_count": 68,
   "id": "3a740034",
   "metadata": {},
   "outputs": [
    {
     "name": "stdout",
     "output_type": "stream",
     "text": [
      "Perceptron Training Accuracy: 0.7884838866882428\n"
     ]
    }
   ],
   "source": [
    "perceptron = Perceptron(tol=1e-3, random_state=42)\n",
    "perceptron.fit(X_train_vectorized_mine, Y_train)\n",
    "print(\"Perceptron Training Accuracy:\", perceptron.score(X_train_vectorized_mine, Y_train))"
   ]
  },
  {
   "cell_type": "code",
   "execution_count": 69,
   "id": "cb9d04c2",
   "metadata": {},
   "outputs": [
    {
     "name": "stdout",
     "output_type": "stream",
     "text": [
      "Perceptron Test Accuracy: 0.7883893255895459\n"
     ]
    }
   ],
   "source": [
    "print(\"Perceptron Test Accuracy:\", perceptron.score(X_test_vectorized_mine, Y_test))"
   ]
  },
  {
   "cell_type": "code",
   "execution_count": 70,
   "id": "b4e35b9b",
   "metadata": {},
   "outputs": [
    {
     "name": "stdout",
     "output_type": "stream",
     "text": [
      "SVM Training Accuracy: 0.8589850925312706\n"
     ]
    },
    {
     "name": "stderr",
     "output_type": "stream",
     "text": [
      "/Library/Frameworks/Python.framework/Versions/3.9/lib/python3.9/site-packages/sklearn/svm/_base.py:985: ConvergenceWarning: Liblinear failed to converge, increase the number of iterations.\n",
      "  warnings.warn(\"Liblinear failed to converge, increase \"\n"
     ]
    }
   ],
   "source": [
    "svm = LinearSVC(max_iter=1000)\n",
    "svm.fit(X_train_vectorized_mine, Y_train)\n",
    "print(\"SVM Training Accuracy:\", svm.score(X_train_vectorized_mine, Y_train))"
   ]
  },
  {
   "cell_type": "code",
   "execution_count": 71,
   "id": "ed29ad37",
   "metadata": {},
   "outputs": [
    {
     "name": "stdout",
     "output_type": "stream",
     "text": [
      "SVM Test Accuracy: 0.8611375356731588\n"
     ]
    }
   ],
   "source": [
    "print(\"SVM Test Accuracy:\", svm.score(X_test_vectorized_mine, Y_test))"
   ]
  },
  {
   "cell_type": "markdown",
   "id": "5520a926",
   "metadata": {},
   "source": [
    "#### Pretrained Word2Vec"
   ]
  },
  {
   "cell_type": "code",
   "execution_count": 72,
   "id": "98385cae",
   "metadata": {},
   "outputs": [],
   "source": [
    "def avg_vector_google(review):\n",
    "    tot_ = 0\n",
    "    for word_ in review:\n",
    "        if word_ in word2vec:\n",
    "            tot_ += word2vec[word_]\n",
    "        else:\n",
    "            continue\n",
    "    if len(review) == 0:\n",
    "        return 0\n",
    "    return tot_/len(review)"
   ]
  },
  {
   "cell_type": "code",
   "execution_count": 73,
   "id": "8e12ffe2",
   "metadata": {},
   "outputs": [],
   "source": [
    "# Vectorize X_train:\n",
    "X_train_avg = X_train.apply(avg_vector_google)\n",
    "X_train_df = pd.DataFrame.from_dict(dict(zip(X_train_avg.index, X_train_avg.values))).T\n",
    "X_train_vectorized_google = X_train_df.values"
   ]
  },
  {
   "cell_type": "code",
   "execution_count": 74,
   "id": "13caf77f",
   "metadata": {},
   "outputs": [],
   "source": [
    "# Vectorize X_test:\n",
    "X_test_avg = X_test.apply(avg_vector_google)\n",
    "X_test_df = pd.DataFrame.from_dict(dict(zip(X_test_avg.index, X_test_avg.values))).T\n",
    "X_test_vectorized_google = X_test_df.values"
   ]
  },
  {
   "cell_type": "code",
   "execution_count": 75,
   "id": "c16b5ce4",
   "metadata": {},
   "outputs": [
    {
     "name": "stdout",
     "output_type": "stream",
     "text": [
      "Perceptron Training Accuracy: 0.7255363814712534\n"
     ]
    }
   ],
   "source": [
    "perceptron = Perceptron(tol=1e-3, random_state=42)\n",
    "perceptron.fit(X_train_vectorized_google, Y_train)\n",
    "print(\"Perceptron Training Accuracy:\", perceptron.score(X_train_vectorized_google, Y_train))"
   ]
  },
  {
   "cell_type": "code",
   "execution_count": 76,
   "id": "057afb67",
   "metadata": {},
   "outputs": [
    {
     "name": "stdout",
     "output_type": "stream",
     "text": [
      "Perceptron Test Accuracy: 0.7252290592299604\n"
     ]
    }
   ],
   "source": [
    "print(\"Perceptron Test Accuracy:\", perceptron.score(X_test_vectorized_google, Y_test))"
   ]
  },
  {
   "cell_type": "code",
   "execution_count": 77,
   "id": "5ca845cb",
   "metadata": {},
   "outputs": [
    {
     "name": "stdout",
     "output_type": "stream",
     "text": [
      "SVM Training Accuracy: 0.8195109150661651\n"
     ]
    }
   ],
   "source": [
    "svm = LinearSVC(max_iter=1000)\n",
    "svm.fit(X_train_vectorized_google, Y_train)\n",
    "print(\"SVM Training Accuracy:\", svm.score(X_train_vectorized_google, Y_train))"
   ]
  },
  {
   "cell_type": "code",
   "execution_count": 78,
   "id": "72ed1c0c",
   "metadata": {},
   "outputs": [
    {
     "name": "stdout",
     "output_type": "stream",
     "text": [
      "SVM Test Accuracy: 0.8184298803384569\n"
     ]
    }
   ],
   "source": [
    "print(\"SVM Test Accuracy:\", svm.score(X_test_vectorized_google, Y_test))"
   ]
  },
  {
   "cell_type": "markdown",
   "id": "49692971",
   "metadata": {},
   "source": [
    "Perceptron Results TF.IDF: Test-Accuracy = .8569 <br>\n",
    "SVM Results TF.IDF: Test-Accuracy = 0.898025 <br>\n",
    "<br>\n",
    "We can see from the above results that the models are better for TF.IDF, then personally trained Word2Vec, and lastly for the Google pre-trained Word2Vec. One likely explanation for this could be that the TF.IDF and personally train Word2Vec might be more tailored to the specific review set at hand. In addition, the averaging of the word vectors might be a very inefficient way to combine words in a review."
   ]
  },
  {
   "cell_type": "markdown",
   "id": "1cdaee55",
   "metadata": {},
   "source": [
    "### Feedforward Neural Networks"
   ]
  },
  {
   "cell_type": "markdown",
   "id": "81cd0b84",
   "metadata": {},
   "source": [
    "#### Avg Word2Vec Vectors - Personally Trained Word2Vec:"
   ]
  },
  {
   "cell_type": "code",
   "execution_count": 20,
   "id": "a485c172",
   "metadata": {},
   "outputs": [],
   "source": [
    "import torch\n",
    "import torch.nn.functional as F\n",
    "from torch.utils.data import DataLoader\n",
    "from torch.utils.data import TensorDataset\n",
    "from torch import nn"
   ]
  },
  {
   "cell_type": "code",
   "execution_count": 80,
   "id": "a6ff9027",
   "metadata": {},
   "outputs": [],
   "source": [
    "class MLP(nn.Module):\n",
    "\n",
    "    def __init__(self):\n",
    "        super().__init__()\n",
    "\n",
    "        input_dim = 200\n",
    "        hidden_1 = 50\n",
    "        hidden_2 = 10\n",
    "        \n",
    "        self.fc1 = nn.Linear(input_dim, hidden_1)\n",
    "        self.fc2 = nn.Linear(hidden_1, hidden_2)\n",
    "        self.fc3 = nn.Linear(hidden_2, 2)\n",
    "        self.dropout = nn.Dropout(0.2)\n",
    "        #self.act3 = nn.Softmax(dim=1)\n",
    "\n",
    "    def forward(self, x):\n",
    "        x = x.view(-1, 200)\n",
    "        x = F.relu(self.fc1(x))\n",
    "        x = self.dropout(x)\n",
    "        x = F.relu(self.fc2(x))\n",
    "        x = self.dropout(x)\n",
    "        x = self.fc3(x)\n",
    "        return x"
   ]
  },
  {
   "cell_type": "code",
   "execution_count": 81,
   "id": "cd5416ff",
   "metadata": {},
   "outputs": [],
   "source": [
    "# Formatting the data for DataLoader (coverts to tensors):\n",
    "train_data = []\n",
    "for i in range(len(X_train_vectorized_mine)):\n",
    "    train_data.append([X_train_vectorized_mine[i], Y_train[i]])\n",
    "    \n",
    "test_data = []\n",
    "for i in range(len(X_test_vectorized_mine)):\n",
    "    test_data.append([X_test_vectorized_mine[i], Y_test[i]])"
   ]
  },
  {
   "cell_type": "code",
   "execution_count": 82,
   "id": "68c2d598",
   "metadata": {},
   "outputs": [
    {
     "name": "stdout",
     "output_type": "stream",
     "text": [
      "Epoch: 1 \tTraining Loss: 0.401960 \tTest Loss: 0.347470\n",
      "Epoch: 2 \tTraining Loss: 0.346261 \tTest Loss: 0.339061\n",
      "Epoch: 3 \tTraining Loss: 0.336808 \tTest Loss: 0.330312\n",
      "Epoch: 4 \tTraining Loss: 0.331495 \tTest Loss: 0.325287\n",
      "Epoch: 5 \tTraining Loss: 0.324839 \tTest Loss: 0.324928\n",
      "Epoch: 6 \tTraining Loss: 0.322088 \tTest Loss: 0.321494\n",
      "Epoch: 7 \tTraining Loss: 0.318378 \tTest Loss: 0.322282\n",
      "Epoch: 8 \tTraining Loss: 0.317127 \tTest Loss: 0.318651\n",
      "Epoch: 9 \tTraining Loss: 0.314721 \tTest Loss: 0.319576\n",
      "Epoch: 10 \tTraining Loss: 0.313004 \tTest Loss: 0.317683\n",
      "All done.\n"
     ]
    }
   ],
   "source": [
    "n_epochs = 10\n",
    "trainloader = torch.utils.data.DataLoader(train_data, batch_size=20, num_workers=1)\n",
    "testloader = torch.utils.data.DataLoader(test_data, batch_size=20, num_workers=1)\n",
    "mlp = MLP()\n",
    "criterion = nn.CrossEntropyLoss()\n",
    "# optimizer = torch.optim.Adam(mlp.parameters(), lr=1e-4)\n",
    "optimizer = torch.optim.SGD(mlp.parameters(), lr=0.01)\n",
    "\n",
    "test_loss_min = 5\n",
    "\n",
    "for epoch in range(n_epochs):\n",
    "    train_loss = 0\n",
    "    test_loss = 0\n",
    "    \n",
    "    mlp.train()\n",
    "    for data, target in trainloader:\n",
    "        # Zero the gradients\n",
    "        optimizer.zero_grad()\n",
    "\n",
    "        # Perform forward pass\n",
    "        output = mlp(data.float())\n",
    "\n",
    "        # Compute loss\n",
    "        loss = criterion(output, target)\n",
    "\n",
    "        # Perform backward pass\n",
    "        loss.backward()\n",
    "\n",
    "        # Perform optimization\n",
    "        optimizer.step()\n",
    "\n",
    "        # Print statistics\n",
    "        train_loss += loss.item()*data.size(0)\n",
    "        \n",
    "    with torch.no_grad():\n",
    "        for data, target in testloader:\n",
    "            output = mlp(data.float())\n",
    "            loss = criterion(output, target)\n",
    "            test_loss += loss.item()*data.size(0)\n",
    "        \n",
    "    train_loss = train_loss/len(trainloader.dataset)\n",
    "    test_loss = test_loss/len(testloader.dataset)\n",
    "    \n",
    "    print('Epoch: {} \\tTraining Loss: {:.6f} \\tTest Loss: {:.6f}'.format(\n",
    "        epoch+1, \n",
    "        train_loss,\n",
    "        test_loss\n",
    "        ))\n",
    "    \n",
    "    if test_loss <= test_loss_min:\n",
    "        torch.save(mlp.state_dict(), 'model.pt')\n",
    "        test_loss_min = test_loss\n",
    "\n",
    "  # Process is complete.\n",
    "print('All done.')"
   ]
  },
  {
   "cell_type": "code",
   "execution_count": 83,
   "id": "3cf76a57",
   "metadata": {},
   "outputs": [],
   "source": [
    "mlp.load_state_dict(torch.load('model.pt'))\n",
    "testloader = torch.utils.data.DataLoader(test_data, batch_size=1, num_workers=1)"
   ]
  },
  {
   "cell_type": "code",
   "execution_count": 21,
   "id": "ec6303dc",
   "metadata": {},
   "outputs": [],
   "source": [
    "# Calculate Accuracy from trained model:\n",
    "def predict(model, dataloader):\n",
    "    prediction_list = []\n",
    "    with torch.no_grad():\n",
    "        for data, target in dataloader:\n",
    "            output = model(data.float())\n",
    "            _, predicted = torch.max(output.data, 1) \n",
    "            prediction_list.append(predicted)\n",
    "    return prediction_list"
   ]
  },
  {
   "cell_type": "code",
   "execution_count": 85,
   "id": "12da7b7b",
   "metadata": {},
   "outputs": [],
   "source": [
    "predictions = predict(mlp, testloader)\n",
    "predictions = np.array(predictions)"
   ]
  },
  {
   "cell_type": "code",
   "execution_count": 22,
   "id": "a55342c7",
   "metadata": {},
   "outputs": [],
   "source": [
    "def accuracy(y_true, y_pred):\n",
    "    score = sum(y_true == y_pred)/len(y_pred)\n",
    "    return score"
   ]
  },
  {
   "cell_type": "code",
   "execution_count": 87,
   "id": "ca54c8de",
   "metadata": {},
   "outputs": [
    {
     "name": "stdout",
     "output_type": "stream",
     "text": [
      "Test Accuracy: 0.8694988234116057\n"
     ]
    }
   ],
   "source": [
    "print(\"Test Accuracy:\", accuracy(Y_test, predictions))"
   ]
  },
  {
   "cell_type": "code",
   "execution_count": 23,
   "id": "3729572b",
   "metadata": {},
   "outputs": [],
   "source": [
    "# Formatting process for 3 class:\n",
    "X_train_3 = train[\"review_body\"]\n",
    "Y_train_3 = train[\"sentiment\"].values\n",
    "\n",
    "X_test_3 = test[\"review_body\"]\n",
    "Y_test_3 = test[\"sentiment\"].values"
   ]
  },
  {
   "cell_type": "code",
   "execution_count": 89,
   "id": "b867f2e4",
   "metadata": {},
   "outputs": [],
   "source": [
    "# Vectorize X_train_3:\n",
    "X_train_avg_3 = X_train_3.apply(avg_vector_mine)\n",
    "X_train_df_3 = pd.DataFrame.from_dict(dict(zip(X_train_avg_3.index, X_train_avg_3.values))).T\n",
    "X_train_vectorized_mine_3 = X_train_df_3.values"
   ]
  },
  {
   "cell_type": "code",
   "execution_count": 90,
   "id": "0f493beb",
   "metadata": {},
   "outputs": [],
   "source": [
    "# Vectorize X_test_3:\n",
    "X_test_avg_3 = X_test_3.apply(avg_vector_mine)\n",
    "X_test_df_3 = pd.DataFrame.from_dict(dict(zip(X_test_avg_3.index, X_test_avg_3.values))).T\n",
    "X_test_vectorized_mine_3 = X_test_df_3.values"
   ]
  },
  {
   "cell_type": "code",
   "execution_count": 91,
   "id": "910472f6",
   "metadata": {},
   "outputs": [],
   "source": [
    "# Formatting the data for DataLoader (coverts to tensors):\n",
    "train_data_3 = []\n",
    "for i in range(len(X_train_vectorized_mine_3)):\n",
    "    train_data_3.append([X_train_vectorized_mine_3[i], Y_train_3[i]])\n",
    "    \n",
    "test_data_3 = []\n",
    "for i in range(len(X_test_vectorized_mine_3)):\n",
    "    test_data_3.append([X_test_vectorized_mine_3[i], Y_test_3[i]])"
   ]
  },
  {
   "cell_type": "code",
   "execution_count": 92,
   "id": "56f8509b",
   "metadata": {},
   "outputs": [],
   "source": [
    "class MLP_3(nn.Module):\n",
    "\n",
    "    def __init__(self):\n",
    "        super().__init__()\n",
    "\n",
    "        input_dim = 200\n",
    "        hidden_1 = 50\n",
    "        hidden_2 = 10\n",
    "        \n",
    "        self.fc1 = nn.Linear(input_dim, hidden_1)\n",
    "        self.fc2 = nn.Linear(hidden_1, hidden_2)\n",
    "        self.fc3 = nn.Linear(hidden_2, 3)\n",
    "        self.dropout = nn.Dropout(0.2)\n",
    "\n",
    "    def forward(self, x):\n",
    "        x = x.view(-1, 200)\n",
    "        x = F.relu(self.fc1(x))\n",
    "        x = self.dropout(x)\n",
    "        x = F.relu(self.fc2(x))\n",
    "        x = self.dropout(x)\n",
    "        x = self.fc3(x)\n",
    "        return x"
   ]
  },
  {
   "cell_type": "code",
   "execution_count": 93,
   "id": "865cd629",
   "metadata": {},
   "outputs": [
    {
     "name": "stdout",
     "output_type": "stream",
     "text": [
      "Epoch: 1 \tTraining Loss: 0.799257 \tTest Loss: 0.753471\n",
      "Epoch: 2 \tTraining Loss: 0.744144 \tTest Loss: 0.733876\n",
      "Epoch: 3 \tTraining Loss: 0.730217 \tTest Loss: 0.725554\n",
      "Epoch: 4 \tTraining Loss: 0.722700 \tTest Loss: 0.722737\n",
      "Epoch: 5 \tTraining Loss: 0.718984 \tTest Loss: 0.719500\n",
      "Epoch: 6 \tTraining Loss: 0.715308 \tTest Loss: 0.715966\n",
      "Epoch: 7 \tTraining Loss: 0.714287 \tTest Loss: 0.715359\n",
      "Epoch: 8 \tTraining Loss: 0.710467 \tTest Loss: 0.712566\n",
      "Epoch: 9 \tTraining Loss: 0.707925 \tTest Loss: 0.714819\n",
      "Epoch: 10 \tTraining Loss: 0.705990 \tTest Loss: 0.710956\n",
      "All done.\n"
     ]
    }
   ],
   "source": [
    "n_epochs = 10\n",
    "trainloader = torch.utils.data.DataLoader(train_data_3, batch_size=20, num_workers=1)\n",
    "testloader = torch.utils.data.DataLoader(test_data_3, batch_size=20, num_workers=1)\n",
    "mlp_3 = MLP_3()\n",
    "criterion = nn.CrossEntropyLoss()\n",
    "#optimizer = torch.optim.Adam(mlp.parameters(), lr=.0001)\n",
    "optimizer = torch.optim.SGD(mlp_3.parameters(), lr=0.01)\n",
    "\n",
    "test_loss_min = 5\n",
    "\n",
    "for epoch in range(n_epochs):\n",
    "    train_loss = 0\n",
    "    test_loss = 0\n",
    "    \n",
    "    mlp_3.train()\n",
    "    for data, target in trainloader:\n",
    "        # Zero the gradients\n",
    "        optimizer.zero_grad()\n",
    "\n",
    "        # Perform forward pass\n",
    "        output = mlp_3(data.float())\n",
    "\n",
    "        # Compute loss\n",
    "        loss = criterion(output, target)\n",
    "\n",
    "        # Perform backward pass\n",
    "        loss.backward()\n",
    "\n",
    "        # Perform optimization\n",
    "        optimizer.step()\n",
    "\n",
    "        # Print statistics\n",
    "        train_loss += loss.item()*data.size(0)\n",
    "        \n",
    "    with torch.no_grad():\n",
    "        for data, target in testloader:\n",
    "            output = mlp_3(data.float())\n",
    "            loss = criterion(output, target)\n",
    "            test_loss += loss.item()*data.size(0)\n",
    "        \n",
    "    train_loss = train_loss/len(trainloader.dataset)\n",
    "    test_loss = test_loss/len(testloader.dataset)\n",
    "    \n",
    "    print('Epoch: {} \\tTraining Loss: {:.6f} \\tTest Loss: {:.6f}'.format(\n",
    "        epoch+1, \n",
    "        train_loss,\n",
    "        test_loss\n",
    "        ))\n",
    "    \n",
    "    if test_loss <= test_loss_min:\n",
    "        torch.save(mlp_3.state_dict(), 'model_3.pt')\n",
    "        test_loss_min = test_loss\n",
    "\n",
    "  # Process is complete.\n",
    "print('All done.')"
   ]
  },
  {
   "cell_type": "code",
   "execution_count": 94,
   "id": "3b217585",
   "metadata": {},
   "outputs": [],
   "source": [
    "mlp_3.load_state_dict(torch.load('model_3.pt'))\n",
    "testloader = torch.utils.data.DataLoader(test_data_3, batch_size=1, num_workers=1)"
   ]
  },
  {
   "cell_type": "code",
   "execution_count": 95,
   "id": "fc5d14f5",
   "metadata": {},
   "outputs": [],
   "source": [
    "predictions = predict(mlp_3, testloader)\n",
    "predictions = np.array(predictions)"
   ]
  },
  {
   "cell_type": "code",
   "execution_count": 96,
   "id": "fdeb73e6",
   "metadata": {},
   "outputs": [
    {
     "name": "stdout",
     "output_type": "stream",
     "text": [
      "Test Accuracy: 0.70034\n"
     ]
    }
   ],
   "source": [
    "print(\"Test Accuracy:\", accuracy(Y_test_3, predictions))"
   ]
  },
  {
   "cell_type": "markdown",
   "id": "a27cb651",
   "metadata": {},
   "source": [
    "#### Avg Word2Vec Vectors - Google Trained Word2Vec:"
   ]
  },
  {
   "cell_type": "code",
   "execution_count": 97,
   "id": "97e81fb6",
   "metadata": {},
   "outputs": [],
   "source": [
    "# Formatting the data for DataLoader (coverts to tensors):\n",
    "train_data = []\n",
    "for i in range(len(X_train_vectorized_google)):\n",
    "    train_data.append([X_train_vectorized_google[i], Y_train[i]])\n",
    "    \n",
    "test_data = []\n",
    "for i in range(len(X_test_vectorized_google)):\n",
    "    test_data.append([X_test_vectorized_google[i], Y_test[i]])"
   ]
  },
  {
   "cell_type": "code",
   "execution_count": 98,
   "id": "52de80ad",
   "metadata": {},
   "outputs": [],
   "source": [
    "class MLP_Google(nn.Module):\n",
    "\n",
    "    def __init__(self):\n",
    "        super().__init__()\n",
    "\n",
    "        input_dim = 300\n",
    "        hidden_1 = 50\n",
    "        hidden_2 = 10\n",
    "        \n",
    "        self.fc1 = nn.Linear(input_dim, hidden_1)\n",
    "        self.fc2 = nn.Linear(hidden_1, hidden_2)\n",
    "        self.fc3 = nn.Linear(hidden_2, 2)\n",
    "        self.dropout = nn.Dropout(0.2)\n",
    "        #self.act3 = nn.Softmax(dim=1)\n",
    "\n",
    "    def forward(self, x):\n",
    "        x = x.view(-1, 300)\n",
    "        x = F.relu(self.fc1(x))\n",
    "        x = self.dropout(x)\n",
    "        x = F.relu(self.fc2(x))\n",
    "        x = self.dropout(x)\n",
    "        x = self.fc3(x)\n",
    "        return x"
   ]
  },
  {
   "cell_type": "code",
   "execution_count": 99,
   "id": "54bad0aa",
   "metadata": {},
   "outputs": [
    {
     "name": "stdout",
     "output_type": "stream",
     "text": [
      "Epoch: 1 \tTraining Loss: 0.602880 \tTest Loss: 0.480752\n",
      "Epoch: 2 \tTraining Loss: 0.456435 \tTest Loss: 0.436863\n",
      "Epoch: 3 \tTraining Loss: 0.432322 \tTest Loss: 0.423295\n",
      "Epoch: 4 \tTraining Loss: 0.421360 \tTest Loss: 0.416590\n",
      "Epoch: 5 \tTraining Loss: 0.416135 \tTest Loss: 0.410527\n",
      "Epoch: 6 \tTraining Loss: 0.410357 \tTest Loss: 0.408290\n",
      "Epoch: 7 \tTraining Loss: 0.406344 \tTest Loss: 0.404594\n",
      "Epoch: 8 \tTraining Loss: 0.402517 \tTest Loss: 0.401754\n",
      "Epoch: 9 \tTraining Loss: 0.400275 \tTest Loss: 0.400827\n",
      "Epoch: 10 \tTraining Loss: 0.396903 \tTest Loss: 0.399124\n",
      "All done.\n"
     ]
    }
   ],
   "source": [
    "n_epochs = 10\n",
    "trainloader = torch.utils.data.DataLoader(train_data, batch_size=20, num_workers=1)\n",
    "testloader = torch.utils.data.DataLoader(test_data, batch_size=20, num_workers=1)\n",
    "mlp_g = MLP_Google()\n",
    "criterion = nn.CrossEntropyLoss()\n",
    "# optimizer = torch.optim.Adam(mlp_g.parameters(), lr=1e-4)\n",
    "optimizer = torch.optim.SGD(mlp_g.parameters(), lr=0.01)\n",
    "\n",
    "test_loss_min = 5\n",
    "\n",
    "for epoch in range(n_epochs):\n",
    "    train_loss = 0\n",
    "    test_loss = 0\n",
    "    \n",
    "    mlp_g.train()\n",
    "    for data, target in trainloader:\n",
    "        # Zero the gradients\n",
    "        optimizer.zero_grad()\n",
    "\n",
    "        # Perform forward pass\n",
    "        output = mlp_g(data.float())\n",
    "\n",
    "        # Compute loss\n",
    "        loss = criterion(output, target)\n",
    "\n",
    "        # Perform backward pass\n",
    "        loss.backward()\n",
    "\n",
    "        # Perform optimization\n",
    "        optimizer.step()\n",
    "\n",
    "        # Print statistics\n",
    "        train_loss += loss.item()*data.size(0)\n",
    "        \n",
    "    with torch.no_grad():\n",
    "        for data, target in testloader:\n",
    "            output = mlp_g(data.float())\n",
    "            loss = criterion(output, target)\n",
    "            test_loss += loss.item()*data.size(0)\n",
    "        \n",
    "    train_loss = train_loss/len(trainloader.dataset)\n",
    "    test_loss = test_loss/len(testloader.dataset)\n",
    "    \n",
    "    print('Epoch: {} \\tTraining Loss: {:.6f} \\tTest Loss: {:.6f}'.format(\n",
    "        epoch+1, \n",
    "        train_loss,\n",
    "        test_loss\n",
    "        ))\n",
    "    \n",
    "    if test_loss <= test_loss_min:\n",
    "        torch.save(mlp_g.state_dict(), 'model_google.pt')\n",
    "        test_loss_min = test_loss\n",
    "\n",
    "  # Process is complete.\n",
    "print('All done.')"
   ]
  },
  {
   "cell_type": "code",
   "execution_count": 100,
   "id": "472910f5",
   "metadata": {},
   "outputs": [],
   "source": [
    "mlp_g.load_state_dict(torch.load('model_google.pt'))\n",
    "testloader = torch.utils.data.DataLoader(test_data, batch_size=1, num_workers=1)"
   ]
  },
  {
   "cell_type": "code",
   "execution_count": 101,
   "id": "437c7607",
   "metadata": {},
   "outputs": [],
   "source": [
    "predictions = predict(mlp_g, testloader)\n",
    "predictions = np.array(predictions)"
   ]
  },
  {
   "cell_type": "code",
   "execution_count": 102,
   "id": "4b88000a",
   "metadata": {},
   "outputs": [
    {
     "name": "stdout",
     "output_type": "stream",
     "text": [
      "Test Accuracy: 0.8293696490261854\n"
     ]
    }
   ],
   "source": [
    "print(\"Test Accuracy:\", accuracy(Y_test, predictions))"
   ]
  },
  {
   "cell_type": "code",
   "execution_count": 103,
   "id": "3478fb4a",
   "metadata": {},
   "outputs": [],
   "source": [
    "# Vectorize X_train_3:\n",
    "X_train_avg_3 = X_train_3.apply(avg_vector_google)\n",
    "X_train_df_3 = pd.DataFrame.from_dict(dict(zip(X_train_avg_3.index, X_train_avg_3.values))).T\n",
    "X_train_vectorized_google_3 = X_train_df_3.values"
   ]
  },
  {
   "cell_type": "code",
   "execution_count": 104,
   "id": "6cf6c404",
   "metadata": {},
   "outputs": [],
   "source": [
    "# Vectorize X_test_3:\n",
    "X_test_avg_3 = X_test_3.apply(avg_vector_google)\n",
    "X_test_df_3 = pd.DataFrame.from_dict(dict(zip(X_test_avg_3.index, X_test_avg_3.values))).T\n",
    "X_test_vectorized_google_3 = X_test_df_3.values"
   ]
  },
  {
   "cell_type": "code",
   "execution_count": 105,
   "id": "23c84e75",
   "metadata": {},
   "outputs": [],
   "source": [
    "# Formatting the data for DataLoader (coverts to tensors):\n",
    "train_data = []\n",
    "for i in range(len(X_train_vectorized_google_3)):\n",
    "    train_data.append([X_train_vectorized_google_3[i], Y_train_3[i]])\n",
    "    \n",
    "test_data = []\n",
    "for i in range(len(X_test_vectorized_google_3)):\n",
    "    test_data.append([X_test_vectorized_google_3[i], Y_test_3[i]])"
   ]
  },
  {
   "cell_type": "code",
   "execution_count": 106,
   "id": "46ff8ae4",
   "metadata": {},
   "outputs": [],
   "source": [
    "class MLP_Google_3(nn.Module):\n",
    "\n",
    "    def __init__(self):\n",
    "        super().__init__()\n",
    "\n",
    "        input_dim = 300\n",
    "        hidden_1 = 50\n",
    "        hidden_2 = 10\n",
    "        \n",
    "        self.fc1 = nn.Linear(input_dim, hidden_1)\n",
    "        self.fc2 = nn.Linear(hidden_1, hidden_2)\n",
    "        self.fc3 = nn.Linear(hidden_2, 3)\n",
    "        self.dropout = nn.Dropout(0.2)\n",
    "\n",
    "    def forward(self, x):\n",
    "        x = x.view(-1, 300)\n",
    "        x = F.relu(self.fc1(x))\n",
    "        x = self.dropout(x)\n",
    "        x = F.relu(self.fc2(x))\n",
    "        x = self.dropout(x)\n",
    "        x = self.fc3(x)\n",
    "        return x"
   ]
  },
  {
   "cell_type": "code",
   "execution_count": 107,
   "id": "5dcd5532",
   "metadata": {},
   "outputs": [
    {
     "name": "stdout",
     "output_type": "stream",
     "text": [
      "Epoch: 1 \tTraining Loss: 0.995692 \tTest Loss: 0.882435\n",
      "Epoch: 2 \tTraining Loss: 0.855592 \tTest Loss: 0.838903\n",
      "Epoch: 3 \tTraining Loss: 0.832647 \tTest Loss: 0.826379\n",
      "Epoch: 4 \tTraining Loss: 0.825438 \tTest Loss: 0.819853\n",
      "Epoch: 5 \tTraining Loss: 0.819547 \tTest Loss: 0.816651\n",
      "Epoch: 6 \tTraining Loss: 0.815187 \tTest Loss: 0.812054\n",
      "Epoch: 7 \tTraining Loss: 0.813337 \tTest Loss: 0.814574\n",
      "Epoch: 8 \tTraining Loss: 0.810747 \tTest Loss: 0.810736\n",
      "Epoch: 9 \tTraining Loss: 0.807258 \tTest Loss: 0.806242\n",
      "Epoch: 10 \tTraining Loss: 0.804989 \tTest Loss: 0.805657\n",
      "All done.\n"
     ]
    }
   ],
   "source": [
    "n_epochs = 10\n",
    "trainloader = torch.utils.data.DataLoader(train_data, batch_size=20, num_workers=1)\n",
    "testloader = torch.utils.data.DataLoader(test_data, batch_size=20, num_workers=1)\n",
    "mlp_g_3 = MLP_Google_3()\n",
    "criterion = nn.CrossEntropyLoss()\n",
    "# optimizer = torch.optim.Adam(mlp_g.parameters(), lr=1e-4)\n",
    "optimizer = torch.optim.SGD(mlp_g_3.parameters(), lr=0.01)\n",
    "\n",
    "test_loss_min = 5\n",
    "\n",
    "for epoch in range(n_epochs):\n",
    "    train_loss = 0\n",
    "    test_loss = 0\n",
    "    \n",
    "    mlp_g_3.train()\n",
    "    for data, target in trainloader:\n",
    "        # Zero the gradients\n",
    "        optimizer.zero_grad()\n",
    "\n",
    "        # Perform forward pass\n",
    "        output = mlp_g_3(data.float())\n",
    "\n",
    "        # Compute loss\n",
    "        loss = criterion(output, target)\n",
    "\n",
    "        # Perform backward pass\n",
    "        loss.backward()\n",
    "\n",
    "        # Perform optimization\n",
    "        optimizer.step()\n",
    "\n",
    "        # Print statistics\n",
    "        train_loss += loss.item()*data.size(0)\n",
    "        \n",
    "    with torch.no_grad():\n",
    "        for data, target in testloader:\n",
    "            output = mlp_g_3(data.float())\n",
    "            loss = criterion(output, target)\n",
    "            test_loss += loss.item()*data.size(0)\n",
    "        \n",
    "    train_loss = train_loss/len(trainloader.dataset)\n",
    "    test_loss = test_loss/len(testloader.dataset)\n",
    "    \n",
    "    print('Epoch: {} \\tTraining Loss: {:.6f} \\tTest Loss: {:.6f}'.format(\n",
    "        epoch+1, \n",
    "        train_loss,\n",
    "        test_loss\n",
    "        ))\n",
    "    \n",
    "    if test_loss <= test_loss_min:\n",
    "        torch.save(mlp_g_3.state_dict(), 'model_google_3.pt')\n",
    "        test_loss_min = test_loss\n",
    "\n",
    "  # Process is complete.\n",
    "print('All done.')"
   ]
  },
  {
   "cell_type": "code",
   "execution_count": 108,
   "id": "1182c46e",
   "metadata": {},
   "outputs": [],
   "source": [
    "mlp_g_3.load_state_dict(torch.load('model_google_3.pt'))\n",
    "testloader = torch.utils.data.DataLoader(test_data, batch_size=1, num_workers=1)"
   ]
  },
  {
   "cell_type": "code",
   "execution_count": 109,
   "id": "31d85914",
   "metadata": {},
   "outputs": [],
   "source": [
    "predictions = predict(mlp_g_3, testloader)\n",
    "predictions = np.array(predictions)"
   ]
  },
  {
   "cell_type": "code",
   "execution_count": 110,
   "id": "6ef786ed",
   "metadata": {},
   "outputs": [
    {
     "name": "stdout",
     "output_type": "stream",
     "text": [
      "Test Accuracy: 0.65562\n"
     ]
    }
   ],
   "source": [
    "print(\"Test Accuracy:\", accuracy(Y_test_3, predictions))"
   ]
  },
  {
   "cell_type": "markdown",
   "id": "417379c9",
   "metadata": {},
   "source": [
    "### Binary & Ternary Models For First 10 W2V Vectors Models:"
   ]
  },
  {
   "cell_type": "code",
   "execution_count": 111,
   "id": "80f39b5f",
   "metadata": {},
   "outputs": [],
   "source": [
    "def first_10_w2v_mine(review):\n",
    "    features = np.zeros((10,200))\n",
    "    for i, word in enumerate(review):\n",
    "        if i >= 10:\n",
    "            break\n",
    "        elif word in model.wv:\n",
    "            features[i] = model.wv[word]\n",
    "        else:\n",
    "            continue\n",
    "    return features            "
   ]
  },
  {
   "cell_type": "code",
   "execution_count": 112,
   "id": "3888d8da",
   "metadata": {},
   "outputs": [],
   "source": [
    "# Vectorize X_train, X_test:\n",
    "X_train_10 = X_train.apply(first_10_w2v_mine)\n",
    "X_test_10 = X_test.apply(first_10_w2v_mine)"
   ]
  },
  {
   "cell_type": "code",
   "execution_count": 113,
   "id": "4651e528",
   "metadata": {},
   "outputs": [],
   "source": [
    "# Formatting the data for DataLoader (coverts to tensors):\n",
    "train_data = []\n",
    "for i in range(len(X_train_10)):\n",
    "    train_data.append([X_train_10.iloc[i], Y_train[i]])"
   ]
  },
  {
   "cell_type": "code",
   "execution_count": 114,
   "id": "6efdcee4",
   "metadata": {},
   "outputs": [],
   "source": [
    "test_data = []\n",
    "for i in range(len(X_test_10)):\n",
    "    test_data.append([X_test_10.iloc[i], Y_test[i]])"
   ]
  },
  {
   "cell_type": "code",
   "execution_count": 115,
   "id": "790165eb",
   "metadata": {},
   "outputs": [],
   "source": [
    "class MLP_Mine_Binary_10(nn.Module):\n",
    "\n",
    "    def __init__(self):\n",
    "        super().__init__()\n",
    "\n",
    "        vocab_size = 10\n",
    "        embedding_size = 200\n",
    "        hidden_1 = 50\n",
    "        hidden_2 = 10\n",
    "        \n",
    "#         self.embeddings = nn.Embedding(vocab_size, embedding_size)\n",
    "        self.fc1 = nn.Linear(vocab_size*embedding_size, hidden_1)\n",
    "        self.fc2 = nn.Linear(hidden_1, hidden_2)\n",
    "        self.fc3 = nn.Linear(hidden_2, 2)\n",
    "        self.dropout = nn.Dropout(0.2)\n",
    "\n",
    "    def forward(self, x):\n",
    "        x = x.view(-1, 2000)\n",
    "        x = F.relu(self.fc1(x))\n",
    "        x = self.dropout(x)\n",
    "        x = F.relu(self.fc2(x))\n",
    "        x = self.dropout(x)\n",
    "        x = self.fc3(x)\n",
    "        return x"
   ]
  },
  {
   "cell_type": "code",
   "execution_count": 116,
   "id": "93f8986b",
   "metadata": {},
   "outputs": [
    {
     "name": "stdout",
     "output_type": "stream",
     "text": [
      "Epoch: 1 \tTraining Loss: 0.477691 \tTest Loss: 0.449491\n",
      "Epoch: 2 \tTraining Loss: 0.431447 \tTest Loss: 0.443489\n",
      "Epoch: 3 \tTraining Loss: 0.415830 \tTest Loss: 0.439789\n",
      "Epoch: 4 \tTraining Loss: 0.402873 \tTest Loss: 0.442143\n",
      "Epoch: 5 \tTraining Loss: 0.389524 \tTest Loss: 0.447257\n",
      "All done.\n"
     ]
    }
   ],
   "source": [
    "n_epochs = 5\n",
    "trainloader = torch.utils.data.DataLoader(train_data, batch_size=20, num_workers=1)\n",
    "testloader = torch.utils.data.DataLoader(test_data, batch_size=20, num_workers=1)\n",
    "mlp_mine_binary_10 = MLP_Mine_Binary_10()\n",
    "criterion = nn.CrossEntropyLoss()\n",
    "# optimizer = torch.optim.Adam(mlp_g.parameters(), lr=1e-4)\n",
    "optimizer = torch.optim.SGD(mlp_mine_binary_10.parameters(), lr=0.01)\n",
    "\n",
    "test_loss_min = 5\n",
    "\n",
    "for epoch in range(n_epochs):\n",
    "    train_loss = 0\n",
    "    test_loss = 0\n",
    "    \n",
    "    mlp_mine_binary_10.train()\n",
    "    for data, target in trainloader:\n",
    "        # Zero the gradients\n",
    "        optimizer.zero_grad()\n",
    "\n",
    "        # Perform forward pass\n",
    "        output = mlp_mine_binary_10(data.float())\n",
    "\n",
    "        # Compute loss\n",
    "        loss = criterion(output, target)\n",
    "\n",
    "        # Perform backward pass\n",
    "        loss.backward()\n",
    "\n",
    "        # Perform optimization\n",
    "        optimizer.step()\n",
    "\n",
    "        # Print statistics\n",
    "        train_loss += loss.item()*data.size(0)\n",
    "        \n",
    "    with torch.no_grad():\n",
    "        for data, target in testloader:\n",
    "            output = mlp_mine_binary_10(data.float())\n",
    "            loss = criterion(output, target)\n",
    "            test_loss += loss.item()*data.size(0)\n",
    "        \n",
    "    train_loss = train_loss/len(trainloader.dataset)\n",
    "    test_loss = test_loss/len(testloader.dataset)\n",
    "    \n",
    "    print('Epoch: {} \\tTraining Loss: {:.6f} \\tTest Loss: {:.6f}'.format(\n",
    "        epoch+1, \n",
    "        train_loss,\n",
    "        test_loss\n",
    "        ))\n",
    "    \n",
    "    if test_loss <= test_loss_min:\n",
    "        torch.save(mlp_mine_binary_10.state_dict(), 'model_mine_binary_10.pt')\n",
    "        test_loss_min = test_loss\n",
    "\n",
    "  # Process is complete.\n",
    "print('All done.')"
   ]
  },
  {
   "cell_type": "code",
   "execution_count": 117,
   "id": "e6df2932",
   "metadata": {},
   "outputs": [],
   "source": [
    "mlp_mine_binary_10.load_state_dict(torch.load('model_mine_binary_10.pt'))\n",
    "testloader = torch.utils.data.DataLoader(test_data, batch_size=1, num_workers=1)"
   ]
  },
  {
   "cell_type": "code",
   "execution_count": 118,
   "id": "c032271e",
   "metadata": {},
   "outputs": [],
   "source": [
    "predictions = predict(mlp_mine_binary_10, testloader)\n",
    "predictions = np.array(predictions)"
   ]
  },
  {
   "cell_type": "code",
   "execution_count": 119,
   "id": "49f41246",
   "metadata": {},
   "outputs": [
    {
     "name": "stdout",
     "output_type": "stream",
     "text": [
      "Test Accuracy: 0.7984028438391829\n"
     ]
    }
   ],
   "source": [
    "print(\"Test Accuracy:\", accuracy(Y_test, predictions))"
   ]
  },
  {
   "cell_type": "code",
   "execution_count": 120,
   "id": "57217753",
   "metadata": {},
   "outputs": [],
   "source": [
    "# Vectorize X_train_3, X_test_3:\n",
    "X_train_3_10 = X_train_3.apply(first_10_w2v_mine)\n",
    "X_test_3_10 = X_test_3.apply(first_10_w2v_mine)"
   ]
  },
  {
   "cell_type": "code",
   "execution_count": 121,
   "id": "9b743b2b",
   "metadata": {},
   "outputs": [],
   "source": [
    "# Formatting the data for DataLoader (coverts to tensors):\n",
    "train_data_3 = []\n",
    "for i in range(len(X_train_3_10)):\n",
    "    train_data_3.append([X_train_3_10.iloc[i], Y_train_3[i]])\n",
    "    \n",
    "test_data_3 = []\n",
    "for i in range(len(X_test_3_10 )):\n",
    "    test_data_3.append([X_test_3_10.iloc[i], Y_test_3[i]])"
   ]
  },
  {
   "cell_type": "code",
   "execution_count": 122,
   "id": "ee6d7de6",
   "metadata": {},
   "outputs": [],
   "source": [
    "class MLP_Mine_Ternary_10(nn.Module):\n",
    "\n",
    "    def __init__(self):\n",
    "        super().__init__()\n",
    "\n",
    "        vocab_size = 10\n",
    "        embedding_size = 200\n",
    "        hidden_1 = 50\n",
    "        hidden_2 = 10\n",
    "        \n",
    "#         self.embeddings = nn.Embedding(vocab_size, embedding_size)\n",
    "        self.fc1 = nn.Linear(vocab_size*embedding_size, hidden_1)\n",
    "        self.fc2 = nn.Linear(hidden_1, hidden_2)\n",
    "        self.fc3 = nn.Linear(hidden_2, 3)\n",
    "        self.dropout = nn.Dropout(0.2)\n",
    "\n",
    "    def forward(self, x):\n",
    "        x = x.view(-1, 2000)\n",
    "        x = F.relu(self.fc1(x))\n",
    "        x = self.dropout(x)\n",
    "        x = F.relu(self.fc2(x))\n",
    "        x = self.dropout(x)\n",
    "        x = self.fc3(x)\n",
    "        return x"
   ]
  },
  {
   "cell_type": "code",
   "execution_count": 123,
   "id": "03fceba9",
   "metadata": {},
   "outputs": [
    {
     "name": "stdout",
     "output_type": "stream",
     "text": [
      "Epoch: 1 \tTraining Loss: 0.855436 \tTest Loss: 0.832336\n",
      "Epoch: 2 \tTraining Loss: 0.814165 \tTest Loss: 0.826591\n",
      "Epoch: 3 \tTraining Loss: 0.798119 \tTest Loss: 0.825160\n",
      "Epoch: 4 \tTraining Loss: 0.784770 \tTest Loss: 0.825687\n",
      "Epoch: 5 \tTraining Loss: 0.773858 \tTest Loss: 0.831724\n",
      "All done.\n"
     ]
    }
   ],
   "source": [
    "n_epochs = 5\n",
    "trainloader = torch.utils.data.DataLoader(train_data_3, batch_size=20, num_workers=1)\n",
    "testloader = torch.utils.data.DataLoader(test_data_3, batch_size=20, num_workers=1)\n",
    "mlp_mine_ternary_10 = MLP_Mine_Ternary_10()\n",
    "criterion = nn.CrossEntropyLoss()\n",
    "# optimizer = torch.optim.Adam(mlp_g.parameters(), lr=1e-4)\n",
    "optimizer = torch.optim.SGD(mlp_mine_ternary_10.parameters(), lr=0.01)\n",
    "\n",
    "test_loss_min = 5\n",
    "\n",
    "for epoch in range(n_epochs):\n",
    "    train_loss = 0\n",
    "    test_loss = 0\n",
    "    \n",
    "    mlp_mine_ternary_10.train()\n",
    "    for data, target in trainloader:\n",
    "        # Zero the gradients\n",
    "        optimizer.zero_grad()\n",
    "\n",
    "        # Perform forward pass\n",
    "        output = mlp_mine_ternary_10(data.float())\n",
    "\n",
    "        # Compute loss\n",
    "        loss = criterion(output, target)\n",
    "\n",
    "        # Perform backward pass\n",
    "        loss.backward()\n",
    "\n",
    "        # Perform optimization\n",
    "        optimizer.step()\n",
    "\n",
    "        # Print statistics\n",
    "        train_loss += loss.item()*data.size(0)\n",
    "        \n",
    "    with torch.no_grad():\n",
    "        for data, target in testloader:\n",
    "            output = mlp_mine_ternary_10(data.float())\n",
    "            loss = criterion(output, target)\n",
    "            test_loss += loss.item()*data.size(0)\n",
    "        \n",
    "    train_loss = train_loss/len(trainloader.dataset)\n",
    "    test_loss = test_loss/len(testloader.dataset)\n",
    "    \n",
    "    print('Epoch: {} \\tTraining Loss: {:.6f} \\tTest Loss: {:.6f}'.format(\n",
    "        epoch+1, \n",
    "        train_loss,\n",
    "        test_loss\n",
    "        ))\n",
    "    \n",
    "    if test_loss <= test_loss_min:\n",
    "        torch.save(mlp_mine_ternary_10.state_dict(), 'model_mine_ternary_10.pt')\n",
    "        test_loss_min = test_loss\n",
    "\n",
    "  # Process is complete.\n",
    "print('All done.')"
   ]
  },
  {
   "cell_type": "code",
   "execution_count": 124,
   "id": "08d2b266",
   "metadata": {},
   "outputs": [],
   "source": [
    "mlp_mine_ternary_10.load_state_dict(torch.load('model_mine_ternary_10.pt'))\n",
    "testloader = torch.utils.data.DataLoader(test_data_3, batch_size=1, num_workers=1)"
   ]
  },
  {
   "cell_type": "code",
   "execution_count": 125,
   "id": "37126007",
   "metadata": {},
   "outputs": [],
   "source": [
    "predictions = predict(mlp_mine_ternary_10, testloader)\n",
    "predictions = np.array(predictions)"
   ]
  },
  {
   "cell_type": "code",
   "execution_count": 126,
   "id": "66c7e1c8",
   "metadata": {},
   "outputs": [
    {
     "name": "stdout",
     "output_type": "stream",
     "text": [
      "Test Accuracy: 0.64124\n"
     ]
    }
   ],
   "source": [
    "print(\"Test Accuracy:\", accuracy(Y_test_3, predictions))"
   ]
  },
  {
   "cell_type": "markdown",
   "id": "541f2d8c",
   "metadata": {},
   "source": [
    "#### First 10 Features - Google Model:"
   ]
  },
  {
   "cell_type": "code",
   "execution_count": 24,
   "id": "d98c58c6",
   "metadata": {},
   "outputs": [],
   "source": [
    "def first_10_w2v_google(review):\n",
    "    features = np.zeros((10,300))\n",
    "    for i, word in enumerate(review):\n",
    "        if i >= 10:\n",
    "            break\n",
    "        elif word in word2vec:\n",
    "            features[i] = word2vec[word]\n",
    "        else:\n",
    "            continue\n",
    "    return features  "
   ]
  },
  {
   "cell_type": "code",
   "execution_count": 128,
   "id": "7359ebf7",
   "metadata": {},
   "outputs": [],
   "source": [
    "# Vectorize X_train, X_test:\n",
    "X_train_10 = X_train.apply(first_10_w2v_google)\n",
    "X_test_10 = X_test.apply(first_10_w2v_google)"
   ]
  },
  {
   "cell_type": "code",
   "execution_count": 129,
   "id": "f2ffbbd7",
   "metadata": {},
   "outputs": [],
   "source": [
    "# Formatting the data for DataLoader (coverts to tensors):\n",
    "train_data = []\n",
    "for i in range(len(X_train_10)):\n",
    "    train_data.append([X_train_10.iloc[i], Y_train[i]])"
   ]
  },
  {
   "cell_type": "code",
   "execution_count": 130,
   "id": "f5f6de90",
   "metadata": {},
   "outputs": [],
   "source": [
    "test_data = []\n",
    "for i in range(len(X_test_10)):\n",
    "    test_data.append([X_test_10.iloc[i], Y_test[i]])"
   ]
  },
  {
   "cell_type": "code",
   "execution_count": 131,
   "id": "cb8264e7",
   "metadata": {},
   "outputs": [],
   "source": [
    "class MLP_Google_Binary_10(nn.Module):\n",
    "\n",
    "    def __init__(self):\n",
    "        super().__init__()\n",
    "\n",
    "        vocab_size = 10\n",
    "        embedding_size = 300\n",
    "        hidden_1 = 50\n",
    "        hidden_2 = 10\n",
    "        \n",
    "#         self.embeddings = nn.Embedding(vocab_size, embedding_size)\n",
    "        self.fc1 = nn.Linear(vocab_size*embedding_size, hidden_1)\n",
    "        self.fc2 = nn.Linear(hidden_1, hidden_2)\n",
    "        self.fc3 = nn.Linear(hidden_2, 2)\n",
    "        self.dropout = nn.Dropout(0.2)\n",
    "\n",
    "    def forward(self, x):\n",
    "        x = x.view(-1, 3000)\n",
    "        x = F.relu(self.fc1(x))\n",
    "        x = self.dropout(x)\n",
    "        x = F.relu(self.fc2(x))\n",
    "        x = self.dropout(x)\n",
    "        x = self.fc3(x)\n",
    "        return x"
   ]
  },
  {
   "cell_type": "code",
   "execution_count": 132,
   "id": "e5af8269",
   "metadata": {},
   "outputs": [
    {
     "name": "stdout",
     "output_type": "stream",
     "text": [
      "Epoch: 1 \tTraining Loss: 0.579629 \tTest Loss: 0.502423\n",
      "Epoch: 2 \tTraining Loss: 0.486897 \tTest Loss: 0.484351\n",
      "Epoch: 3 \tTraining Loss: 0.466375 \tTest Loss: 0.481704\n",
      "Epoch: 4 \tTraining Loss: 0.449035 \tTest Loss: 0.479321\n",
      "Epoch: 5 \tTraining Loss: 0.431224 \tTest Loss: 0.480469\n",
      "All done.\n"
     ]
    }
   ],
   "source": [
    "n_epochs = 5\n",
    "trainloader = torch.utils.data.DataLoader(train_data, batch_size=20, num_workers=1)\n",
    "testloader = torch.utils.data.DataLoader(test_data, batch_size=20, num_workers=1)\n",
    "mlp_google_binary_10 = MLP_Google_Binary_10()\n",
    "criterion = nn.CrossEntropyLoss()\n",
    "# optimizer = torch.optim.Adam(mlp_g.parameters(), lr=1e-4)\n",
    "optimizer = torch.optim.SGD(mlp_google_binary_10.parameters(), lr=0.01)\n",
    "\n",
    "test_loss_min = 5\n",
    "\n",
    "for epoch in range(n_epochs):\n",
    "    train_loss = 0\n",
    "    test_loss = 0\n",
    "    \n",
    "    mlp_google_binary_10.train()\n",
    "    for data, target in trainloader:\n",
    "        # Zero the gradients\n",
    "        optimizer.zero_grad()\n",
    "\n",
    "        # Perform forward pass\n",
    "        output = mlp_google_binary_10(data.float())\n",
    "\n",
    "        # Compute loss\n",
    "        loss = criterion(output, target)\n",
    "\n",
    "        # Perform backward pass\n",
    "        loss.backward()\n",
    "\n",
    "        # Perform optimization\n",
    "        optimizer.step()\n",
    "\n",
    "        # Print statistics\n",
    "        train_loss += loss.item()*data.size(0)\n",
    "        \n",
    "    with torch.no_grad():\n",
    "        for data, target in testloader:\n",
    "            output = mlp_google_binary_10(data.float())\n",
    "            loss = criterion(output, target)\n",
    "            test_loss += loss.item()*data.size(0)\n",
    "        \n",
    "    train_loss = train_loss/len(trainloader.dataset)\n",
    "    test_loss = test_loss/len(testloader.dataset)\n",
    "    \n",
    "    print('Epoch: {} \\tTraining Loss: {:.6f} \\tTest Loss: {:.6f}'.format(\n",
    "        epoch+1, \n",
    "        train_loss,\n",
    "        test_loss\n",
    "        ))\n",
    "    \n",
    "    if test_loss <= test_loss_min:\n",
    "        torch.save(mlp_google_binary_10.state_dict(), 'model_google_binary_10.pt')\n",
    "        test_loss_min = test_loss\n",
    "\n",
    "  # Process is complete.\n",
    "print('All done.')"
   ]
  },
  {
   "cell_type": "code",
   "execution_count": 133,
   "id": "2540def2",
   "metadata": {},
   "outputs": [],
   "source": [
    "mlp_google_binary_10.load_state_dict(torch.load('model_google_binary_10.pt'))\n",
    "testloader = torch.utils.data.DataLoader(test_data, batch_size=1, num_workers=1)"
   ]
  },
  {
   "cell_type": "code",
   "execution_count": 134,
   "id": "c2105ece",
   "metadata": {},
   "outputs": [],
   "source": [
    "predictions = predict(mlp_google_binary_10, testloader)\n",
    "predictions = np.array(predictions)"
   ]
  },
  {
   "cell_type": "code",
   "execution_count": 135,
   "id": "0e60d444",
   "metadata": {},
   "outputs": [
    {
     "name": "stdout",
     "output_type": "stream",
     "text": [
      "Test Accuracy: 0.7743954338356782\n"
     ]
    }
   ],
   "source": [
    "print(\"Test Accuracy:\", accuracy(Y_test, predictions))"
   ]
  },
  {
   "cell_type": "code",
   "execution_count": 25,
   "id": "8f9711ca",
   "metadata": {},
   "outputs": [],
   "source": [
    "# Vectorize X_train_3, X_test_3:\n",
    "X_train_3_10 = X_train_3.apply(first_10_w2v_google)\n",
    "X_test_3_10 = X_test_3.apply(first_10_w2v_google)"
   ]
  },
  {
   "cell_type": "code",
   "execution_count": 26,
   "id": "0c75ec20",
   "metadata": {},
   "outputs": [],
   "source": [
    "# Formatting the data for DataLoader (coverts to tensors):\n",
    "train_data_3 = []\n",
    "for i in range(50000):\n",
    "    train_data_3.append([X_train_3_10.iloc[i], Y_train_3[i]])\n",
    "    \n",
    "test_data_3 = []\n",
    "for i in range(len(X_test_3_10 )):\n",
    "    test_data_3.append([X_test_3_10.iloc[i], Y_test_3[i]])"
   ]
  },
  {
   "cell_type": "code",
   "execution_count": 27,
   "id": "a4a3fdc5",
   "metadata": {},
   "outputs": [],
   "source": [
    "class MLP_Google_Ternary_10(nn.Module):\n",
    "\n",
    "    def __init__(self):\n",
    "        super().__init__()\n",
    "\n",
    "        vocab_size = 10\n",
    "        embedding_size = 300\n",
    "        hidden_1 = 50\n",
    "        hidden_2 = 10\n",
    "        \n",
    "#         self.embeddings = nn.Embedding(vocab_size, embedding_size)\n",
    "        self.fc1 = nn.Linear(vocab_size*embedding_size, hidden_1)\n",
    "        self.fc2 = nn.Linear(hidden_1, hidden_2)\n",
    "        self.fc3 = nn.Linear(hidden_2, 3)\n",
    "        self.dropout = nn.Dropout(0.2)\n",
    "\n",
    "    def forward(self, x):\n",
    "        x = x.view(-1, 3000)\n",
    "        x = F.relu(self.fc1(x))\n",
    "        x = self.dropout(x)\n",
    "        x = F.relu(self.fc2(x))\n",
    "        x = self.dropout(x)\n",
    "        x = self.fc3(x)\n",
    "        return x"
   ]
  },
  {
   "cell_type": "code",
   "execution_count": 28,
   "id": "d25a5328",
   "metadata": {},
   "outputs": [
    {
     "name": "stdout",
     "output_type": "stream",
     "text": [
      "Epoch: 1 \tTraining Loss: 1.027988 \tTest Loss: 0.965437\n",
      "Epoch: 2 \tTraining Loss: 0.925587 \tTest Loss: 0.918224\n",
      "Epoch: 3 \tTraining Loss: 0.888207 \tTest Loss: 0.901832\n",
      "Epoch: 4 \tTraining Loss: 0.865427 \tTest Loss: 0.896150\n",
      "Epoch: 5 \tTraining Loss: 0.844262 \tTest Loss: 0.891915\n",
      "All done.\n"
     ]
    }
   ],
   "source": [
    "n_epochs = 5\n",
    "trainloader = torch.utils.data.DataLoader(train_data_3, batch_size=20, num_workers=1)\n",
    "testloader = torch.utils.data.DataLoader(test_data_3, batch_size=20, num_workers=1)\n",
    "mlp_google_ternary_10 = MLP_Google_Ternary_10()\n",
    "criterion = nn.CrossEntropyLoss()\n",
    "# optimizer = torch.optim.Adam(mlp_g.parameters(), lr=1e-4)\n",
    "optimizer = torch.optim.SGD(mlp_google_ternary_10.parameters(), lr=0.01)\n",
    "\n",
    "test_loss_min = 5\n",
    "\n",
    "for epoch in range(n_epochs):\n",
    "    train_loss = 0\n",
    "    test_loss = 0\n",
    "    \n",
    "    mlp_google_ternary_10.train()\n",
    "    for data, target in trainloader:\n",
    "        # Zero the gradients\n",
    "        optimizer.zero_grad()\n",
    "\n",
    "        # Perform forward pass\n",
    "        output = mlp_google_ternary_10(data.float())\n",
    "\n",
    "        # Compute loss\n",
    "        loss = criterion(output, target)\n",
    "\n",
    "        # Perform backward pass\n",
    "        loss.backward()\n",
    "\n",
    "        # Perform optimization\n",
    "        optimizer.step()\n",
    "\n",
    "        # Print statistics\n",
    "        train_loss += loss.item()*data.size(0)\n",
    "        \n",
    "    with torch.no_grad():\n",
    "        for data, target in testloader:\n",
    "            output = mlp_google_ternary_10(data.float())\n",
    "            loss = criterion(output, target)\n",
    "            test_loss += loss.item()*data.size(0)\n",
    "        \n",
    "    train_loss = train_loss/len(trainloader.dataset)\n",
    "    test_loss = test_loss/len(testloader.dataset)\n",
    "    \n",
    "    print('Epoch: {} \\tTraining Loss: {:.6f} \\tTest Loss: {:.6f}'.format(\n",
    "        epoch+1, \n",
    "        train_loss,\n",
    "        test_loss\n",
    "        ))\n",
    "    \n",
    "    if test_loss <= test_loss_min:\n",
    "        torch.save(mlp_google_ternary_10.state_dict(), 'model_google_ternary_10.pt')\n",
    "        test_loss_min = test_loss\n",
    "\n",
    "  # Process is complete.\n",
    "print('All done.')"
   ]
  },
  {
   "cell_type": "code",
   "execution_count": 29,
   "id": "191a91ca",
   "metadata": {},
   "outputs": [],
   "source": [
    "mlp_google_ternary_10.load_state_dict(torch.load('model_google_ternary_10.pt'))\n",
    "testloader = torch.utils.data.DataLoader(test_data_3, batch_size=1, num_workers=1)"
   ]
  },
  {
   "cell_type": "code",
   "execution_count": 30,
   "id": "3be6a278",
   "metadata": {},
   "outputs": [],
   "source": [
    "predictions = predict(mlp_google_ternary_10, testloader)\n",
    "predictions = np.array(predictions)"
   ]
  },
  {
   "cell_type": "code",
   "execution_count": 31,
   "id": "6c4c3d62",
   "metadata": {},
   "outputs": [
    {
     "name": "stdout",
     "output_type": "stream",
     "text": [
      "Test Accuracy: 0.60056\n"
     ]
    }
   ],
   "source": [
    "print(\"Test Accuracy:\", accuracy(Y_test_3, predictions))"
   ]
  },
  {
   "cell_type": "markdown",
   "id": "24b3ba08",
   "metadata": {},
   "source": [
    "### 5. RNN"
   ]
  },
  {
   "cell_type": "code",
   "execution_count": 43,
   "id": "9a83b8ae",
   "metadata": {},
   "outputs": [],
   "source": [
    "def first_50_w2v_mine(review):\n",
    "    features = np.zeros((10,200))\n",
    "    for i, word in enumerate(review):\n",
    "        if i >= 10:\n",
    "            break\n",
    "        elif word in model.wv:\n",
    "            features[i] = model.wv[word]\n",
    "        else:\n",
    "            continue\n",
    "    return features "
   ]
  },
  {
   "cell_type": "code",
   "execution_count": 33,
   "id": "f0ad6d47",
   "metadata": {},
   "outputs": [],
   "source": [
    "# Vectorize X_train, X_test:\n",
    "X_train_50 = X_train.apply(first_50_w2v_mine)\n",
    "X_test_50 = X_test.apply(first_50_w2v_mine)"
   ]
  },
  {
   "cell_type": "code",
   "execution_count": 34,
   "id": "f7f51c0d",
   "metadata": {},
   "outputs": [],
   "source": [
    "# Formatting the data for DataLoader (coverts to tensors):\n",
    "train_data = []\n",
    "for i in range(len(X_train_50)):\n",
    "    train_data.append([X_train_50.iloc[i], Y_train[i]])"
   ]
  },
  {
   "cell_type": "code",
   "execution_count": 35,
   "id": "fe1a25b6",
   "metadata": {},
   "outputs": [],
   "source": [
    "test_data = []\n",
    "for i in range(len(X_test_50)):\n",
    "    test_data.append([X_test_50.iloc[i], Y_test[i]])"
   ]
  },
  {
   "cell_type": "code",
   "execution_count": 36,
   "id": "685fa744",
   "metadata": {},
   "outputs": [],
   "source": [
    "from torch.autograd import Variable\n",
    "class RNN_Mine_Binary_50(nn.Module):\n",
    "    def __init__(self, input_dim, hidden_dim, output_dim):\n",
    "        super(RNN_Mine_Binary_50, self).__init__()\n",
    "        \n",
    "        self.input_dim = input_dim\n",
    "        self.hidden_dim = hidden_dim\n",
    "        self.output_dim = output_dim\n",
    "        self.layer_dim = 1\n",
    "\n",
    "        self.rnn = nn.RNN(self.input_dim, self.hidden_dim, self.layer_dim, batch_first=True, nonlinearity='relu')\n",
    "        self.fc = nn.Linear(self.hidden_dim, self.output_dim)\n",
    "\n",
    "    def forward(self, x):\n",
    "        # Initialize hidden state with zeros\n",
    "        h0 = Variable(torch.zeros(self.layer_dim, x.size(0), self.hidden_dim))\n",
    "            \n",
    "        # One time step\n",
    "        out, hn = self.rnn(x, h0)\n",
    "        out = self.fc(out[:, -1, :]) \n",
    "        out = nn.Softmax(dim=1)(out)\n",
    "        return out"
   ]
  },
  {
   "cell_type": "code",
   "execution_count": 37,
   "id": "63715fec",
   "metadata": {},
   "outputs": [
    {
     "name": "stdout",
     "output_type": "stream",
     "text": [
      "Epoch: 1 \tTraining Loss: 0.548213 \tTest Loss: 0.514838\n",
      "Epoch: 2 \tTraining Loss: 0.505670 \tTest Loss: 0.510650\n",
      "Epoch: 3 \tTraining Loss: 0.500859 \tTest Loss: 0.506438\n",
      "Epoch: 4 \tTraining Loss: 0.497493 \tTest Loss: 0.502784\n",
      "Epoch: 5 \tTraining Loss: 0.494619 \tTest Loss: 0.502303\n",
      "All done.\n"
     ]
    }
   ],
   "source": [
    "n_epochs = 5\n",
    "trainloader = torch.utils.data.DataLoader(train_data, batch_size=20, num_workers=1)\n",
    "testloader = torch.utils.data.DataLoader(test_data, batch_size=20, num_workers=1)\n",
    "rnn_mine_binary_50 = RNN_Mine_Binary_50(200,50,2)\n",
    "criterion = nn.CrossEntropyLoss()\n",
    "# optimizer = torch.optim.Adam(mlp_g.parameters(), lr=1e-4)\n",
    "optimizer = torch.optim.SGD(rnn_mine_binary_50.parameters(), lr=0.01)\n",
    "\n",
    "test_loss_min = 5\n",
    "\n",
    "for epoch in range(n_epochs):\n",
    "    train_loss = 0\n",
    "    test_loss = 0\n",
    "    \n",
    "    rnn_mine_binary_50.train()\n",
    "    for data, target in trainloader:\n",
    "        # Zero the gradients\n",
    "        optimizer.zero_grad()\n",
    "\n",
    "        # Perform forward pass\n",
    "        output = rnn_mine_binary_50(data.float())\n",
    "\n",
    "        # Compute loss\n",
    "        loss = criterion(output, target)\n",
    "\n",
    "        # Perform backward pass\n",
    "        loss.backward()\n",
    "\n",
    "        # Perform optimization\n",
    "        optimizer.step()\n",
    "\n",
    "        # Print statistics\n",
    "        train_loss += loss.item()*data.size(0)\n",
    "        \n",
    "    with torch.no_grad():\n",
    "        for data, target in testloader:\n",
    "            output = rnn_mine_binary_50(data.float())\n",
    "            loss = criterion(output, target)\n",
    "            test_loss += loss.item()*data.size(0)\n",
    "        \n",
    "    train_loss = train_loss/len(trainloader.dataset)\n",
    "    test_loss = test_loss/len(testloader.dataset)\n",
    "    \n",
    "    print('Epoch: {} \\tTraining Loss: {:.6f} \\tTest Loss: {:.6f}'.format(\n",
    "        epoch+1, \n",
    "        train_loss,\n",
    "        test_loss\n",
    "        ))\n",
    "    \n",
    "    if test_loss <= test_loss_min:\n",
    "        torch.save(rnn_mine_binary_50.state_dict(), 'rnn_mine_binary_50.pt')\n",
    "        test_loss_min = test_loss\n",
    "\n",
    "  # Process is complete.\n",
    "print('All done.')"
   ]
  },
  {
   "cell_type": "code",
   "execution_count": 38,
   "id": "58cc16f5",
   "metadata": {},
   "outputs": [],
   "source": [
    "rnn_mine_binary_50.load_state_dict(torch.load('rnn_mine_binary_50.pt'))\n",
    "testloader = torch.utils.data.DataLoader(test_data, batch_size=1, num_workers=1)"
   ]
  },
  {
   "cell_type": "code",
   "execution_count": 39,
   "id": "0a480c27",
   "metadata": {},
   "outputs": [],
   "source": [
    "predictions = predict(rnn_mine_binary_50, testloader)\n",
    "predictions = np.array(predictions)"
   ]
  },
  {
   "cell_type": "code",
   "execution_count": 40,
   "id": "5dc30a6f",
   "metadata": {},
   "outputs": [
    {
     "name": "stdout",
     "output_type": "stream",
     "text": [
      "Test Accuracy: 0.8009377664109122\n"
     ]
    }
   ],
   "source": [
    "print(\"Test Accuracy:\", accuracy(Y_test, predictions))"
   ]
  },
  {
   "cell_type": "code",
   "execution_count": 41,
   "id": "09e3cac2",
   "metadata": {},
   "outputs": [],
   "source": [
    "# Vectorize X_train_3, X_test_3:\n",
    "X_train_3_50 = X_train_3.apply(first_50_w2v_mine)\n",
    "X_test_3_50 = X_test_3.apply(first_50_w2v_mine)"
   ]
  },
  {
   "cell_type": "code",
   "execution_count": 42,
   "id": "ec25aebb",
   "metadata": {},
   "outputs": [],
   "source": [
    "# Formatting the data for DataLoader (coverts to tensors):\n",
    "train_data_3 = []\n",
    "for i in range(len(X_train_3_50)):\n",
    "    train_data_3.append([X_train_3_50.iloc[i], Y_train_3[i]])\n",
    "    \n",
    "test_data_3 = []\n",
    "for i in range(len(X_test_3_50)):\n",
    "    test_data_3.append([X_test_3_50.iloc[i], Y_test_3[i]])"
   ]
  },
  {
   "cell_type": "code",
   "execution_count": 43,
   "id": "10d2ee62",
   "metadata": {},
   "outputs": [],
   "source": [
    "class RNN_Mine_Ternary_50(nn.Module):\n",
    "    def __init__(self, input_dim, hidden_dim, output_dim):\n",
    "        super(RNN_Mine_Ternary_50, self).__init__()\n",
    "        \n",
    "        self.input_dim = input_dim\n",
    "        self.hidden_dim = hidden_dim\n",
    "        self.output_dim = output_dim\n",
    "        self.layer_dim = 1\n",
    "\n",
    "        self.rnn = nn.RNN(self.input_dim, self.hidden_dim, self.layer_dim, batch_first=True, nonlinearity='relu')\n",
    "        self.fc = nn.Linear(self.hidden_dim, self.output_dim)\n",
    "\n",
    "    def forward(self, x):\n",
    "        # Initialize hidden state with zeros\n",
    "        h0 = Variable(torch.zeros(self.layer_dim, x.size(0), self.hidden_dim))\n",
    "            \n",
    "        # One time step\n",
    "        out, hn = self.rnn(x, h0)\n",
    "        out = self.fc(out[:, -1, :]) \n",
    "        out = nn.Softmax(dim=1)(out)\n",
    "        return out"
   ]
  },
  {
   "cell_type": "code",
   "execution_count": 44,
   "id": "dae2fd4f",
   "metadata": {},
   "outputs": [
    {
     "name": "stdout",
     "output_type": "stream",
     "text": [
      "Epoch: 1 \tTraining Loss: 0.935764 \tTest Loss: 0.908988\n",
      "Epoch: 2 \tTraining Loss: 0.900973 \tTest Loss: 0.906607\n",
      "Epoch: 3 \tTraining Loss: 0.896076 \tTest Loss: 0.902012\n",
      "Epoch: 4 \tTraining Loss: 0.892633 \tTest Loss: 0.900076\n",
      "Epoch: 5 \tTraining Loss: 0.889609 \tTest Loss: 0.897427\n",
      "All done.\n"
     ]
    }
   ],
   "source": [
    "n_epochs = 5\n",
    "trainloader = torch.utils.data.DataLoader(train_data_3, batch_size=20, num_workers=1)\n",
    "testloader = torch.utils.data.DataLoader(test_data_3, batch_size=20, num_workers=1)\n",
    "rnn_mine_ternary_50 = RNN_Mine_Ternary_50(200,50,3)\n",
    "criterion = nn.CrossEntropyLoss()\n",
    "# optimizer = torch.optim.Adam(mlp_g.parameters(), lr=1e-4)\n",
    "optimizer = torch.optim.SGD(rnn_mine_ternary_50.parameters(), lr=0.01)\n",
    "\n",
    "test_loss_min = 5\n",
    "\n",
    "for epoch in range(n_epochs):\n",
    "    train_loss = 0\n",
    "    test_loss = 0\n",
    "    \n",
    "    rnn_mine_ternary_50.train()\n",
    "    for data, target in trainloader:\n",
    "        # Zero the gradients\n",
    "        optimizer.zero_grad()\n",
    "\n",
    "        # Perform forward pass\n",
    "        output = rnn_mine_ternary_50(data.float())\n",
    "\n",
    "        # Compute loss\n",
    "        loss = criterion(output, target)\n",
    "\n",
    "        # Perform backward pass\n",
    "        loss.backward()\n",
    "\n",
    "        # Perform optimization\n",
    "        optimizer.step()\n",
    "\n",
    "        # Print statistics\n",
    "        train_loss += loss.item()*data.size(0)\n",
    "        \n",
    "    with torch.no_grad():\n",
    "        for data, target in testloader:\n",
    "            output = rnn_mine_ternary_50(data.float())\n",
    "            loss = criterion(output, target)\n",
    "            test_loss += loss.item()*data.size(0)\n",
    "        \n",
    "    train_loss = train_loss/len(trainloader.dataset)\n",
    "    test_loss = test_loss/len(testloader.dataset)\n",
    "    \n",
    "    print('Epoch: {} \\tTraining Loss: {:.6f} \\tTest Loss: {:.6f}'.format(\n",
    "        epoch+1, \n",
    "        train_loss,\n",
    "        test_loss\n",
    "        ))\n",
    "    \n",
    "    if test_loss <= test_loss_min:\n",
    "        torch.save(rnn_mine_ternary_50.state_dict(), 'rnn_mine_ternary_50.pt')\n",
    "        test_loss_min = test_loss\n",
    "\n",
    "  # Process is complete.\n",
    "print('All done.')"
   ]
  },
  {
   "cell_type": "code",
   "execution_count": 45,
   "id": "171eb28b",
   "metadata": {},
   "outputs": [],
   "source": [
    "rnn_mine_ternary_50.load_state_dict(torch.load('rnn_mine_ternary_50.pt'))\n",
    "testloader = torch.utils.data.DataLoader(test_data_3, batch_size=1, num_workers=1)"
   ]
  },
  {
   "cell_type": "code",
   "execution_count": 46,
   "id": "ed3f6b2b",
   "metadata": {},
   "outputs": [],
   "source": [
    "predictions = predict(rnn_mine_ternary_50, testloader)\n",
    "predictions = np.array(predictions)"
   ]
  },
  {
   "cell_type": "code",
   "execution_count": 47,
   "id": "f102efa5",
   "metadata": {},
   "outputs": [
    {
     "name": "stdout",
     "output_type": "stream",
     "text": [
      "Test Accuracy: 0.64018\n"
     ]
    }
   ],
   "source": [
    "print(\"Test Accuracy:\", accuracy(Y_test_3, predictions))"
   ]
  },
  {
   "cell_type": "code",
   "execution_count": 1,
   "id": "5b292245",
   "metadata": {},
   "outputs": [],
   "source": [
    "def first_20_w2v_google(review):\n",
    "    features = np.zeros((20,300))\n",
    "    for i, word in enumerate(review):\n",
    "        if i >= 10:\n",
    "            break\n",
    "        elif word in word2vec:\n",
    "            features[i] = word2vec[word]\n",
    "        else:\n",
    "            continue\n",
    "    return features "
   ]
  },
  {
   "cell_type": "code",
   "execution_count": 25,
   "id": "ceb6487e",
   "metadata": {},
   "outputs": [],
   "source": [
    "# Vectorize X_train, X_test:\n",
    "X_train_20 = X_train.apply(first_20_w2v_google)\n",
    "X_test_20 = X_test.apply(first_20_w2v_google)"
   ]
  },
  {
   "cell_type": "code",
   "execution_count": 26,
   "id": "1af66485",
   "metadata": {},
   "outputs": [],
   "source": [
    "# Formatting the data for DataLoader (coverts to tensors):\n",
    "train_data = []\n",
    "for i in range(len(X_train_20)):\n",
    "    train_data.append([X_train_20.iloc[i], Y_train[i]])"
   ]
  },
  {
   "cell_type": "code",
   "execution_count": 27,
   "id": "abe67b78",
   "metadata": {},
   "outputs": [],
   "source": [
    "test_data = []\n",
    "for i in range(len(X_test_20)):\n",
    "    test_data.append([X_test_20.iloc[i], Y_test[i]])"
   ]
  },
  {
   "cell_type": "code",
   "execution_count": 28,
   "id": "bb82b31d",
   "metadata": {},
   "outputs": [],
   "source": [
    "from torch.autograd import Variable\n",
    "class RNN_Google_Binary_20(nn.Module):\n",
    "    def __init__(self, input_dim, hidden_dim, output_dim):\n",
    "        super(RNN_Google_Binary_20, self).__init__()\n",
    "        \n",
    "        self.input_dim = input_dim\n",
    "        self.hidden_dim = hidden_dim\n",
    "        self.output_dim = output_dim\n",
    "        self.layer_dim = 1\n",
    "\n",
    "        self.rnn = nn.RNN(self.input_dim, self.hidden_dim, self.layer_dim, batch_first=True, nonlinearity='relu')\n",
    "        self.fc = nn.Linear(self.hidden_dim, self.output_dim)\n",
    "\n",
    "    def forward(self, x):\n",
    "        # Initialize hidden state with zeros\n",
    "        h0 = Variable(torch.zeros(self.layer_dim, x.size(0), self.hidden_dim))\n",
    "            \n",
    "        # One time step\n",
    "        out, hn = self.rnn(x, h0)\n",
    "        out = self.fc(out[:, -1, :]) \n",
    "        out = nn.Softmax(dim=1)(out)\n",
    "        return out"
   ]
  },
  {
   "cell_type": "code",
   "execution_count": 29,
   "id": "a48a23e4",
   "metadata": {},
   "outputs": [
    {
     "name": "stdout",
     "output_type": "stream",
     "text": [
      "Epoch: 1 \tTraining Loss: 0.693192 \tTest Loss: 0.693167\n",
      "Epoch: 2 \tTraining Loss: 0.693178 \tTest Loss: 0.693166\n",
      "Epoch: 3 \tTraining Loss: 0.693178 \tTest Loss: 0.693167\n",
      "Epoch: 4 \tTraining Loss: 0.693178 \tTest Loss: 0.693167\n",
      "Epoch: 5 \tTraining Loss: 0.693177 \tTest Loss: 0.693167\n",
      "All done.\n"
     ]
    }
   ],
   "source": [
    "n_epochs = 5\n",
    "trainloader = torch.utils.data.DataLoader(train_data, batch_size=20, num_workers=1)\n",
    "testloader = torch.utils.data.DataLoader(test_data, batch_size=20, num_workers=1)\n",
    "rnn_google_binary_20 = RNN_Google_Binary_20(300,50,2)\n",
    "# rnn_google_binary_50.cuda()\n",
    "# device = torch.device(\"cuda\")\n",
    "criterion = nn.CrossEntropyLoss()\n",
    "# optimizer = torch.optim.Adam(mlp_g.parameters(), lr=1e-4)\n",
    "optimizer = torch.optim.SGD(rnn_google_binary_20.parameters(), lr=0.01)\n",
    "\n",
    "test_loss_min = 5\n",
    "\n",
    "for epoch in range(n_epochs):\n",
    "    train_loss = 0\n",
    "    test_loss = 0\n",
    "    \n",
    "    rnn_google_binary_20.train()\n",
    "    for data, target in trainloader:\n",
    "        # Zero the gradients\n",
    "        optimizer.zero_grad()\n",
    "\n",
    "        # Perform forward pass\n",
    "        output = rnn_google_binary_20(data.float())\n",
    "\n",
    "        # Compute loss\n",
    "        loss = criterion(output, target)\n",
    "\n",
    "        # Perform backward pass\n",
    "        loss.backward()\n",
    "\n",
    "        # Perform optimization\n",
    "        optimizer.step()\n",
    "\n",
    "        # Print statistics\n",
    "        train_loss += loss.item()*data.size(0)\n",
    "        \n",
    "    with torch.no_grad():\n",
    "        for data, target in testloader:\n",
    "            output = rnn_google_binary_20(data.float())\n",
    "            loss = criterion(output, target)\n",
    "            test_loss += loss.item()*data.size(0)\n",
    "        \n",
    "    train_loss = train_loss/len(trainloader.dataset)\n",
    "    test_loss = test_loss/len(testloader.dataset)\n",
    "    \n",
    "    print('Epoch: {} \\tTraining Loss: {:.6f} \\tTest Loss: {:.6f}'.format(\n",
    "        epoch+1, \n",
    "        train_loss,\n",
    "        test_loss\n",
    "        ))\n",
    "    \n",
    "    if test_loss <= test_loss_min:\n",
    "        torch.save(rnn_google_binary_20.state_dict(), 'rnn_google_binary_20.pt')\n",
    "        test_loss_min = test_loss\n",
    "\n",
    "  # Process is complete.\n",
    "print('All done.')"
   ]
  },
  {
   "cell_type": "code",
   "execution_count": 30,
   "id": "256751a0",
   "metadata": {},
   "outputs": [],
   "source": [
    "rnn_google_binary_20.load_state_dict(torch.load('rnn_google_binary_20.pt'))\n",
    "testloader = torch.utils.data.DataLoader(test_data, batch_size=1, num_workers=1)"
   ]
  },
  {
   "cell_type": "code",
   "execution_count": 31,
   "id": "86418c1c",
   "metadata": {},
   "outputs": [],
   "source": [
    "predictions = predict(rnn_google_binary_20, testloader)\n",
    "predictions = np.array(predictions)"
   ]
  },
  {
   "cell_type": "code",
   "execution_count": 33,
   "id": "86f548ae",
   "metadata": {},
   "outputs": [
    {
     "name": "stdout",
     "output_type": "stream",
     "text": [
      "Test Accuracy: 0.49921184977606525\n"
     ]
    }
   ],
   "source": [
    "print(\"Test Accuracy:\", accuracy(Y_test, predictions))"
   ]
  },
  {
   "cell_type": "code",
   "execution_count": 33,
   "id": "f8e5fe83",
   "metadata": {},
   "outputs": [],
   "source": [
    "def first_10_w2v_google(review):\n",
    "    features = np.zeros((10,300))\n",
    "    for i, word in enumerate(review):\n",
    "        if i >= 10:\n",
    "            break\n",
    "        elif word in word2vec:\n",
    "            features[i] = word2vec[word]\n",
    "        else:\n",
    "            continue\n",
    "    return features "
   ]
  },
  {
   "cell_type": "code",
   "execution_count": 35,
   "id": "7d6c19d6",
   "metadata": {},
   "outputs": [],
   "source": [
    "# Vectorize X_train_3, X_test_3:\n",
    "X_train_3_10 = X_train_3.apply(first_10_w2v_google)\n",
    "X_test_3_10 = X_test_3.apply(first_10_w2v_google)"
   ]
  },
  {
   "cell_type": "code",
   "execution_count": 36,
   "id": "c014dbb3",
   "metadata": {},
   "outputs": [],
   "source": [
    "# Formatting the data for DataLoader (coverts to tensors):\n",
    "train_data_3 = []\n",
    "for i in range(len(X_train_3_10)):\n",
    "    train_data_3.append([X_train_3_10.iloc[i], Y_train_3[i]])\n",
    "    \n",
    "test_data_3 = []\n",
    "for i in range(len(X_test_3_10)):\n",
    "    test_data_3.append([X_test_3_10.iloc[i], Y_test_3[i]])"
   ]
  },
  {
   "cell_type": "code",
   "execution_count": 37,
   "id": "6087ea4e",
   "metadata": {},
   "outputs": [],
   "source": [
    "from torch.autograd import Variable\n",
    "class RNN_Google_Ternary_10(nn.Module):\n",
    "    def __init__(self, input_dim, hidden_dim, output_dim):\n",
    "        super(RNN_Google_Ternary_10, self).__init__()\n",
    "        \n",
    "        self.input_dim = input_dim\n",
    "        self.hidden_dim = hidden_dim\n",
    "        self.output_dim = output_dim\n",
    "        self.layer_dim = 1\n",
    "\n",
    "        self.rnn = nn.RNN(self.input_dim, self.hidden_dim, self.layer_dim, batch_first=True, nonlinearity='relu')\n",
    "        self.fc = nn.Linear(self.hidden_dim, self.output_dim)\n",
    "\n",
    "    def forward(self, x):\n",
    "        # Initialize hidden state with zeros\n",
    "        h0 = Variable(torch.zeros(self.layer_dim, x.size(0), self.hidden_dim))\n",
    "            \n",
    "        # One time step\n",
    "        out, hn = self.rnn(x, h0)\n",
    "        out = self.fc(out[:, -1, :]) \n",
    "        out = nn.Softmax(dim=1)(out)\n",
    "        return out"
   ]
  },
  {
   "cell_type": "code",
   "execution_count": 38,
   "id": "18351c7d",
   "metadata": {},
   "outputs": [
    {
     "name": "stdout",
     "output_type": "stream",
     "text": [
      "Epoch: 1 \tTraining Loss: 1.018233 \tTest Loss: 0.946186\n",
      "Epoch: 2 \tTraining Loss: 0.935987 \tTest Loss: 0.930667\n",
      "Epoch: 3 \tTraining Loss: 0.924268 \tTest Loss: 0.922230\n",
      "Epoch: 4 \tTraining Loss: 0.916954 \tTest Loss: 0.915665\n",
      "Epoch: 5 \tTraining Loss: 0.911168 \tTest Loss: 0.910946\n",
      "All done.\n"
     ]
    }
   ],
   "source": [
    "n_epochs = 5\n",
    "trainloader = torch.utils.data.DataLoader(train_data_3, batch_size=20, num_workers=1)\n",
    "testloader = torch.utils.data.DataLoader(test_data_3, batch_size=20, num_workers=1)\n",
    "rnn_google_ternary_10 = RNN_Google_Ternary_10(300,50,3)\n",
    "# rnn_google_binary_50.cuda()\n",
    "# device = torch.device(\"cuda\")\n",
    "criterion = nn.CrossEntropyLoss()\n",
    "# optimizer = torch.optim.Adam(mlp_g.parameters(), lr=1e-4)\n",
    "optimizer = torch.optim.SGD(rnn_google_ternary_10.parameters(), lr=0.01)\n",
    "\n",
    "test_loss_min = 5\n",
    "\n",
    "for epoch in range(n_epochs):\n",
    "    train_loss = 0\n",
    "    test_loss = 0\n",
    "    \n",
    "    rnn_google_ternary_10.train()\n",
    "    for data, target in trainloader:\n",
    "        # Zero the gradients\n",
    "        optimizer.zero_grad()\n",
    "\n",
    "        # Perform forward pass\n",
    "        output = rnn_google_ternary_10(data.float())\n",
    "\n",
    "        # Compute loss\n",
    "        loss = criterion(output, target)\n",
    "\n",
    "        # Perform backward pass\n",
    "        loss.backward()\n",
    "\n",
    "        # Perform optimization\n",
    "        optimizer.step()\n",
    "\n",
    "        # Print statistics\n",
    "        train_loss += loss.item()*data.size(0)\n",
    "        \n",
    "    with torch.no_grad():\n",
    "        for data, target in testloader:\n",
    "            output = rnn_google_ternary_10(data.float())\n",
    "            loss = criterion(output, target)\n",
    "            test_loss += loss.item()*data.size(0)\n",
    "        \n",
    "    train_loss = train_loss/len(trainloader.dataset)\n",
    "    test_loss = test_loss/len(testloader.dataset)\n",
    "    \n",
    "    print('Epoch: {} \\tTraining Loss: {:.6f} \\tTest Loss: {:.6f}'.format(\n",
    "        epoch+1, \n",
    "        train_loss,\n",
    "        test_loss\n",
    "        ))\n",
    "    \n",
    "    if test_loss <= test_loss_min:\n",
    "        torch.save(rnn_google_ternary_10.state_dict(), 'rnn_google_ternary_10.pt')\n",
    "        test_loss_min = test_loss\n",
    "\n",
    "  # Process is complete.\n",
    "print('All done.')"
   ]
  },
  {
   "cell_type": "code",
   "execution_count": 39,
   "id": "e4541ef8",
   "metadata": {},
   "outputs": [],
   "source": [
    "rnn_google_ternary_10.load_state_dict(torch.load('rnn_google_ternary_10.pt'))\n",
    "testloader = torch.utils.data.DataLoader(test_data_3, batch_size=1, num_workers=1)"
   ]
  },
  {
   "cell_type": "code",
   "execution_count": 40,
   "id": "78b5c1e1",
   "metadata": {},
   "outputs": [],
   "source": [
    "predictions = predict(rnn_google_ternary_10, testloader)\n",
    "predictions = np.array(predictions)"
   ]
  },
  {
   "cell_type": "code",
   "execution_count": 41,
   "id": "56fbecec",
   "metadata": {},
   "outputs": [
    {
     "name": "stdout",
     "output_type": "stream",
     "text": [
      "Test Accuracy: 0.62742\n"
     ]
    }
   ],
   "source": [
    "print(\"Test Accuracy:\", accuracy(Y_test_3, predictions))"
   ]
  },
  {
   "cell_type": "markdown",
   "id": "43bd86ca",
   "metadata": {},
   "source": [
    "### GRU"
   ]
  },
  {
   "cell_type": "code",
   "execution_count": 44,
   "id": "75e1a83f",
   "metadata": {},
   "outputs": [],
   "source": [
    "# Vectorize X_train, X_test:\n",
    "X_train_50 = X_train.apply(first_50_w2v_mine)\n",
    "X_test_50 = X_test.apply(first_50_w2v_mine)"
   ]
  },
  {
   "cell_type": "code",
   "execution_count": 45,
   "id": "1632b8d4",
   "metadata": {},
   "outputs": [],
   "source": [
    "# Formatting the data for DataLoader (coverts to tensors):\n",
    "train_data = []\n",
    "for i in range(len(X_train_50)):\n",
    "    train_data.append([X_train_50.iloc[i], Y_train[i]])"
   ]
  },
  {
   "cell_type": "code",
   "execution_count": 46,
   "id": "08c262e9",
   "metadata": {},
   "outputs": [],
   "source": [
    "test_data = []\n",
    "for i in range(len(X_test_50)):\n",
    "    test_data.append([X_test_50.iloc[i], Y_test[i]])"
   ]
  },
  {
   "cell_type": "code",
   "execution_count": 47,
   "id": "b98a2d9d",
   "metadata": {},
   "outputs": [],
   "source": [
    "from torch.autograd import Variable\n",
    "class GRU_Mine_Binary_50(nn.Module):\n",
    "    def __init__(self, input_dim, hidden_dim, output_dim):\n",
    "        super(GRU_Mine_Binary_50, self).__init__()\n",
    "        \n",
    "        self.input_dim = input_dim\n",
    "        self.hidden_dim = hidden_dim\n",
    "        self.output_dim = output_dim\n",
    "        self.layer_dim = 1\n",
    "\n",
    "        self.rnn = nn.GRU(self.input_dim, self.hidden_dim, self.layer_dim, batch_first=True)\n",
    "        self.fc = nn.Linear(self.hidden_dim, self.output_dim)\n",
    "\n",
    "    def forward(self, x):\n",
    "        # Initialize hidden state with zeros\n",
    "        h0 = Variable(torch.zeros(self.layer_dim, x.size(0), self.hidden_dim))\n",
    "            \n",
    "        # One time step\n",
    "        out, hn = self.rnn(x, h0)\n",
    "        out = self.fc(out[:, -1, :]) \n",
    "        out = nn.Softmax(dim=1)(out)\n",
    "        return out"
   ]
  },
  {
   "cell_type": "code",
   "execution_count": 48,
   "id": "7ef1313f",
   "metadata": {},
   "outputs": [
    {
     "name": "stdout",
     "output_type": "stream",
     "text": [
      "Epoch: 1 \tTraining Loss: 0.588531 \tTest Loss: 0.522622\n",
      "Epoch: 2 \tTraining Loss: 0.508419 \tTest Loss: 0.502364\n",
      "Epoch: 3 \tTraining Loss: 0.497792 \tTest Loss: 0.498301\n",
      "Epoch: 4 \tTraining Loss: 0.492826 \tTest Loss: 0.496207\n",
      "Epoch: 5 \tTraining Loss: 0.489045 \tTest Loss: 0.494325\n",
      "All done.\n"
     ]
    }
   ],
   "source": [
    "n_epochs = 5\n",
    "trainloader = torch.utils.data.DataLoader(train_data, batch_size=20, num_workers=1)\n",
    "testloader = torch.utils.data.DataLoader(test_data, batch_size=20, num_workers=1)\n",
    "gru_mine_binary_50 = GRU_Mine_Binary_50(200,50,2)\n",
    "criterion = nn.CrossEntropyLoss()\n",
    "# optimizer = torch.optim.Adam(mlp_g.parameters(), lr=1e-4)\n",
    "optimizer = torch.optim.SGD(gru_mine_binary_50.parameters(), lr=0.01)\n",
    "\n",
    "test_loss_min = 5\n",
    "\n",
    "for epoch in range(n_epochs):\n",
    "    train_loss = 0\n",
    "    test_loss = 0\n",
    "    \n",
    "    gru_mine_binary_50.train()\n",
    "    for data, target in trainloader:\n",
    "        # Zero the gradients\n",
    "        optimizer.zero_grad()\n",
    "\n",
    "        # Perform forward pass\n",
    "        output = gru_mine_binary_50(data.float())\n",
    "\n",
    "        # Compute loss\n",
    "        loss = criterion(output, target)\n",
    "\n",
    "        # Perform backward pass\n",
    "        loss.backward()\n",
    "\n",
    "        # Perform optimization\n",
    "        optimizer.step()\n",
    "\n",
    "        # Print statistics\n",
    "        train_loss += loss.item()*data.size(0)\n",
    "        \n",
    "    with torch.no_grad():\n",
    "        for data, target in testloader:\n",
    "            output = gru_mine_binary_50(data.float())\n",
    "            loss = criterion(output, target)\n",
    "            test_loss += loss.item()*data.size(0)\n",
    "        \n",
    "    train_loss = train_loss/len(trainloader.dataset)\n",
    "    test_loss = test_loss/len(testloader.dataset)\n",
    "    \n",
    "    print('Epoch: {} \\tTraining Loss: {:.6f} \\tTest Loss: {:.6f}'.format(\n",
    "        epoch+1, \n",
    "        train_loss,\n",
    "        test_loss\n",
    "        ))\n",
    "    \n",
    "    if test_loss <= test_loss_min:\n",
    "        torch.save(gru_mine_binary_50.state_dict(), 'gru_mine_binary_50.pt')\n",
    "        test_loss_min = test_loss\n",
    "\n",
    "  # Process is complete.\n",
    "print('All done.')"
   ]
  },
  {
   "cell_type": "code",
   "execution_count": 49,
   "id": "73291646",
   "metadata": {},
   "outputs": [],
   "source": [
    "gru_mine_binary_50.load_state_dict(torch.load('gru_mine_binary_50.pt'))\n",
    "testloader = torch.utils.data.DataLoader(test_data, batch_size=1, num_workers=1)"
   ]
  },
  {
   "cell_type": "code",
   "execution_count": 50,
   "id": "5f7fcaf9",
   "metadata": {},
   "outputs": [],
   "source": [
    "predictions = predict(gru_mine_binary_50, testloader)\n",
    "predictions = np.array(predictions)"
   ]
  },
  {
   "cell_type": "code",
   "execution_count": 51,
   "id": "b3359ae8",
   "metadata": {},
   "outputs": [
    {
     "name": "stdout",
     "output_type": "stream",
     "text": [
      "Test Accuracy: 0.8086421297570495\n"
     ]
    }
   ],
   "source": [
    "print(\"Test Accuracy:\", accuracy(Y_test, predictions))"
   ]
  },
  {
   "cell_type": "code",
   "execution_count": 52,
   "id": "91b0f114",
   "metadata": {},
   "outputs": [],
   "source": [
    "# Vectorize X_train_3, X_test_3:\n",
    "X_train_3_50 = X_train_3.apply(first_50_w2v_mine)\n",
    "X_test_3_50 = X_test_3.apply(first_50_w2v_mine)"
   ]
  },
  {
   "cell_type": "code",
   "execution_count": 53,
   "id": "8449f2fe",
   "metadata": {},
   "outputs": [],
   "source": [
    "# Formatting the data for DataLoader (coverts to tensors):\n",
    "train_data_3 = []\n",
    "for i in range(len(X_train_3_50)):\n",
    "    train_data_3.append([X_train_3_50.iloc[i], Y_train_3[i]])\n",
    "    \n",
    "test_data_3 = []\n",
    "for i in range(len(X_test_3_50)):\n",
    "    test_data_3.append([X_test_3_50.iloc[i], Y_test_3[i]])"
   ]
  },
  {
   "cell_type": "code",
   "execution_count": 54,
   "id": "2d81ed1c",
   "metadata": {},
   "outputs": [],
   "source": [
    "from torch.autograd import Variable\n",
    "class GRU_Mine_Ternary_50(nn.Module):\n",
    "    def __init__(self, input_dim, hidden_dim, output_dim):\n",
    "        super(GRU_Mine_Ternary_50, self).__init__()\n",
    "        \n",
    "        self.input_dim = input_dim\n",
    "        self.hidden_dim = hidden_dim\n",
    "        self.output_dim = output_dim\n",
    "        self.layer_dim = 1\n",
    "\n",
    "        self.rnn = nn.GRU(self.input_dim, self.hidden_dim, self.layer_dim, batch_first=True)\n",
    "        self.fc = nn.Linear(self.hidden_dim, self.output_dim)\n",
    "\n",
    "    def forward(self, x):\n",
    "        # Initialize hidden state with zeros\n",
    "        h0 = Variable(torch.zeros(self.layer_dim, x.size(0), self.hidden_dim))\n",
    "            \n",
    "        # One time step\n",
    "        out, hn = self.rnn(x, h0)\n",
    "        out = self.fc(out[:, -1, :]) \n",
    "        out = nn.Softmax(dim=1)(out)\n",
    "        return out"
   ]
  },
  {
   "cell_type": "code",
   "execution_count": 55,
   "id": "de6a2145",
   "metadata": {},
   "outputs": [
    {
     "name": "stdout",
     "output_type": "stream",
     "text": [
      "Epoch: 1 \tTraining Loss: 0.973553 \tTest Loss: 0.916444\n",
      "Epoch: 2 \tTraining Loss: 0.905931 \tTest Loss: 0.901182\n",
      "Epoch: 3 \tTraining Loss: 0.896875 \tTest Loss: 0.896730\n",
      "Epoch: 4 \tTraining Loss: 0.891677 \tTest Loss: 0.893707\n",
      "Epoch: 5 \tTraining Loss: 0.887691 \tTest Loss: 0.890985\n",
      "All done.\n"
     ]
    }
   ],
   "source": [
    "n_epochs = 5\n",
    "trainloader = torch.utils.data.DataLoader(train_data_3, batch_size=20, num_workers=1)\n",
    "testloader = torch.utils.data.DataLoader(test_data_3, batch_size=20, num_workers=1)\n",
    "gru_mine_ternary_50 = GRU_Mine_Ternary_50(200,50,3)\n",
    "# rnn_google_binary_50.cuda()\n",
    "# device = torch.device(\"cuda\")\n",
    "criterion = nn.CrossEntropyLoss()\n",
    "# optimizer = torch.optim.Adam(mlp_g.parameters(), lr=1e-4)\n",
    "optimizer = torch.optim.SGD(gru_mine_ternary_50.parameters(), lr=0.01)\n",
    "\n",
    "test_loss_min = 5\n",
    "\n",
    "for epoch in range(n_epochs):\n",
    "    train_loss = 0\n",
    "    test_loss = 0\n",
    "    \n",
    "    gru_mine_ternary_50.train()\n",
    "    for data, target in trainloader:\n",
    "        # Zero the gradients\n",
    "        optimizer.zero_grad()\n",
    "\n",
    "        # Perform forward pass\n",
    "        output = gru_mine_ternary_50(data.float())\n",
    "\n",
    "        # Compute loss\n",
    "        loss = criterion(output, target)\n",
    "\n",
    "        # Perform backward pass\n",
    "        loss.backward()\n",
    "\n",
    "        # Perform optimization\n",
    "        optimizer.step()\n",
    "\n",
    "        # Print statistics\n",
    "        train_loss += loss.item()*data.size(0)\n",
    "        \n",
    "    with torch.no_grad():\n",
    "        for data, target in testloader:\n",
    "            output = gru_mine_ternary_50(data.float())\n",
    "            loss = criterion(output, target)\n",
    "            test_loss += loss.item()*data.size(0)\n",
    "        \n",
    "    train_loss = train_loss/len(trainloader.dataset)\n",
    "    test_loss = test_loss/len(testloader.dataset)\n",
    "    \n",
    "    print('Epoch: {} \\tTraining Loss: {:.6f} \\tTest Loss: {:.6f}'.format(\n",
    "        epoch+1, \n",
    "        train_loss,\n",
    "        test_loss\n",
    "        ))\n",
    "    \n",
    "    if test_loss <= test_loss_min:\n",
    "        torch.save(gru_mine_ternary_50.state_dict(), 'gru_mine_ternary_50.pt')\n",
    "        test_loss_min = test_loss\n",
    "\n",
    "  # Process is complete.\n",
    "print('All done.')"
   ]
  },
  {
   "cell_type": "code",
   "execution_count": 56,
   "id": "fe8409d4",
   "metadata": {},
   "outputs": [],
   "source": [
    "gru_mine_ternary_50.load_state_dict(torch.load('gru_mine_ternary_50.pt'))\n",
    "testloader = torch.utils.data.DataLoader(test_data_3, batch_size=1, num_workers=1)"
   ]
  },
  {
   "cell_type": "code",
   "execution_count": 57,
   "id": "59fda98d",
   "metadata": {},
   "outputs": [],
   "source": [
    "predictions = predict(gru_mine_ternary_50, testloader)\n",
    "predictions = np.array(predictions)"
   ]
  },
  {
   "cell_type": "code",
   "execution_count": 58,
   "id": "a3e229a8",
   "metadata": {},
   "outputs": [
    {
     "name": "stdout",
     "output_type": "stream",
     "text": [
      "Test Accuracy: 0.6485\n"
     ]
    }
   ],
   "source": [
    "print(\"Test Accuracy:\", accuracy(Y_test_3, predictions))"
   ]
  },
  {
   "cell_type": "markdown",
   "id": "14cba632",
   "metadata": {},
   "source": [
    "#### GRU-Google:"
   ]
  },
  {
   "cell_type": "code",
   "execution_count": 24,
   "id": "bb8bacce",
   "metadata": {},
   "outputs": [],
   "source": [
    "# Vectorize X_train, X_test:\n",
    "X_train_50 = X_train.apply(first_20_w2v_google)\n",
    "X_test_50 = X_test.apply(first_20_w2v_google)"
   ]
  },
  {
   "cell_type": "code",
   "execution_count": 25,
   "id": "5ec3565d",
   "metadata": {},
   "outputs": [],
   "source": [
    "# Formatting the data for DataLoader (coverts to tensors):\n",
    "train_data = []\n",
    "for i in range(50000):\n",
    "    train_data.append([X_train_50.iloc[i], Y_train[i]])"
   ]
  },
  {
   "cell_type": "code",
   "execution_count": 26,
   "id": "d6b99c06",
   "metadata": {},
   "outputs": [],
   "source": [
    "test_data = []\n",
    "for i in range(len(X_test_50)):\n",
    "    test_data.append([X_test_50.iloc[i], Y_test[i]])"
   ]
  },
  {
   "cell_type": "code",
   "execution_count": 27,
   "id": "35f4b40f",
   "metadata": {},
   "outputs": [],
   "source": [
    "from torch.autograd import Variable\n",
    "class GRU_Google_Binary_50(nn.Module):\n",
    "    def __init__(self, input_dim, hidden_dim, output_dim):\n",
    "        super(GRU_Google_Binary_50, self).__init__()\n",
    "        \n",
    "        self.input_dim = input_dim\n",
    "        self.hidden_dim = hidden_dim\n",
    "        self.output_dim = output_dim\n",
    "        self.layer_dim = 1\n",
    "\n",
    "        self.gru = nn.GRU(self.input_dim, self.hidden_dim, self.layer_dim, batch_first=True)\n",
    "        self.fc = nn.Linear(self.hidden_dim, self.output_dim)\n",
    "\n",
    "    def forward(self, x):\n",
    "        # Initialize hidden state with zeros\n",
    "        h0 = Variable(torch.zeros(self.layer_dim, x.size(0), self.hidden_dim))\n",
    "            \n",
    "        # One time step\n",
    "        out, hn = self.gru(x, h0)\n",
    "        out = self.fc(out[:, -1, :]) \n",
    "        out = nn.Softmax(dim=1)(out)\n",
    "        return out"
   ]
  },
  {
   "cell_type": "code",
   "execution_count": 28,
   "id": "ea48f92a",
   "metadata": {},
   "outputs": [
    {
     "name": "stdout",
     "output_type": "stream",
     "text": [
      "Epoch: 1 \tTraining Loss: 0.693459 \tTest Loss: 0.693150\n",
      "Epoch: 2 \tTraining Loss: 0.693412 \tTest Loss: 0.693142\n",
      "Epoch: 3 \tTraining Loss: 0.693386 \tTest Loss: 0.693136\n",
      "Epoch: 4 \tTraining Loss: 0.693366 \tTest Loss: 0.693131\n",
      "Epoch: 5 \tTraining Loss: 0.693350 \tTest Loss: 0.693125\n",
      "All done.\n"
     ]
    }
   ],
   "source": [
    "n_epochs = 5\n",
    "trainloader = torch.utils.data.DataLoader(train_data, batch_size=20, num_workers=1)\n",
    "testloader = torch.utils.data.DataLoader(test_data, batch_size=20, num_workers=1)\n",
    "gru_google_binary_50 = GRU_Google_Binary_50(300,50,2)\n",
    "criterion = nn.CrossEntropyLoss()\n",
    "# optimizer = torch.optim.Adam(mlp_g.parameters(), lr=1e-4)\n",
    "optimizer = torch.optim.SGD(gru_google_binary_50.parameters(), lr=0.1)\n",
    "\n",
    "test_loss_min = 5\n",
    "\n",
    "for epoch in range(n_epochs):\n",
    "    train_loss = 0\n",
    "    test_loss = 0\n",
    "    \n",
    "    gru_google_binary_50.train()\n",
    "    for data, target in trainloader:\n",
    "        # Zero the gradients\n",
    "        optimizer.zero_grad()\n",
    "\n",
    "        # Perform forward pass\n",
    "        output = gru_google_binary_50(data.float())\n",
    "\n",
    "        # Compute loss\n",
    "        loss = criterion(output, target)\n",
    "\n",
    "        # Perform backward pass\n",
    "        loss.backward()\n",
    "\n",
    "        # Perform optimization\n",
    "        optimizer.step()\n",
    "\n",
    "        # Print statistics\n",
    "        train_loss += loss.item()*data.size(0)\n",
    "        \n",
    "    with torch.no_grad():\n",
    "        for data, target in testloader:\n",
    "            output = gru_google_binary_50(data.float())\n",
    "            loss = criterion(output, target)\n",
    "            test_loss += loss.item()*data.size(0)\n",
    "        \n",
    "    train_loss = train_loss/len(trainloader.dataset)\n",
    "    test_loss = test_loss/len(testloader.dataset)\n",
    "    \n",
    "    print('Epoch: {} \\tTraining Loss: {:.6f} \\tTest Loss: {:.6f}'.format(\n",
    "        epoch+1, \n",
    "        train_loss,\n",
    "        test_loss\n",
    "        ))\n",
    "    \n",
    "    if test_loss <= test_loss_min:\n",
    "        torch.save(gru_google_binary_50.state_dict(), 'gru_google_binary_50.pt')\n",
    "        test_loss_min = test_loss\n",
    "\n",
    "  # Process is complete.\n",
    "print('All done.')"
   ]
  },
  {
   "cell_type": "code",
   "execution_count": 29,
   "id": "f5b79554",
   "metadata": {},
   "outputs": [],
   "source": [
    "gru_google_binary_50.load_state_dict(torch.load('gru_google_binary_50.pt'))\n",
    "testloader = torch.utils.data.DataLoader(test_data, batch_size=1, num_workers=1)"
   ]
  },
  {
   "cell_type": "code",
   "execution_count": 30,
   "id": "3bc9f030",
   "metadata": {},
   "outputs": [],
   "source": [
    "predictions = predict(gru_google_binary_50, testloader)\n",
    "predictions = np.array(predictions)"
   ]
  },
  {
   "cell_type": "code",
   "execution_count": 31,
   "id": "1986376b",
   "metadata": {},
   "outputs": [
    {
     "name": "stdout",
     "output_type": "stream",
     "text": [
      "Test Accuracy: 0.5809893550407013\n"
     ]
    }
   ],
   "source": [
    "print(\"Test Accuracy:\", accuracy(Y_test, predictions))"
   ]
  },
  {
   "cell_type": "code",
   "execution_count": 34,
   "id": "e4fabdeb",
   "metadata": {},
   "outputs": [],
   "source": [
    "# Vectorize X_train_3, X_test_3:\n",
    "X_train_3_50 = X_train_3.apply(first_10_w2v_google)\n",
    "X_test_3_50 = X_test_3.apply(first_10_w2v_google)"
   ]
  },
  {
   "cell_type": "code",
   "execution_count": 35,
   "id": "617d5119",
   "metadata": {},
   "outputs": [],
   "source": [
    "# Formatting the data for DataLoader (coverts to tensors):\n",
    "train_data_3 = []\n",
    "for i in range(50000):\n",
    "    train_data_3.append([X_train_3_50.iloc[i], Y_train_3[i]])\n",
    "    \n",
    "test_data_3 = []\n",
    "for i in range(len(X_test_3_50)):\n",
    "    test_data_3.append([X_test_3_50.iloc[i], Y_test_3[i]])"
   ]
  },
  {
   "cell_type": "code",
   "execution_count": 36,
   "id": "67dbf933",
   "metadata": {},
   "outputs": [],
   "source": [
    "from torch.autograd import Variable\n",
    "class GRU_Google_Ternary_50(nn.Module):\n",
    "    def __init__(self, input_dim, hidden_dim, output_dim):\n",
    "        super(GRU_Google_Ternary_50, self).__init__()\n",
    "        \n",
    "        self.input_dim = input_dim\n",
    "        self.hidden_dim = hidden_dim\n",
    "        self.output_dim = output_dim\n",
    "        self.layer_dim = 1\n",
    "\n",
    "        self.rnn = nn.GRU(self.input_dim, self.hidden_dim, self.layer_dim, batch_first=True)\n",
    "        self.fc = nn.Linear(self.hidden_dim, self.output_dim)\n",
    "\n",
    "    def forward(self, x):\n",
    "        # Initialize hidden state with zeros\n",
    "        h0 = Variable(torch.zeros(self.layer_dim, x.size(0), self.hidden_dim))\n",
    "            \n",
    "        # One time step\n",
    "        out, hn = self.rnn(x, h0)\n",
    "        out = self.fc(out[:, -1, :]) \n",
    "        out = nn.Softmax(dim=1)(out)\n",
    "        return out"
   ]
  },
  {
   "cell_type": "code",
   "execution_count": null,
   "id": "b5a1f2a9",
   "metadata": {},
   "outputs": [
    {
     "name": "stdout",
     "output_type": "stream",
     "text": [
      "Epoch: 1 \tTraining Loss: 1.071897 \tTest Loss: 1.061849\n",
      "Epoch: 2 \tTraining Loss: 1.056165 \tTest Loss: 1.054676\n",
      "Epoch: 3 \tTraining Loss: 1.048200 \tTest Loss: 1.044948\n",
      "Epoch: 4 \tTraining Loss: 1.032639 \tTest Loss: 1.019699\n"
     ]
    }
   ],
   "source": [
    "n_epochs = 5\n",
    "trainloader = torch.utils.data.DataLoader(train_data_3, batch_size=20, num_workers=1)\n",
    "testloader = torch.utils.data.DataLoader(test_data_3, batch_size=20, num_workers=1)\n",
    "gru_google_ternary_50 = GRU_Google_Ternary_50(300,50,3)\n",
    "# rnn_google_binary_50.cuda()\n",
    "# device = torch.device(\"cuda\")\n",
    "criterion = nn.CrossEntropyLoss()\n",
    "# optimizer = torch.optim.Adam(mlp_g.parameters(), lr=1e-4)\n",
    "optimizer = torch.optim.SGD(gru_google_ternary_50.parameters(), lr=0.01)\n",
    "\n",
    "test_loss_min = 5\n",
    "\n",
    "for epoch in range(n_epochs):\n",
    "    train_loss = 0\n",
    "    test_loss = 0\n",
    "    \n",
    "    gru_google_ternary_50.train()\n",
    "    for data, target in trainloader:\n",
    "        # Zero the gradients\n",
    "        optimizer.zero_grad()\n",
    "\n",
    "        # Perform forward pass\n",
    "        output = gru_google_ternary_50(data.float())\n",
    "\n",
    "        # Compute loss\n",
    "        loss = criterion(output, target)\n",
    "\n",
    "        # Perform backward pass\n",
    "        loss.backward()\n",
    "\n",
    "        # Perform optimization\n",
    "        optimizer.step()\n",
    "\n",
    "        # Print statistics\n",
    "        train_loss += loss.item()*data.size(0)\n",
    "        \n",
    "    with torch.no_grad():\n",
    "        for data, target in testloader:\n",
    "            output = gru_google_ternary_50(data.float())\n",
    "            loss = criterion(output, target)\n",
    "            test_loss += loss.item()*data.size(0)\n",
    "        \n",
    "    train_loss = train_loss/len(trainloader.dataset)\n",
    "    test_loss = test_loss/len(testloader.dataset)\n",
    "    \n",
    "    print('Epoch: {} \\tTraining Loss: {:.6f} \\tTest Loss: {:.6f}'.format(\n",
    "        epoch+1, \n",
    "        train_loss,\n",
    "        test_loss\n",
    "        ))\n",
    "    \n",
    "    if test_loss <= test_loss_min:\n",
    "        torch.save(gru_google_ternary_50.state_dict(), 'gru_google_ternary_50.pt')\n",
    "        test_loss_min = test_loss\n",
    "\n",
    "  # Process is complete.\n",
    "print('All done.')"
   ]
  },
  {
   "cell_type": "code",
   "execution_count": null,
   "id": "42071090",
   "metadata": {},
   "outputs": [],
   "source": [
    "gru_google_ternary_50.load_state_dict(torch.load('gru_google_ternary_50.pt'))\n",
    "testloader = torch.utils.data.DataLoader(test_data_3, batch_size=1, num_workers=1)"
   ]
  },
  {
   "cell_type": "code",
   "execution_count": null,
   "id": "c0b8a794",
   "metadata": {},
   "outputs": [],
   "source": [
    "predictions = predict(gru_google_ternary_50, testloader)\n",
    "predictions = np.array(predictions)"
   ]
  },
  {
   "cell_type": "code",
   "execution_count": null,
   "id": "2c681338",
   "metadata": {},
   "outputs": [],
   "source": [
    "print(\"Test Accuracy:\", accuracy(Y_test_3, predictions))"
   ]
  }
 ],
 "metadata": {
  "kernelspec": {
   "display_name": "Python 3",
   "language": "python",
   "name": "python3"
  },
  "language_info": {
   "codemirror_mode": {
    "name": "ipython",
    "version": 3
   },
   "file_extension": ".py",
   "mimetype": "text/x-python",
   "name": "python",
   "nbconvert_exporter": "python",
   "pygments_lexer": "ipython3",
   "version": "3.9.5"
  }
 },
 "nbformat": 4,
 "nbformat_minor": 5
}
