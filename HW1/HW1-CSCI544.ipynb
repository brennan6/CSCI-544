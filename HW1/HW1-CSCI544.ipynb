{
 "cells": [
  {
   "cell_type": "code",
   "execution_count": 36,
   "metadata": {},
   "outputs": [
    {
     "name": "stdout",
     "output_type": "stream",
     "text": [
      "3.9.5\n"
     ]
    }
   ],
   "source": [
    "import numpy as np\n",
    "import pandas as pd\n",
    "import re\n",
    "import nltk\n",
    "import sklearn\n",
    "import warnings\n",
    "from platform import python_version\n",
    "from sklearn.model_selection import train_test_split\n",
    "from nltk.corpus import stopwords\n",
    "from nltk.tokenize import word_tokenize\n",
    "from sklearn.feature_extraction.text import TfidfVectorizer\n",
    "from nltk.stem import WordNetLemmatizer\n",
    "from sklearn.linear_model import Perceptron\n",
    "from sklearn.metrics import precision_recall_fscore_support\n",
    "from sklearn.svm import LinearSVC\n",
    "from sklearn.linear_model import LogisticRegression\n",
    "from sklearn.naive_bayes import MultinomialNB\n",
    "print(python_version())"
   ]
  },
  {
   "cell_type": "code",
   "execution_count": 37,
   "metadata": {},
   "outputs": [],
   "source": [
    "#! pip install bs4 # in case you don't have it installed\n",
    "\n",
    "# Dataset: https://s3.amazonaws.com/amazon-reviews-pds/tsv/amazon_reviews_us_Kitchen_v1_00.tsv.gz"
   ]
  },
  {
   "cell_type": "markdown",
   "metadata": {},
   "source": [
    "## Read Data"
   ]
  },
  {
   "cell_type": "code",
   "execution_count": 38,
   "metadata": {},
   "outputs": [],
   "source": [
    "# Could not load it directly from the url:\n",
    "ratings_df = pd.read_csv(\"./data/amazon_reviews_us_Kitchen_v1_00.tsv\", sep=\"\\t\",\n",
    "                         error_bad_lines=False, warn_bad_lines=False)"
   ]
  },
  {
   "cell_type": "code",
   "execution_count": 39,
   "metadata": {},
   "outputs": [
    {
     "data": {
      "text/html": [
       "<div>\n",
       "<style scoped>\n",
       "    .dataframe tbody tr th:only-of-type {\n",
       "        vertical-align: middle;\n",
       "    }\n",
       "\n",
       "    .dataframe tbody tr th {\n",
       "        vertical-align: top;\n",
       "    }\n",
       "\n",
       "    .dataframe thead th {\n",
       "        text-align: right;\n",
       "    }\n",
       "</style>\n",
       "<table border=\"1\" class=\"dataframe\">\n",
       "  <thead>\n",
       "    <tr style=\"text-align: right;\">\n",
       "      <th></th>\n",
       "      <th>marketplace</th>\n",
       "      <th>customer_id</th>\n",
       "      <th>review_id</th>\n",
       "      <th>product_id</th>\n",
       "      <th>product_parent</th>\n",
       "      <th>product_title</th>\n",
       "      <th>product_category</th>\n",
       "      <th>star_rating</th>\n",
       "      <th>helpful_votes</th>\n",
       "      <th>total_votes</th>\n",
       "      <th>vine</th>\n",
       "      <th>verified_purchase</th>\n",
       "      <th>review_headline</th>\n",
       "      <th>review_body</th>\n",
       "      <th>review_date</th>\n",
       "    </tr>\n",
       "  </thead>\n",
       "  <tbody>\n",
       "    <tr>\n",
       "      <th>0</th>\n",
       "      <td>US</td>\n",
       "      <td>37000337</td>\n",
       "      <td>R3DT59XH7HXR9K</td>\n",
       "      <td>B00303FI0G</td>\n",
       "      <td>529320574</td>\n",
       "      <td>Arthur Court Paper Towel Holder</td>\n",
       "      <td>Kitchen</td>\n",
       "      <td>5.0</td>\n",
       "      <td>0.0</td>\n",
       "      <td>0.0</td>\n",
       "      <td>N</td>\n",
       "      <td>Y</td>\n",
       "      <td>Beautiful. Looks great on counter</td>\n",
       "      <td>Beautiful.  Looks great on counter.</td>\n",
       "      <td>2015-08-31</td>\n",
       "    </tr>\n",
       "    <tr>\n",
       "      <th>1</th>\n",
       "      <td>US</td>\n",
       "      <td>15272914</td>\n",
       "      <td>R1LFS11BNASSU8</td>\n",
       "      <td>B00JCZKZN6</td>\n",
       "      <td>274237558</td>\n",
       "      <td>Olde Thompson Bavaria Glass Salt and Pepper Mi...</td>\n",
       "      <td>Kitchen</td>\n",
       "      <td>5.0</td>\n",
       "      <td>0.0</td>\n",
       "      <td>1.0</td>\n",
       "      <td>N</td>\n",
       "      <td>Y</td>\n",
       "      <td>Awesome &amp; Self-ness</td>\n",
       "      <td>I personally have 5 days sets and have also bo...</td>\n",
       "      <td>2015-08-31</td>\n",
       "    </tr>\n",
       "    <tr>\n",
       "      <th>2</th>\n",
       "      <td>US</td>\n",
       "      <td>36137863</td>\n",
       "      <td>R296RT05AG0AF6</td>\n",
       "      <td>B00JLIKA5C</td>\n",
       "      <td>544675303</td>\n",
       "      <td>Progressive International PL8 Professional Man...</td>\n",
       "      <td>Kitchen</td>\n",
       "      <td>5.0</td>\n",
       "      <td>0.0</td>\n",
       "      <td>0.0</td>\n",
       "      <td>N</td>\n",
       "      <td>Y</td>\n",
       "      <td>Fabulous and worth every penny</td>\n",
       "      <td>Fabulous and worth every penny. Used for clean...</td>\n",
       "      <td>2015-08-31</td>\n",
       "    </tr>\n",
       "    <tr>\n",
       "      <th>3</th>\n",
       "      <td>US</td>\n",
       "      <td>43311049</td>\n",
       "      <td>R3V37XDZ7ZCI3L</td>\n",
       "      <td>B000GBNB8G</td>\n",
       "      <td>491599489</td>\n",
       "      <td>Zyliss Jumbo Garlic Press</td>\n",
       "      <td>Kitchen</td>\n",
       "      <td>5.0</td>\n",
       "      <td>0.0</td>\n",
       "      <td>1.0</td>\n",
       "      <td>N</td>\n",
       "      <td>Y</td>\n",
       "      <td>Five Stars</td>\n",
       "      <td>A must if you love garlic on tomato marinara s...</td>\n",
       "      <td>2015-08-31</td>\n",
       "    </tr>\n",
       "    <tr>\n",
       "      <th>4</th>\n",
       "      <td>US</td>\n",
       "      <td>13763148</td>\n",
       "      <td>R14GU232NQFYX2</td>\n",
       "      <td>B00VJ5KX9S</td>\n",
       "      <td>353790155</td>\n",
       "      <td>1 X Premier Pizza Cutter - Stainless Steel 14\"...</td>\n",
       "      <td>Kitchen</td>\n",
       "      <td>5.0</td>\n",
       "      <td>0.0</td>\n",
       "      <td>0.0</td>\n",
       "      <td>N</td>\n",
       "      <td>Y</td>\n",
       "      <td>Better than sex</td>\n",
       "      <td>Worth every penny! Buy one now and be a pizza ...</td>\n",
       "      <td>2015-08-31</td>\n",
       "    </tr>\n",
       "  </tbody>\n",
       "</table>\n",
       "</div>"
      ],
      "text/plain": [
       "  marketplace  customer_id       review_id  product_id  product_parent  \\\n",
       "0          US     37000337  R3DT59XH7HXR9K  B00303FI0G       529320574   \n",
       "1          US     15272914  R1LFS11BNASSU8  B00JCZKZN6       274237558   \n",
       "2          US     36137863  R296RT05AG0AF6  B00JLIKA5C       544675303   \n",
       "3          US     43311049  R3V37XDZ7ZCI3L  B000GBNB8G       491599489   \n",
       "4          US     13763148  R14GU232NQFYX2  B00VJ5KX9S       353790155   \n",
       "\n",
       "                                       product_title product_category  \\\n",
       "0                    Arthur Court Paper Towel Holder          Kitchen   \n",
       "1  Olde Thompson Bavaria Glass Salt and Pepper Mi...          Kitchen   \n",
       "2  Progressive International PL8 Professional Man...          Kitchen   \n",
       "3                          Zyliss Jumbo Garlic Press          Kitchen   \n",
       "4  1 X Premier Pizza Cutter - Stainless Steel 14\"...          Kitchen   \n",
       "\n",
       "   star_rating  helpful_votes  total_votes vine verified_purchase  \\\n",
       "0          5.0            0.0          0.0    N                 Y   \n",
       "1          5.0            0.0          1.0    N                 Y   \n",
       "2          5.0            0.0          0.0    N                 Y   \n",
       "3          5.0            0.0          1.0    N                 Y   \n",
       "4          5.0            0.0          0.0    N                 Y   \n",
       "\n",
       "                     review_headline  \\\n",
       "0  Beautiful. Looks great on counter   \n",
       "1                Awesome & Self-ness   \n",
       "2     Fabulous and worth every penny   \n",
       "3                         Five Stars   \n",
       "4                    Better than sex   \n",
       "\n",
       "                                         review_body review_date  \n",
       "0                Beautiful.  Looks great on counter.  2015-08-31  \n",
       "1  I personally have 5 days sets and have also bo...  2015-08-31  \n",
       "2  Fabulous and worth every penny. Used for clean...  2015-08-31  \n",
       "3  A must if you love garlic on tomato marinara s...  2015-08-31  \n",
       "4  Worth every penny! Buy one now and be a pizza ...  2015-08-31  "
      ]
     },
     "execution_count": 39,
     "metadata": {},
     "output_type": "execute_result"
    }
   ],
   "source": [
    "ratings_df.head()"
   ]
  },
  {
   "cell_type": "markdown",
   "metadata": {},
   "source": [
    "## Keep Reviews and Ratings"
   ]
  },
  {
   "cell_type": "code",
   "execution_count": 40,
   "metadata": {},
   "outputs": [
    {
     "data": {
      "text/html": [
       "<div>\n",
       "<style scoped>\n",
       "    .dataframe tbody tr th:only-of-type {\n",
       "        vertical-align: middle;\n",
       "    }\n",
       "\n",
       "    .dataframe tbody tr th {\n",
       "        vertical-align: top;\n",
       "    }\n",
       "\n",
       "    .dataframe thead th {\n",
       "        text-align: right;\n",
       "    }\n",
       "</style>\n",
       "<table border=\"1\" class=\"dataframe\">\n",
       "  <thead>\n",
       "    <tr style=\"text-align: right;\">\n",
       "      <th></th>\n",
       "      <th>review_body</th>\n",
       "      <th>star_rating</th>\n",
       "    </tr>\n",
       "  </thead>\n",
       "  <tbody>\n",
       "    <tr>\n",
       "      <th>0</th>\n",
       "      <td>Beautiful.  Looks great on counter.</td>\n",
       "      <td>5.0</td>\n",
       "    </tr>\n",
       "    <tr>\n",
       "      <th>1</th>\n",
       "      <td>I personally have 5 days sets and have also bo...</td>\n",
       "      <td>5.0</td>\n",
       "    </tr>\n",
       "    <tr>\n",
       "      <th>2</th>\n",
       "      <td>Fabulous and worth every penny. Used for clean...</td>\n",
       "      <td>5.0</td>\n",
       "    </tr>\n",
       "    <tr>\n",
       "      <th>3</th>\n",
       "      <td>A must if you love garlic on tomato marinara s...</td>\n",
       "      <td>5.0</td>\n",
       "    </tr>\n",
       "    <tr>\n",
       "      <th>4</th>\n",
       "      <td>Worth every penny! Buy one now and be a pizza ...</td>\n",
       "      <td>5.0</td>\n",
       "    </tr>\n",
       "  </tbody>\n",
       "</table>\n",
       "</div>"
      ],
      "text/plain": [
       "                                         review_body  star_rating\n",
       "0                Beautiful.  Looks great on counter.          5.0\n",
       "1  I personally have 5 days sets and have also bo...          5.0\n",
       "2  Fabulous and worth every penny. Used for clean...          5.0\n",
       "3  A must if you love garlic on tomato marinara s...          5.0\n",
       "4  Worth every penny! Buy one now and be a pizza ...          5.0"
      ]
     },
     "execution_count": 40,
     "metadata": {},
     "output_type": "execute_result"
    }
   ],
   "source": [
    "ratings_df = ratings_df.loc[:, [\"review_body\", \"star_rating\"]]\n",
    "ratings_df.head()"
   ]
  },
  {
   "cell_type": "markdown",
   "metadata": {},
   "source": [
    "# Labelling Reviews:\n",
    "## The reviews with rating 4,5 are labelled to be 1 and 1,2 are labelled as 0. Discard the reviews with rating 3'"
   ]
  },
  {
   "cell_type": "code",
   "execution_count": 41,
   "metadata": {},
   "outputs": [],
   "source": [
    "# Map star rating to sentiment rating:\n",
    "d_ = {4:1, 5:1, 1:0, 2:0, 3:0}\n",
    "ratings_df[\"sentiment\"] = ratings_df[\"star_rating\"].map(d_)"
   ]
  },
  {
   "cell_type": "code",
   "execution_count": 42,
   "metadata": {},
   "outputs": [
    {
     "name": "stdout",
     "output_type": "stream",
     "text": [
      "5.0    3124759\n",
      "4.0     731733\n",
      "1.0     426900\n",
      "3.0     349547\n",
      "2.0     241948\n",
      "Name: star_rating, dtype: int64\n"
     ]
    }
   ],
   "source": [
    "# Counts of each rating:\n",
    "print(ratings_df[\"star_rating\"].value_counts())"
   ]
  },
  {
   "cell_type": "code",
   "execution_count": 43,
   "metadata": {},
   "outputs": [],
   "source": [
    "# Discard ratings of 3:\n",
    "count_3 = len(ratings_df[ratings_df[\"star_rating\"] == 3])\n",
    "ratings_df = ratings_df[~(ratings_df[\"star_rating\"] == 3)]"
   ]
  },
  {
   "cell_type": "markdown",
   "metadata": {},
   "source": [
    " ## We select 200000 reviews randomly with 100,000 positive and 100,000 negative reviews.\n",
    "\n"
   ]
  },
  {
   "cell_type": "code",
   "execution_count": 44,
   "metadata": {},
   "outputs": [],
   "source": [
    "pos_reviews = ratings_df[ratings_df[\"sentiment\"] == 1].sample(100000)\n",
    "neg_review = ratings_df[ratings_df[\"sentiment\"] == 0].sample(100000)\n",
    "\n",
    "ratings_sampled_df = pd.concat([pos_reviews, neg_review])\n",
    "ratings_sampled_df.reset_index(drop=True, inplace=True)"
   ]
  },
  {
   "cell_type": "code",
   "execution_count": 45,
   "metadata": {},
   "outputs": [
    {
     "name": "stdout",
     "output_type": "stream",
     "text": [
      "Class 0 count: 668848, Class 1 count: 3856492, Discarded (3) Class: 349547\n"
     ]
    }
   ],
   "source": [
    "# Counts of each sentiment rating:\n",
    "print(\"Class 0 count:\", ratings_df[\"sentiment\"].value_counts()[0], end=\", \")\n",
    "print(\"Class 1 count:\", ratings_df[\"sentiment\"].value_counts()[1], end=\", \")\n",
    "print(\"Discarded (3) Class:\", count_3)"
   ]
  },
  {
   "cell_type": "code",
   "execution_count": 46,
   "metadata": {},
   "outputs": [],
   "source": [
    "train, test = train_test_split(ratings_sampled_df, test_size=0.2)\n",
    "train.reset_index(drop=True, inplace=True)\n",
    "test.reset_index(drop=True, inplace=True)"
   ]
  },
  {
   "cell_type": "code",
   "execution_count": 47,
   "metadata": {},
   "outputs": [
    {
     "name": "stdout",
     "output_type": "stream",
     "text": [
      "Ordered this product based on reviews describing color as black (also shown in picture). Color is off white not black. I would have kept product if I could have gotten black.  After further investigation determined product is discontinued.\n",
      "Rating: 1.0\n",
      "\b\n",
      "It started off very well, but after a couple of months of heavy use (mostly smoothies, occasional in-pot pureeing of hot soups) the blender attachment broke and the blade fell out of the casing. The rubber washer just underneath the blade too broke. I am pretty sure that food entered the tube that holds the shaft. The motor is fine, and I can still use it with the other attachment, but not for its primary purpose. As another reviewer said, these companies seem to be building them to fail.    Any suggestions for a durable hand blender?\n",
      "Rating: 2.0\n",
      "\b\n",
      "Took one out of the package and gave to a friend.  He calls me 10 minutes later saying that the knob came completely out.  So I took the last two out of the package and all of those fell off as well.  Waste of money.  Do not buy.\n",
      "Rating: 1.0\n"
     ]
    }
   ],
   "source": [
    "# Print 3 reviews BEFORE Data-Cleaning:\n",
    "print(train[\"review_body\"][62])\n",
    "print(\"Rating:\", train[\"star_rating\"][62])\n",
    "print(\"\\b\")\n",
    "print(train[\"review_body\"][245])\n",
    "print(\"Rating:\", train[\"star_rating\"][245])\n",
    "print(\"\\b\")\n",
    "print(train[\"review_body\"][97765])\n",
    "print(\"Rating:\", train[\"star_rating\"][97765])"
   ]
  },
  {
   "cell_type": "markdown",
   "metadata": {},
   "source": [
    "# Data Cleaning\n",
    "\n",
    "## Convert the all reviews into the lower case."
   ]
  },
  {
   "cell_type": "code",
   "execution_count": 48,
   "metadata": {},
   "outputs": [
    {
     "name": "stdout",
     "output_type": "stream",
     "text": [
      "Average Training Before: 322.96810385778934, Average Testing Before: 326.3098077451936\n"
     ]
    }
   ],
   "source": [
    "# Find average length of reviews (in characters) before:\n",
    "print(\"Average Training Before:\", np.mean(train[\"review_body\"].str.len()), end=\", \")\n",
    "print(\"Average Testing Before:\", np.mean(test[\"review_body\"].str.len()))"
   ]
  },
  {
   "cell_type": "code",
   "execution_count": 49,
   "metadata": {},
   "outputs": [
    {
     "name": "stderr",
     "output_type": "stream",
     "text": [
      "<ipython-input-49-d6a75e82007e>:1: SettingWithCopyWarning: \n",
      "A value is trying to be set on a copy of a slice from a DataFrame.\n",
      "Try using .loc[row_indexer,col_indexer] = value instead\n",
      "\n",
      "See the caveats in the documentation: https://pandas.pydata.org/pandas-docs/stable/user_guide/indexing.html#returning-a-view-versus-a-copy\n",
      "  train[\"review_body\"] = train[\"review_body\"].str.lower()\n",
      "<ipython-input-49-d6a75e82007e>:2: SettingWithCopyWarning: \n",
      "A value is trying to be set on a copy of a slice from a DataFrame.\n",
      "Try using .loc[row_indexer,col_indexer] = value instead\n",
      "\n",
      "See the caveats in the documentation: https://pandas.pydata.org/pandas-docs/stable/user_guide/indexing.html#returning-a-view-versus-a-copy\n",
      "  test[\"review_body\"] = test[\"review_body\"].str.lower()\n"
     ]
    }
   ],
   "source": [
    "train[\"review_body\"] = train[\"review_body\"].str.lower()\n",
    "test[\"review_body\"] = test[\"review_body\"].str.lower()"
   ]
  },
  {
   "cell_type": "code",
   "execution_count": 50,
   "metadata": {},
   "outputs": [
    {
     "data": {
      "text/html": [
       "<div>\n",
       "<style scoped>\n",
       "    .dataframe tbody tr th:only-of-type {\n",
       "        vertical-align: middle;\n",
       "    }\n",
       "\n",
       "    .dataframe tbody tr th {\n",
       "        vertical-align: top;\n",
       "    }\n",
       "\n",
       "    .dataframe thead th {\n",
       "        text-align: right;\n",
       "    }\n",
       "</style>\n",
       "<table border=\"1\" class=\"dataframe\">\n",
       "  <thead>\n",
       "    <tr style=\"text-align: right;\">\n",
       "      <th></th>\n",
       "      <th>review_body</th>\n",
       "      <th>star_rating</th>\n",
       "      <th>sentiment</th>\n",
       "    </tr>\n",
       "  </thead>\n",
       "  <tbody>\n",
       "    <tr>\n",
       "      <th>0</th>\n",
       "      <td>these are the real deal, people. i previously ...</td>\n",
       "      <td>5.0</td>\n",
       "      <td>1.0</td>\n",
       "    </tr>\n",
       "    <tr>\n",
       "      <th>1</th>\n",
       "      <td>this product is a definitely &amp;#34;looks can be...</td>\n",
       "      <td>2.0</td>\n",
       "      <td>0.0</td>\n",
       "    </tr>\n",
       "    <tr>\n",
       "      <th>2</th>\n",
       "      <td>will not use old k-cups, coffee grounds in cof...</td>\n",
       "      <td>1.0</td>\n",
       "      <td>0.0</td>\n",
       "    </tr>\n",
       "    <tr>\n",
       "      <th>3</th>\n",
       "      <td>the spinning part hit the sides of the pan. pr...</td>\n",
       "      <td>1.0</td>\n",
       "      <td>0.0</td>\n",
       "    </tr>\n",
       "    <tr>\n",
       "      <th>4</th>\n",
       "      <td>round bowls almost seem silly in a rectangular...</td>\n",
       "      <td>5.0</td>\n",
       "      <td>1.0</td>\n",
       "    </tr>\n",
       "  </tbody>\n",
       "</table>\n",
       "</div>"
      ],
      "text/plain": [
       "                                         review_body  star_rating  sentiment\n",
       "0  these are the real deal, people. i previously ...          5.0        1.0\n",
       "1  this product is a definitely &#34;looks can be...          2.0        0.0\n",
       "2  will not use old k-cups, coffee grounds in cof...          1.0        0.0\n",
       "3  the spinning part hit the sides of the pan. pr...          1.0        0.0\n",
       "4  round bowls almost seem silly in a rectangular...          5.0        1.0"
      ]
     },
     "execution_count": 50,
     "metadata": {},
     "output_type": "execute_result"
    }
   ],
   "source": [
    "train.head()"
   ]
  },
  {
   "cell_type": "code",
   "execution_count": 51,
   "metadata": {},
   "outputs": [
    {
     "data": {
      "text/html": [
       "<div>\n",
       "<style scoped>\n",
       "    .dataframe tbody tr th:only-of-type {\n",
       "        vertical-align: middle;\n",
       "    }\n",
       "\n",
       "    .dataframe tbody tr th {\n",
       "        vertical-align: top;\n",
       "    }\n",
       "\n",
       "    .dataframe thead th {\n",
       "        text-align: right;\n",
       "    }\n",
       "</style>\n",
       "<table border=\"1\" class=\"dataframe\">\n",
       "  <thead>\n",
       "    <tr style=\"text-align: right;\">\n",
       "      <th></th>\n",
       "      <th>review_body</th>\n",
       "      <th>star_rating</th>\n",
       "      <th>sentiment</th>\n",
       "    </tr>\n",
       "  </thead>\n",
       "  <tbody>\n",
       "    <tr>\n",
       "      <th>0</th>\n",
       "      <td>the glass is too thin for a tea pot that size,...</td>\n",
       "      <td>2.0</td>\n",
       "      <td>0.0</td>\n",
       "    </tr>\n",
       "    <tr>\n",
       "      <th>1</th>\n",
       "      <td>this product was definitely not what i was exp...</td>\n",
       "      <td>1.0</td>\n",
       "      <td>0.0</td>\n",
       "    </tr>\n",
       "    <tr>\n",
       "      <th>2</th>\n",
       "      <td>this was a piece of junk! it came to me in two...</td>\n",
       "      <td>1.0</td>\n",
       "      <td>0.0</td>\n",
       "    </tr>\n",
       "    <tr>\n",
       "      <th>3</th>\n",
       "      <td>it's a great idea in theory, but everything le...</td>\n",
       "      <td>1.0</td>\n",
       "      <td>0.0</td>\n",
       "    </tr>\n",
       "    <tr>\n",
       "      <th>4</th>\n",
       "      <td>i couldn't wait to start making real milkshake...</td>\n",
       "      <td>2.0</td>\n",
       "      <td>0.0</td>\n",
       "    </tr>\n",
       "  </tbody>\n",
       "</table>\n",
       "</div>"
      ],
      "text/plain": [
       "                                         review_body  star_rating  sentiment\n",
       "0  the glass is too thin for a tea pot that size,...          2.0        0.0\n",
       "1  this product was definitely not what i was exp...          1.0        0.0\n",
       "2  this was a piece of junk! it came to me in two...          1.0        0.0\n",
       "3  it's a great idea in theory, but everything le...          1.0        0.0\n",
       "4  i couldn't wait to start making real milkshake...          2.0        0.0"
      ]
     },
     "execution_count": 51,
     "metadata": {},
     "output_type": "execute_result"
    }
   ],
   "source": [
    "test.head()"
   ]
  },
  {
   "cell_type": "markdown",
   "metadata": {},
   "source": [
    "## remove the HTML and URLs from the reviews"
   ]
  },
  {
   "cell_type": "code",
   "execution_count": 52,
   "metadata": {},
   "outputs": [
    {
     "data": {
      "text/plain": [
       "1"
      ]
     },
     "execution_count": 52,
     "metadata": {},
     "output_type": "execute_result"
    }
   ],
   "source": [
    "train[\"review_body\"].str.match(r'http\\S+').sum()"
   ]
  },
  {
   "cell_type": "code",
   "execution_count": 53,
   "metadata": {},
   "outputs": [
    {
     "data": {
      "text/plain": [
       "0"
      ]
     },
     "execution_count": 53,
     "metadata": {},
     "output_type": "execute_result"
    }
   ],
   "source": [
    "train[\"review_body\"].str.match(r'www\\S+').sum()"
   ]
  },
  {
   "cell_type": "code",
   "execution_count": 54,
   "metadata": {},
   "outputs": [
    {
     "name": "stderr",
     "output_type": "stream",
     "text": [
      "<ipython-input-54-153712c915ea>:1: SettingWithCopyWarning: \n",
      "A value is trying to be set on a copy of a slice from a DataFrame.\n",
      "Try using .loc[row_indexer,col_indexer] = value instead\n",
      "\n",
      "See the caveats in the documentation: https://pandas.pydata.org/pandas-docs/stable/user_guide/indexing.html#returning-a-view-versus-a-copy\n",
      "  train[\"review_body\"] = train[\"review_body\"].replace(r'http\\S+|www.\\S+', '', regex=True)\n",
      "<ipython-input-54-153712c915ea>:2: SettingWithCopyWarning: \n",
      "A value is trying to be set on a copy of a slice from a DataFrame.\n",
      "Try using .loc[row_indexer,col_indexer] = value instead\n",
      "\n",
      "See the caveats in the documentation: https://pandas.pydata.org/pandas-docs/stable/user_guide/indexing.html#returning-a-view-versus-a-copy\n",
      "  test[\"review_body\"] = test[\"review_body\"].replace(r'http\\S+|www.\\S+', '', regex=True)\n"
     ]
    }
   ],
   "source": [
    "train[\"review_body\"] = train[\"review_body\"].replace(r'http\\S+|www.\\S+', '', regex=True)\n",
    "test[\"review_body\"] = test[\"review_body\"].replace(r'http\\S+|www.\\S+', '', regex=True)"
   ]
  },
  {
   "cell_type": "code",
   "execution_count": 55,
   "metadata": {},
   "outputs": [
    {
     "data": {
      "text/plain": [
       "0"
      ]
     },
     "execution_count": 55,
     "metadata": {},
     "output_type": "execute_result"
    }
   ],
   "source": [
    "train[\"review_body\"].str.match(r'http\\S+').sum()"
   ]
  },
  {
   "cell_type": "code",
   "execution_count": 56,
   "metadata": {},
   "outputs": [
    {
     "data": {
      "text/plain": [
       "0"
      ]
     },
     "execution_count": 56,
     "metadata": {},
     "output_type": "execute_result"
    }
   ],
   "source": [
    "train[\"review_body\"].str.match(r'www\\S+').sum()"
   ]
  },
  {
   "cell_type": "markdown",
   "metadata": {},
   "source": [
    "## remove non-alphabetical characters"
   ]
  },
  {
   "cell_type": "code",
   "execution_count": 57,
   "metadata": {},
   "outputs": [
    {
     "name": "stderr",
     "output_type": "stream",
     "text": [
      "<ipython-input-57-d591ee1f7675>:1: SettingWithCopyWarning: \n",
      "A value is trying to be set on a copy of a slice from a DataFrame.\n",
      "Try using .loc[row_indexer,col_indexer] = value instead\n",
      "\n",
      "See the caveats in the documentation: https://pandas.pydata.org/pandas-docs/stable/user_guide/indexing.html#returning-a-view-versus-a-copy\n",
      "  train[\"review_body\"] = train[\"review_body\"].replace(r'[^a-z|\\s]', '', regex=True)\n",
      "<ipython-input-57-d591ee1f7675>:2: SettingWithCopyWarning: \n",
      "A value is trying to be set on a copy of a slice from a DataFrame.\n",
      "Try using .loc[row_indexer,col_indexer] = value instead\n",
      "\n",
      "See the caveats in the documentation: https://pandas.pydata.org/pandas-docs/stable/user_guide/indexing.html#returning-a-view-versus-a-copy\n",
      "  test[\"review_body\"] = test[\"review_body\"].replace(r'[^a-z|\\s]', '', regex=True)\n"
     ]
    }
   ],
   "source": [
    "train[\"review_body\"] = train[\"review_body\"].replace(r'[^a-z|\\s]', '', regex=True)\n",
    "test[\"review_body\"] = test[\"review_body\"].replace(r'[^a-z|\\s]', '', regex=True)"
   ]
  },
  {
   "cell_type": "markdown",
   "metadata": {},
   "source": [
    "## Remove the extra spaces between the words"
   ]
  },
  {
   "cell_type": "code",
   "execution_count": 58,
   "metadata": {},
   "outputs": [
    {
     "name": "stderr",
     "output_type": "stream",
     "text": [
      "<ipython-input-58-52f5f30ecc33>:1: SettingWithCopyWarning: \n",
      "A value is trying to be set on a copy of a slice from a DataFrame.\n",
      "Try using .loc[row_indexer,col_indexer] = value instead\n",
      "\n",
      "See the caveats in the documentation: https://pandas.pydata.org/pandas-docs/stable/user_guide/indexing.html#returning-a-view-versus-a-copy\n",
      "  train[\"review_body\"] = train[\"review_body\"].replace(r'\\s\\s+', ' ', regex=True)\n"
     ]
    }
   ],
   "source": [
    "train[\"review_body\"] = train[\"review_body\"].replace(r'\\s\\s+', ' ', regex=True)"
   ]
  },
  {
   "cell_type": "code",
   "execution_count": 59,
   "metadata": {},
   "outputs": [
    {
     "name": "stderr",
     "output_type": "stream",
     "text": [
      "<ipython-input-59-fedda7105751>:1: SettingWithCopyWarning: \n",
      "A value is trying to be set on a copy of a slice from a DataFrame.\n",
      "Try using .loc[row_indexer,col_indexer] = value instead\n",
      "\n",
      "See the caveats in the documentation: https://pandas.pydata.org/pandas-docs/stable/user_guide/indexing.html#returning-a-view-versus-a-copy\n",
      "  test[\"review_body\"] = test[\"review_body\"].replace(r'\\s\\s+', ' ', regex=True)\n"
     ]
    }
   ],
   "source": [
    "test[\"review_body\"] = test[\"review_body\"].replace(r'\\s\\s+', ' ', regex=True)"
   ]
  },
  {
   "cell_type": "markdown",
   "metadata": {},
   "source": [
    "## perform contractions on the reviews."
   ]
  },
  {
   "cell_type": "code",
   "execution_count": 60,
   "metadata": {},
   "outputs": [
    {
     "data": {
      "text/plain": [
       "10"
      ]
     },
     "execution_count": 60,
     "metadata": {},
     "output_type": "execute_result"
    }
   ],
   "source": [
    "test[\"review_body\"].str.match(\"wont\").sum()"
   ]
  },
  {
   "cell_type": "code",
   "execution_count": 61,
   "metadata": {},
   "outputs": [
    {
     "data": {
      "text/plain": [
       "26"
      ]
     },
     "execution_count": 61,
     "metadata": {},
     "output_type": "execute_result"
    }
   ],
   "source": [
    "train[\"review_body\"].str.match(\"wont\").sum()"
   ]
  },
  {
   "cell_type": "code",
   "execution_count": 62,
   "metadata": {},
   "outputs": [
    {
     "name": "stderr",
     "output_type": "stream",
     "text": [
      "<ipython-input-62-52181577486f>:12: SettingWithCopyWarning: \n",
      "A value is trying to be set on a copy of a slice from a DataFrame.\n",
      "Try using .loc[row_indexer,col_indexer] = value instead\n",
      "\n",
      "See the caveats in the documentation: https://pandas.pydata.org/pandas-docs/stable/user_guide/indexing.html#returning-a-view-versus-a-copy\n",
      "  test[\"review_body\"] = test[\"review_body\"].apply(contractionfunction)\n",
      "<ipython-input-62-52181577486f>:13: SettingWithCopyWarning: \n",
      "A value is trying to be set on a copy of a slice from a DataFrame.\n",
      "Try using .loc[row_indexer,col_indexer] = value instead\n",
      "\n",
      "See the caveats in the documentation: https://pandas.pydata.org/pandas-docs/stable/user_guide/indexing.html#returning-a-view-versus-a-copy\n",
      "  train[\"review_body\"] = train[\"review_body\"].apply(contractionfunction)\n"
     ]
    }
   ],
   "source": [
    "def contractionfunction(s):\n",
    "    contraction_d = {\"wont\":\"will not\", \"dont\":\"do not\", \"hasnt\":\"has not\", \"havent\":\"have not\",\n",
    "                     \"im\":\"i am\", \"id\":\"i would\", \"itll\": \"it will\", \"ive\": \"i have\", \"isnt\":\"is not\",\n",
    "                     \"lets\":\"let us\", \"mustve\": \"must have\", \"shed\":\"she would\", \"shell\": \"she will\",\n",
    "                     \"thats\": \"that is\", \"theyd\": \"they had\", \"theyll\": \"they will\", \"weve\": \"we have\"}\n",
    "    for k_ in contraction_d.keys():\n",
    "        if type(s) != str:\n",
    "            s = str(s)\n",
    "        s = s.replace(k_, contraction_d[k_])\n",
    "    return s\n",
    "\n",
    "test[\"review_body\"] = test[\"review_body\"].apply(contractionfunction)\n",
    "train[\"review_body\"] = train[\"review_body\"].apply(contractionfunction)"
   ]
  },
  {
   "cell_type": "code",
   "execution_count": 63,
   "metadata": {},
   "outputs": [
    {
     "data": {
      "text/plain": [
       "0"
      ]
     },
     "execution_count": 63,
     "metadata": {},
     "output_type": "execute_result"
    }
   ],
   "source": [
    "test[\"review_body\"].str.match(\"wont\").sum()"
   ]
  },
  {
   "cell_type": "code",
   "execution_count": 64,
   "metadata": {},
   "outputs": [
    {
     "data": {
      "text/plain": [
       "0"
      ]
     },
     "execution_count": 64,
     "metadata": {},
     "output_type": "execute_result"
    }
   ],
   "source": [
    "train[\"review_body\"].str.match(\"wont\").sum()"
   ]
  },
  {
   "cell_type": "code",
   "execution_count": 65,
   "metadata": {},
   "outputs": [
    {
     "name": "stdout",
     "output_type": "stream",
     "text": [
      "Average Training After: 313.9336875\n",
      "Average Testing After: 316.952775\n"
     ]
    }
   ],
   "source": [
    "# Find average length of reviews (in characters) AFTER Cleaning (but before stopwords/lemmatization):\n",
    "print(\"Average Training After:\", np.mean(train[\"review_body\"].str.len()))\n",
    "print(\"Average Testing After:\", np.mean(test[\"review_body\"].str.len()))"
   ]
  },
  {
   "cell_type": "markdown",
   "metadata": {},
   "source": [
    "# Pre-processing"
   ]
  },
  {
   "cell_type": "markdown",
   "metadata": {},
   "source": [
    "## remove the stop words "
   ]
  },
  {
   "cell_type": "code",
   "execution_count": 66,
   "metadata": {},
   "outputs": [],
   "source": [
    "stop_words = set(stopwords.words('english'))"
   ]
  },
  {
   "cell_type": "code",
   "execution_count": 67,
   "metadata": {},
   "outputs": [
    {
     "name": "stderr",
     "output_type": "stream",
     "text": [
      "<ipython-input-67-781a2bf54623>:6: SettingWithCopyWarning: \n",
      "A value is trying to be set on a copy of a slice from a DataFrame.\n",
      "Try using .loc[row_indexer,col_indexer] = value instead\n",
      "\n",
      "See the caveats in the documentation: https://pandas.pydata.org/pandas-docs/stable/user_guide/indexing.html#returning-a-view-versus-a-copy\n",
      "  train[\"review_body\"] = train[\"review_body\"].apply(remove_stopwords)\n",
      "<ipython-input-67-781a2bf54623>:7: SettingWithCopyWarning: \n",
      "A value is trying to be set on a copy of a slice from a DataFrame.\n",
      "Try using .loc[row_indexer,col_indexer] = value instead\n",
      "\n",
      "See the caveats in the documentation: https://pandas.pydata.org/pandas-docs/stable/user_guide/indexing.html#returning-a-view-versus-a-copy\n",
      "  test[\"review_body\"] = test[\"review_body\"].apply(remove_stopwords)\n"
     ]
    }
   ],
   "source": [
    "def remove_stopwords(s):\n",
    "    tokens = word_tokenize(s)\n",
    "    filtered_tokens = [word for word in tokens if word not in stop_words]\n",
    "    return filtered_tokens\n",
    "\n",
    "train[\"review_body\"] = train[\"review_body\"].apply(remove_stopwords)\n",
    "test[\"review_body\"] = test[\"review_body\"].apply(remove_stopwords)"
   ]
  },
  {
   "cell_type": "markdown",
   "metadata": {},
   "source": [
    "## perform lemmatization  "
   ]
  },
  {
   "cell_type": "code",
   "execution_count": 68,
   "metadata": {},
   "outputs": [
    {
     "name": "stderr",
     "output_type": "stream",
     "text": [
      "<ipython-input-68-48adc34c6207>:8: SettingWithCopyWarning: \n",
      "A value is trying to be set on a copy of a slice from a DataFrame.\n",
      "Try using .loc[row_indexer,col_indexer] = value instead\n",
      "\n",
      "See the caveats in the documentation: https://pandas.pydata.org/pandas-docs/stable/user_guide/indexing.html#returning-a-view-versus-a-copy\n",
      "  train[\"review_body\"] = train[\"review_body\"].apply(lemmatize)\n",
      "<ipython-input-68-48adc34c6207>:9: SettingWithCopyWarning: \n",
      "A value is trying to be set on a copy of a slice from a DataFrame.\n",
      "Try using .loc[row_indexer,col_indexer] = value instead\n",
      "\n",
      "See the caveats in the documentation: https://pandas.pydata.org/pandas-docs/stable/user_guide/indexing.html#returning-a-view-versus-a-copy\n",
      "  test[\"review_body\"] = test[\"review_body\"].apply(lemmatize)\n"
     ]
    }
   ],
   "source": [
    "from nltk.stem import WordNetLemmatizer\n",
    "lem_obj = WordNetLemmatizer()\n",
    "def lemmatize(s):\n",
    "    #Should already be tokenized from above:\n",
    "    lemmatized_tokens = [lem_obj.lemmatize(word) for word in s]\n",
    "    return lemmatized_tokens\n",
    "\n",
    "train[\"review_body\"] = train[\"review_body\"].apply(lemmatize)\n",
    "test[\"review_body\"] = test[\"review_body\"].apply(lemmatize)"
   ]
  },
  {
   "cell_type": "code",
   "execution_count": 69,
   "metadata": {},
   "outputs": [
    {
     "name": "stderr",
     "output_type": "stream",
     "text": [
      "<ipython-input-69-045ca5178f4a>:6: SettingWithCopyWarning: \n",
      "A value is trying to be set on a copy of a slice from a DataFrame.\n",
      "Try using .loc[row_indexer,col_indexer] = value instead\n",
      "\n",
      "See the caveats in the documentation: https://pandas.pydata.org/pandas-docs/stable/user_guide/indexing.html#returning-a-view-versus-a-copy\n",
      "  train[\"review_body\"] = train[\"review_body\"].apply(stringify)\n",
      "<ipython-input-69-045ca5178f4a>:7: SettingWithCopyWarning: \n",
      "A value is trying to be set on a copy of a slice from a DataFrame.\n",
      "Try using .loc[row_indexer,col_indexer] = value instead\n",
      "\n",
      "See the caveats in the documentation: https://pandas.pydata.org/pandas-docs/stable/user_guide/indexing.html#returning-a-view-versus-a-copy\n",
      "  test[\"review_body\"] = test[\"review_body\"].apply(stringify)\n"
     ]
    }
   ],
   "source": [
    "# Convert the tokenized values back into strings:\n",
    "def stringify(s):\n",
    "    str_ = \" \".join([word for word in s])\n",
    "    return str_\n",
    "\n",
    "train[\"review_body\"] = train[\"review_body\"].apply(stringify)\n",
    "test[\"review_body\"] = test[\"review_body\"].apply(stringify)"
   ]
  },
  {
   "cell_type": "code",
   "execution_count": 70,
   "metadata": {},
   "outputs": [
    {
     "name": "stdout",
     "output_type": "stream",
     "text": [
      "Average Training After: 197.4351625\n",
      "Average Testing After: 199.278775\n"
     ]
    }
   ],
   "source": [
    "# Find average length of reviews (in characters) AFTER stopwords/lemmatize:\n",
    "print(\"Average Training After:\", np.mean(train[\"review_body\"].str.len()))\n",
    "print(\"Average Testing After:\", np.mean(test[\"review_body\"].str.len()))"
   ]
  },
  {
   "cell_type": "code",
   "execution_count": 71,
   "metadata": {},
   "outputs": [
    {
     "name": "stdout",
     "output_type": "stream",
     "text": [
      "ordered product based review describing color black also shown picture color white black would kept product could gotten black investigation determined product discontinued\n",
      "\b\n",
      "started well couple month heavy use mostly smoothy occasional inpot pureeing hot soup blender attachment broke blade fell casing rubber washer underneath blade broke pretty sure food entered tube hold shaft motor fine still use attachment pri amary purpose another reviewer sai would company seem building fail suggestion durable hand blender\n",
      "\b\n",
      "took one package gave friend call minute later saying knob came completely took last two package fell well waste money buy\n"
     ]
    }
   ],
   "source": [
    "# Print 3 reviews AFTER Data Cleaning/Pre Processing:\n",
    "print(train[\"review_body\"][62])\n",
    "print(\"\\b\")\n",
    "print(train[\"review_body\"][245])\n",
    "print(\"\\b\")\n",
    "print(train[\"review_body\"][97765])"
   ]
  },
  {
   "cell_type": "markdown",
   "metadata": {},
   "source": [
    "# TF-IDF Feature Extraction"
   ]
  },
  {
   "cell_type": "code",
   "execution_count": 72,
   "metadata": {
    "scrolled": true
   },
   "outputs": [
    {
     "name": "stdout",
     "output_type": "stream",
     "text": [
      "(160000, 85727)\n",
      "(40000, 85727)\n"
     ]
    }
   ],
   "source": [
    "### DO NOT try to turn sparse matrix into numpy array:\n",
    "reviews_train = train[\"review_body\"].values\n",
    "reviews_test = test[\"review_body\"].values\n",
    "\n",
    "vectorizer = TfidfVectorizer()\n",
    "X_train = vectorizer.fit_transform(reviews_train)\n",
    "#print(vectorizer.get_feature_names())\n",
    "X_test = vectorizer.transform(reviews_test)\n",
    "print(X_train.shape)\n",
    "print(X_test.shape)"
   ]
  },
  {
   "cell_type": "code",
   "execution_count": 73,
   "metadata": {},
   "outputs": [],
   "source": [
    "Y_train = train[\"sentiment\"].values\n",
    "Y_test = test[\"sentiment\"].values"
   ]
  },
  {
   "cell_type": "markdown",
   "metadata": {},
   "source": [
    "# Perceptron"
   ]
  },
  {
   "cell_type": "code",
   "execution_count": 74,
   "metadata": {},
   "outputs": [
    {
     "name": "stdout",
     "output_type": "stream",
     "text": [
      "Training Accuracy: 0.9168125\n",
      "Precision (Training): 0.9168741145848449\n",
      "Recall (Training): 0.9167970757074642\n",
      "F1 (Training): 0.9168068376653886\n",
      "\b\n",
      "Test Accuracy: 0.8596\n",
      "Precision (Test): 0.8595989543839582\n",
      "Recall (Test): 0.8596393490772624\n",
      "F1 (Test): 0.8595959058166136\n"
     ]
    }
   ],
   "source": [
    "perceptron = Perceptron(tol=1e-3, random_state=42)\n",
    "perceptron.fit(X_train, Y_train)\n",
    "print(\"Training Accuracy:\", perceptron.score(X_train, Y_train))\n",
    "\n",
    "y_pred = perceptron.predict(X_train)\n",
    "precision, recall, f1, support = precision_recall_fscore_support(Y_train, y_pred, average=\"macro\")\n",
    "print(\"Precision (Training):\", precision)\n",
    "print(\"Recall (Training):\", recall)\n",
    "print(\"F1 (Training):\", f1)\n",
    "\n",
    "print(\"\\b\")\n",
    "\n",
    "print(\"Test Accuracy:\", perceptron.score(X_test, Y_test))\n",
    "y_pred_test = perceptron.predict(X_test)\n",
    "precision, recall, f1, support = precision_recall_fscore_support(Y_test, y_pred_test, average=\"macro\")\n",
    "print(\"Precision (Test):\", precision)\n",
    "print(\"Recall (Test):\", recall)\n",
    "print(\"F1 (Test):\", f1)"
   ]
  },
  {
   "cell_type": "markdown",
   "metadata": {},
   "source": [
    "# SVM"
   ]
  },
  {
   "cell_type": "code",
   "execution_count": 75,
   "metadata": {},
   "outputs": [
    {
     "name": "stdout",
     "output_type": "stream",
     "text": [
      "Training Accuracy: 0.94015625\n",
      "Precision (Training): 0.9401555293852055\n",
      "Recall (Training): 0.9401583969498426\n",
      "F1 (Training): 0.9401560808450846\n",
      "\b\n",
      "Test Accuracy: 0.898025\n",
      "Precision (Test): 0.8980309085197598\n",
      "Recall (Test): 0.8979936635680386\n",
      "F1 (Test): 0.8980091276067395\n"
     ]
    }
   ],
   "source": [
    "svm = LinearSVC(max_iter=1000)\n",
    "svm.fit(X_train, Y_train)\n",
    "print(\"Training Accuracy:\", svm.score(X_train, Y_train))\n",
    "\n",
    "y_pred = svm.predict(X_train)\n",
    "precision, recall, f1, support = precision_recall_fscore_support(Y_train, y_pred, average=\"macro\")\n",
    "print(\"Precision (Training):\", precision)\n",
    "print(\"Recall (Training):\", recall)\n",
    "print(\"F1 (Training):\", f1)\n",
    "\n",
    "print(\"\\b\")\n",
    "\n",
    "print(\"Test Accuracy:\", svm.score(X_test, Y_test))\n",
    "y_pred_test = svm.predict(X_test)\n",
    "precision, recall, f1, support = precision_recall_fscore_support(Y_test, y_pred_test, average=\"macro\")\n",
    "print(\"Precision (Test):\", precision)\n",
    "print(\"Recall (Test):\", recall)\n",
    "print(\"F1 (Test):\", f1)"
   ]
  },
  {
   "cell_type": "markdown",
   "metadata": {},
   "source": [
    "# Logistic Regression"
   ]
  },
  {
   "cell_type": "code",
   "execution_count": 76,
   "metadata": {},
   "outputs": [
    {
     "name": "stdout",
     "output_type": "stream",
     "text": [
      "Training Accuracy: 0.9146625\n",
      "Precision (Training): 0.9146720068835619\n",
      "Recall (Training): 0.9146699832699575\n",
      "F1 (Training): 0.9146624863459979\n",
      "\b\n",
      "Test Accuracy: 0.8999\n",
      "Precision (Test): 0.8999230245323118\n",
      "Recall (Test): 0.8998564178671116\n",
      "F1 (Test): 0.8998813456420234\n"
     ]
    },
    {
     "name": "stderr",
     "output_type": "stream",
     "text": [
      "/Library/Frameworks/Python.framework/Versions/3.9/lib/python3.9/site-packages/sklearn/linear_model/_logistic.py:763: ConvergenceWarning: lbfgs failed to converge (status=1):\n",
      "STOP: TOTAL NO. of ITERATIONS REACHED LIMIT.\n",
      "\n",
      "Increase the number of iterations (max_iter) or scale the data as shown in:\n",
      "    https://scikit-learn.org/stable/modules/preprocessing.html\n",
      "Please also refer to the documentation for alternative solver options:\n",
      "    https://scikit-learn.org/stable/modules/linear_model.html#logistic-regression\n",
      "  n_iter_i = _check_optimize_result(\n"
     ]
    }
   ],
   "source": [
    "lr = LogisticRegression()\n",
    "lr.fit(X_train, Y_train)\n",
    "print(\"Training Accuracy:\", lr.score(X_train, Y_train))\n",
    "\n",
    "y_pred = lr.predict(X_train)\n",
    "precision, recall, f1, support = precision_recall_fscore_support(Y_train, y_pred, average=\"macro\")\n",
    "print(\"Precision (Training):\", precision)\n",
    "print(\"Recall (Training):\", recall)\n",
    "print(\"F1 (Training):\", f1)\n",
    "\n",
    "print(\"\\b\")\n",
    "\n",
    "print(\"Test Accuracy:\", lr.score(X_test, Y_test))\n",
    "y_pred_test = lr.predict(X_test)\n",
    "precision, recall, f1, support = precision_recall_fscore_support(Y_test, y_pred_test, average=\"macro\")\n",
    "print(\"Precision (Test):\", precision)\n",
    "print(\"Recall (Test):\", recall)\n",
    "print(\"F1 (Test):\", f1)"
   ]
  },
  {
   "cell_type": "markdown",
   "metadata": {},
   "source": [
    "# Naive Bayes"
   ]
  },
  {
   "cell_type": "code",
   "execution_count": 43,
   "metadata": {},
   "outputs": [
    {
     "name": "stdout",
     "output_type": "stream",
     "text": [
      "Training Accuracy: 0.8906875\n",
      "Precision (Training): 0.8909527051463344\n",
      "Recall (Training): 0.8907027408887509\n",
      "F1 (Training): 0.8906715592983733\n",
      "\b\n",
      "Test Accuracy: 0.872075\n",
      "Precision (Test): 0.872466702587781\n",
      "Recall (Test): 0.872000041070888\n",
      "F1 (Test): 0.8720229094048294\n"
     ]
    }
   ],
   "source": [
    "mnb = MultinomialNB()\n",
    "mnb.fit(X_train, Y_train)\n",
    "print(\"Training Accuracy:\", mnb.score(X_train, Y_train))\n",
    "\n",
    "y_pred = mnb.predict(X_train)\n",
    "precision, recall, f1, support = precision_recall_fscore_support(Y_train, y_pred, average=\"macro\")\n",
    "print(\"Precision (Training):\", precision)\n",
    "print(\"Recall (Training):\", recall)\n",
    "print(\"F1 (Training):\", f1)\n",
    "\n",
    "print(\"\\b\")\n",
    "\n",
    "print(\"Test Accuracy:\", mnb.score(X_test, Y_test))\n",
    "y_pred_test = mnb.predict(X_test)\n",
    "precision, recall, f1, support = precision_recall_fscore_support(Y_test, y_pred_test, average=\"macro\")\n",
    "print(\"Precision (Test):\", precision)\n",
    "print(\"Recall (Test):\", recall)\n",
    "print(\"F1 (Test):\", f1)"
   ]
  }
 ],
 "metadata": {
  "kernelspec": {
   "display_name": "Python 3",
   "language": "python",
   "name": "python3"
  },
  "language_info": {
   "codemirror_mode": {
    "name": "ipython",
    "version": 3
   },
   "file_extension": ".py",
   "mimetype": "text/x-python",
   "name": "python",
   "nbconvert_exporter": "python",
   "pygments_lexer": "ipython3",
   "version": "3.9.5"
  }
 },
 "nbformat": 4,
 "nbformat_minor": 4
}
